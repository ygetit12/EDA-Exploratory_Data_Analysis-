{
  "nbformat": 4,
  "nbformat_minor": 0,
  "metadata": {
    "colab": {
      "provenance": []
    },
    "kernelspec": {
      "name": "python3",
      "display_name": "Python 3"
    },
    "language_info": {
      "name": "python"
    }
  },
  "cells": [
    {
      "cell_type": "markdown",
      "source": [
        "###Business Objectives\n",
        "This case study aims to identify patterns which indicate if a client has difficulty paying their installments which may be used for taking actions such as denying the loan, reducing the amount of loan, lending (to risky applicants) at a higher interest rate, etc. This will ensure that the consumers capable of repaying the loan are not rejected. Identification of such applicants using EDA is the aim of this case study.\n",
        " \n",
        "In other words, the company wants to understand the driving factors (or driver variables) behind loan default, i.e. the variables which are strong indicators of default.  The company can utilise this knowledge for its portfolio and risk assessment.\n",
        "To develop your understanding of the domain, you are advised to independently research a little about risk analytics - understanding the types of variables and their significance should be enough)\n"
      ],
      "metadata": {
        "id": "ry7xgrRTrBy2"
      }
    },
    {
      "cell_type": "markdown",
      "source": [
        "##Importing all Require libraries for the case study:"
      ],
      "metadata": {
        "id": "hc2zFs49gsrM"
      }
    },
    {
      "cell_type": "code",
      "source": [
        "import numpy as np\n",
        "import pandas as pd\n",
        "import os\n",
        "import matplotlib\n",
        "import matplotlib.pyplot as plt\n",
        "import seaborn as sns\n",
        "import sklearn\n",
        "from sklearn.model_selection import train_test_split\n",
        "import statsmodels\n",
        "import statsmodels.api as sm\n",
        "from scipy.stats import kurtosis\n",
        "import scipy\n"
      ],
      "metadata": {
        "id": "nsS0p9U6rCh5"
      },
      "execution_count": null,
      "outputs": []
    },
    {
      "cell_type": "markdown",
      "source": [
        "# Importing Data Sets"
      ],
      "metadata": {
        "id": "VhVNPTQxrwBm"
      }
    },
    {
      "cell_type": "code",
      "source": [
        "# 1. 'application_data.csv'  contains all the information of the client at the time of application.\n",
        "#The data is about whether a client has payment difficulties.\n",
        "\n",
        "df=pd.read_csv(\"application_data (1).csv\")"
      ],
      "metadata": {
        "id": "VQ1g_3xKrPlp"
      },
      "execution_count": null,
      "outputs": []
    },
    {
      "cell_type": "code",
      "source": [
        "#2. 'previous_application.csv' contains information about the client’s previous loan data.\n",
        "# It contains the data whether the previous application had been Approved, Canceled, Refused or Unused offer.\n",
        "\n",
        "pa_df=pd.read_csv(\"previous_application.csv\")"
      ],
      "metadata": {
        "id": "WV48SakWxLTe"
      },
      "execution_count": null,
      "outputs": []
    },
    {
      "cell_type": "code",
      "source": [
        "#3. 'columns_description.csv' is a data dictionary which describes the meaning of the variables.\n",
        "\n",
        "col_df=pd.read_csv(\"columns_description.csv\", encoding='latin1')\n"
      ],
      "metadata": {
        "id": "RWCRmSN_5QSw"
      },
      "execution_count": null,
      "outputs": []
    },
    {
      "cell_type": "markdown",
      "source": [
        "###Viewing Data"
      ],
      "metadata": {
        "id": "H78Br2aalCkR"
      }
    },
    {
      "cell_type": "code",
      "source": [
        "#checking first 5 rows of columns description data set\n",
        "col_df.head()"
      ],
      "metadata": {
        "colab": {
          "base_uri": "https://localhost:8080/",
          "height": 206
        },
        "id": "D0gXDFNZ5r-d",
        "outputId": "b05fe544-16ab-4d4a-97e9-5a95033a8225"
      },
      "execution_count": null,
      "outputs": [
        {
          "output_type": "execute_result",
          "data": {
            "text/plain": [
              "   Unnamed: 0             Table                 Row  \\\n",
              "0           1  application_data          SK_ID_CURR   \n",
              "1           2  application_data              TARGET   \n",
              "2           5  application_data  NAME_CONTRACT_TYPE   \n",
              "3           6  application_data         CODE_GENDER   \n",
              "4           7  application_data        FLAG_OWN_CAR   \n",
              "\n",
              "                                         Description Special  \n",
              "0                           ID of loan in our sample     NaN  \n",
              "1  Target variable (1 - client with payment diffi...     NaN  \n",
              "2        Identification if loan is cash or revolving     NaN  \n",
              "3                               Gender of the client     NaN  \n",
              "4                      Flag if the client owns a car     NaN  "
            ],
            "text/html": [
              "\n",
              "  <div id=\"df-4de7ace4-c7ef-4754-a515-4bf76802af4c\">\n",
              "    <div class=\"colab-df-container\">\n",
              "      <div>\n",
              "<style scoped>\n",
              "    .dataframe tbody tr th:only-of-type {\n",
              "        vertical-align: middle;\n",
              "    }\n",
              "\n",
              "    .dataframe tbody tr th {\n",
              "        vertical-align: top;\n",
              "    }\n",
              "\n",
              "    .dataframe thead th {\n",
              "        text-align: right;\n",
              "    }\n",
              "</style>\n",
              "<table border=\"1\" class=\"dataframe\">\n",
              "  <thead>\n",
              "    <tr style=\"text-align: right;\">\n",
              "      <th></th>\n",
              "      <th>Unnamed: 0</th>\n",
              "      <th>Table</th>\n",
              "      <th>Row</th>\n",
              "      <th>Description</th>\n",
              "      <th>Special</th>\n",
              "    </tr>\n",
              "  </thead>\n",
              "  <tbody>\n",
              "    <tr>\n",
              "      <th>0</th>\n",
              "      <td>1</td>\n",
              "      <td>application_data</td>\n",
              "      <td>SK_ID_CURR</td>\n",
              "      <td>ID of loan in our sample</td>\n",
              "      <td>NaN</td>\n",
              "    </tr>\n",
              "    <tr>\n",
              "      <th>1</th>\n",
              "      <td>2</td>\n",
              "      <td>application_data</td>\n",
              "      <td>TARGET</td>\n",
              "      <td>Target variable (1 - client with payment diffi...</td>\n",
              "      <td>NaN</td>\n",
              "    </tr>\n",
              "    <tr>\n",
              "      <th>2</th>\n",
              "      <td>5</td>\n",
              "      <td>application_data</td>\n",
              "      <td>NAME_CONTRACT_TYPE</td>\n",
              "      <td>Identification if loan is cash or revolving</td>\n",
              "      <td>NaN</td>\n",
              "    </tr>\n",
              "    <tr>\n",
              "      <th>3</th>\n",
              "      <td>6</td>\n",
              "      <td>application_data</td>\n",
              "      <td>CODE_GENDER</td>\n",
              "      <td>Gender of the client</td>\n",
              "      <td>NaN</td>\n",
              "    </tr>\n",
              "    <tr>\n",
              "      <th>4</th>\n",
              "      <td>7</td>\n",
              "      <td>application_data</td>\n",
              "      <td>FLAG_OWN_CAR</td>\n",
              "      <td>Flag if the client owns a car</td>\n",
              "      <td>NaN</td>\n",
              "    </tr>\n",
              "  </tbody>\n",
              "</table>\n",
              "</div>\n",
              "      <button class=\"colab-df-convert\" onclick=\"convertToInteractive('df-4de7ace4-c7ef-4754-a515-4bf76802af4c')\"\n",
              "              title=\"Convert this dataframe to an interactive table.\"\n",
              "              style=\"display:none;\">\n",
              "        \n",
              "  <svg xmlns=\"http://www.w3.org/2000/svg\" height=\"24px\"viewBox=\"0 0 24 24\"\n",
              "       width=\"24px\">\n",
              "    <path d=\"M0 0h24v24H0V0z\" fill=\"none\"/>\n",
              "    <path d=\"M18.56 5.44l.94 2.06.94-2.06 2.06-.94-2.06-.94-.94-2.06-.94 2.06-2.06.94zm-11 1L8.5 8.5l.94-2.06 2.06-.94-2.06-.94L8.5 2.5l-.94 2.06-2.06.94zm10 10l.94 2.06.94-2.06 2.06-.94-2.06-.94-.94-2.06-.94 2.06-2.06.94z\"/><path d=\"M17.41 7.96l-1.37-1.37c-.4-.4-.92-.59-1.43-.59-.52 0-1.04.2-1.43.59L10.3 9.45l-7.72 7.72c-.78.78-.78 2.05 0 2.83L4 21.41c.39.39.9.59 1.41.59.51 0 1.02-.2 1.41-.59l7.78-7.78 2.81-2.81c.8-.78.8-2.07 0-2.86zM5.41 20L4 18.59l7.72-7.72 1.47 1.35L5.41 20z\"/>\n",
              "  </svg>\n",
              "      </button>\n",
              "      \n",
              "  <style>\n",
              "    .colab-df-container {\n",
              "      display:flex;\n",
              "      flex-wrap:wrap;\n",
              "      gap: 12px;\n",
              "    }\n",
              "\n",
              "    .colab-df-convert {\n",
              "      background-color: #E8F0FE;\n",
              "      border: none;\n",
              "      border-radius: 50%;\n",
              "      cursor: pointer;\n",
              "      display: none;\n",
              "      fill: #1967D2;\n",
              "      height: 32px;\n",
              "      padding: 0 0 0 0;\n",
              "      width: 32px;\n",
              "    }\n",
              "\n",
              "    .colab-df-convert:hover {\n",
              "      background-color: #E2EBFA;\n",
              "      box-shadow: 0px 1px 2px rgba(60, 64, 67, 0.3), 0px 1px 3px 1px rgba(60, 64, 67, 0.15);\n",
              "      fill: #174EA6;\n",
              "    }\n",
              "\n",
              "    [theme=dark] .colab-df-convert {\n",
              "      background-color: #3B4455;\n",
              "      fill: #D2E3FC;\n",
              "    }\n",
              "\n",
              "    [theme=dark] .colab-df-convert:hover {\n",
              "      background-color: #434B5C;\n",
              "      box-shadow: 0px 1px 3px 1px rgba(0, 0, 0, 0.15);\n",
              "      filter: drop-shadow(0px 1px 2px rgba(0, 0, 0, 0.3));\n",
              "      fill: #FFFFFF;\n",
              "    }\n",
              "  </style>\n",
              "\n",
              "      <script>\n",
              "        const buttonEl =\n",
              "          document.querySelector('#df-4de7ace4-c7ef-4754-a515-4bf76802af4c button.colab-df-convert');\n",
              "        buttonEl.style.display =\n",
              "          google.colab.kernel.accessAllowed ? 'block' : 'none';\n",
              "\n",
              "        async function convertToInteractive(key) {\n",
              "          const element = document.querySelector('#df-4de7ace4-c7ef-4754-a515-4bf76802af4c');\n",
              "          const dataTable =\n",
              "            await google.colab.kernel.invokeFunction('convertToInteractive',\n",
              "                                                     [key], {});\n",
              "          if (!dataTable) return;\n",
              "\n",
              "          const docLinkHtml = 'Like what you see? Visit the ' +\n",
              "            '<a target=\"_blank\" href=https://colab.research.google.com/notebooks/data_table.ipynb>data table notebook</a>'\n",
              "            + ' to learn more about interactive tables.';\n",
              "          element.innerHTML = '';\n",
              "          dataTable['output_type'] = 'display_data';\n",
              "          await google.colab.output.renderOutput(dataTable, element);\n",
              "          const docLink = document.createElement('div');\n",
              "          docLink.innerHTML = docLinkHtml;\n",
              "          element.appendChild(docLink);\n",
              "        }\n",
              "      </script>\n",
              "    </div>\n",
              "  </div>\n",
              "  "
            ]
          },
          "metadata": {},
          "execution_count": 14
        }
      ]
    },
    {
      "cell_type": "code",
      "source": [
        "#Checking names of rows of all the data sets\n",
        "col_df['Row']"
      ],
      "metadata": {
        "colab": {
          "base_uri": "https://localhost:8080/"
        },
        "id": "BS5SKiMa5wfz",
        "outputId": "1014a4c2-b01e-4862-f400-ed037294b3c2"
      },
      "execution_count": null,
      "outputs": [
        {
          "output_type": "execute_result",
          "data": {
            "text/plain": [
              "0                     SK_ID_CURR\n",
              "1                         TARGET\n",
              "2             NAME_CONTRACT_TYPE\n",
              "3                    CODE_GENDER\n",
              "4                   FLAG_OWN_CAR\n",
              "                 ...            \n",
              "155               DAYS_FIRST_DUE\n",
              "156    DAYS_LAST_DUE_1ST_VERSION\n",
              "157                DAYS_LAST_DUE\n",
              "158             DAYS_TERMINATION\n",
              "159    NFLAG_INSURED_ON_APPROVAL\n",
              "Name: Row, Length: 160, dtype: object"
            ]
          },
          "metadata": {},
          "execution_count": 15
        }
      ]
    },
    {
      "cell_type": "code",
      "source": [
        "#chaking shape of columns description data set\n",
        "col_df.shape"
      ],
      "metadata": {
        "colab": {
          "base_uri": "https://localhost:8080/"
        },
        "id": "tz9O53G_6F_H",
        "outputId": "22e884d7-a5ab-43b6-ec3f-3e552ebcf592"
      },
      "execution_count": null,
      "outputs": [
        {
          "output_type": "execute_result",
          "data": {
            "text/plain": [
              "(160, 5)"
            ]
          },
          "metadata": {},
          "execution_count": 16
        }
      ]
    },
    {
      "cell_type": "code",
      "source": [
        "#Displaying the column names, Non-Null Count in each column, and data type of respective column of dataframe using the function df.info\n",
        "col_df.info()"
      ],
      "metadata": {
        "colab": {
          "base_uri": "https://localhost:8080/"
        },
        "id": "9agR4lv1jQqP",
        "outputId": "ccec07a8-517c-4056-d3b5-db7410725d86"
      },
      "execution_count": null,
      "outputs": [
        {
          "output_type": "stream",
          "name": "stdout",
          "text": [
            "<class 'pandas.core.frame.DataFrame'>\n",
            "RangeIndex: 160 entries, 0 to 159\n",
            "Data columns (total 5 columns):\n",
            " #   Column       Non-Null Count  Dtype \n",
            "---  ------       --------------  ----- \n",
            " 0   Unnamed: 0   160 non-null    int64 \n",
            " 1   Table        160 non-null    object\n",
            " 2   Row          160 non-null    object\n",
            " 3   Description  160 non-null    object\n",
            " 4   Special      69 non-null     object\n",
            "dtypes: int64(1), object(4)\n",
            "memory usage: 6.4+ KB\n"
          ]
        }
      ]
    },
    {
      "cell_type": "code",
      "source": [
        "#Cheking first 5 rows of application_data\n",
        "df.head()"
      ],
      "metadata": {
        "colab": {
          "base_uri": "https://localhost:8080/",
          "height": 300
        },
        "id": "GU4dOP0TrgN9",
        "outputId": "5c28c4a2-e98b-4832-cfe4-e589b3e81ed6"
      },
      "execution_count": null,
      "outputs": [
        {
          "output_type": "execute_result",
          "data": {
            "text/plain": [
              "   SK_ID_CURR  TARGET NAME_CONTRACT_TYPE CODE_GENDER FLAG_OWN_CAR  \\\n",
              "0      100002       1         Cash loans           M            N   \n",
              "1      100003       0         Cash loans           F            N   \n",
              "2      100004       0    Revolving loans           M            Y   \n",
              "3      100006       0         Cash loans           F            N   \n",
              "4      100007       0         Cash loans           M            N   \n",
              "\n",
              "  FLAG_OWN_REALTY  CNT_CHILDREN  AMT_INCOME_TOTAL  AMT_CREDIT  AMT_ANNUITY  \\\n",
              "0               Y             0          202500.0    406597.5      24700.5   \n",
              "1               N             0          270000.0   1293502.5      35698.5   \n",
              "2               Y             0           67500.0    135000.0       6750.0   \n",
              "3               Y             0          135000.0    312682.5      29686.5   \n",
              "4               Y             0          121500.0    513000.0      21865.5   \n",
              "\n",
              "   ...  FLAG_DOCUMENT_18 FLAG_DOCUMENT_19 FLAG_DOCUMENT_20 FLAG_DOCUMENT_21  \\\n",
              "0  ...               0.0              0.0              0.0              0.0   \n",
              "1  ...               0.0              0.0              0.0              0.0   \n",
              "2  ...               0.0              0.0              0.0              0.0   \n",
              "3  ...               0.0              0.0              0.0              0.0   \n",
              "4  ...               0.0              0.0              0.0              0.0   \n",
              "\n",
              "  AMT_REQ_CREDIT_BUREAU_HOUR AMT_REQ_CREDIT_BUREAU_DAY  \\\n",
              "0                        0.0                       0.0   \n",
              "1                        0.0                       0.0   \n",
              "2                        0.0                       0.0   \n",
              "3                        NaN                       NaN   \n",
              "4                        0.0                       0.0   \n",
              "\n",
              "   AMT_REQ_CREDIT_BUREAU_WEEK  AMT_REQ_CREDIT_BUREAU_MON  \\\n",
              "0                         0.0                        0.0   \n",
              "1                         0.0                        0.0   \n",
              "2                         0.0                        0.0   \n",
              "3                         NaN                        NaN   \n",
              "4                         0.0                        0.0   \n",
              "\n",
              "   AMT_REQ_CREDIT_BUREAU_QRT  AMT_REQ_CREDIT_BUREAU_YEAR  \n",
              "0                        0.0                         1.0  \n",
              "1                        0.0                         0.0  \n",
              "2                        0.0                         0.0  \n",
              "3                        NaN                         NaN  \n",
              "4                        0.0                         0.0  \n",
              "\n",
              "[5 rows x 122 columns]"
            ],
            "text/html": [
              "\n",
              "  <div id=\"df-3290326d-6596-4696-be18-9f8e69985c0e\">\n",
              "    <div class=\"colab-df-container\">\n",
              "      <div>\n",
              "<style scoped>\n",
              "    .dataframe tbody tr th:only-of-type {\n",
              "        vertical-align: middle;\n",
              "    }\n",
              "\n",
              "    .dataframe tbody tr th {\n",
              "        vertical-align: top;\n",
              "    }\n",
              "\n",
              "    .dataframe thead th {\n",
              "        text-align: right;\n",
              "    }\n",
              "</style>\n",
              "<table border=\"1\" class=\"dataframe\">\n",
              "  <thead>\n",
              "    <tr style=\"text-align: right;\">\n",
              "      <th></th>\n",
              "      <th>SK_ID_CURR</th>\n",
              "      <th>TARGET</th>\n",
              "      <th>NAME_CONTRACT_TYPE</th>\n",
              "      <th>CODE_GENDER</th>\n",
              "      <th>FLAG_OWN_CAR</th>\n",
              "      <th>FLAG_OWN_REALTY</th>\n",
              "      <th>CNT_CHILDREN</th>\n",
              "      <th>AMT_INCOME_TOTAL</th>\n",
              "      <th>AMT_CREDIT</th>\n",
              "      <th>AMT_ANNUITY</th>\n",
              "      <th>...</th>\n",
              "      <th>FLAG_DOCUMENT_18</th>\n",
              "      <th>FLAG_DOCUMENT_19</th>\n",
              "      <th>FLAG_DOCUMENT_20</th>\n",
              "      <th>FLAG_DOCUMENT_21</th>\n",
              "      <th>AMT_REQ_CREDIT_BUREAU_HOUR</th>\n",
              "      <th>AMT_REQ_CREDIT_BUREAU_DAY</th>\n",
              "      <th>AMT_REQ_CREDIT_BUREAU_WEEK</th>\n",
              "      <th>AMT_REQ_CREDIT_BUREAU_MON</th>\n",
              "      <th>AMT_REQ_CREDIT_BUREAU_QRT</th>\n",
              "      <th>AMT_REQ_CREDIT_BUREAU_YEAR</th>\n",
              "    </tr>\n",
              "  </thead>\n",
              "  <tbody>\n",
              "    <tr>\n",
              "      <th>0</th>\n",
              "      <td>100002</td>\n",
              "      <td>1</td>\n",
              "      <td>Cash loans</td>\n",
              "      <td>M</td>\n",
              "      <td>N</td>\n",
              "      <td>Y</td>\n",
              "      <td>0</td>\n",
              "      <td>202500.0</td>\n",
              "      <td>406597.5</td>\n",
              "      <td>24700.5</td>\n",
              "      <td>...</td>\n",
              "      <td>0.0</td>\n",
              "      <td>0.0</td>\n",
              "      <td>0.0</td>\n",
              "      <td>0.0</td>\n",
              "      <td>0.0</td>\n",
              "      <td>0.0</td>\n",
              "      <td>0.0</td>\n",
              "      <td>0.0</td>\n",
              "      <td>0.0</td>\n",
              "      <td>1.0</td>\n",
              "    </tr>\n",
              "    <tr>\n",
              "      <th>1</th>\n",
              "      <td>100003</td>\n",
              "      <td>0</td>\n",
              "      <td>Cash loans</td>\n",
              "      <td>F</td>\n",
              "      <td>N</td>\n",
              "      <td>N</td>\n",
              "      <td>0</td>\n",
              "      <td>270000.0</td>\n",
              "      <td>1293502.5</td>\n",
              "      <td>35698.5</td>\n",
              "      <td>...</td>\n",
              "      <td>0.0</td>\n",
              "      <td>0.0</td>\n",
              "      <td>0.0</td>\n",
              "      <td>0.0</td>\n",
              "      <td>0.0</td>\n",
              "      <td>0.0</td>\n",
              "      <td>0.0</td>\n",
              "      <td>0.0</td>\n",
              "      <td>0.0</td>\n",
              "      <td>0.0</td>\n",
              "    </tr>\n",
              "    <tr>\n",
              "      <th>2</th>\n",
              "      <td>100004</td>\n",
              "      <td>0</td>\n",
              "      <td>Revolving loans</td>\n",
              "      <td>M</td>\n",
              "      <td>Y</td>\n",
              "      <td>Y</td>\n",
              "      <td>0</td>\n",
              "      <td>67500.0</td>\n",
              "      <td>135000.0</td>\n",
              "      <td>6750.0</td>\n",
              "      <td>...</td>\n",
              "      <td>0.0</td>\n",
              "      <td>0.0</td>\n",
              "      <td>0.0</td>\n",
              "      <td>0.0</td>\n",
              "      <td>0.0</td>\n",
              "      <td>0.0</td>\n",
              "      <td>0.0</td>\n",
              "      <td>0.0</td>\n",
              "      <td>0.0</td>\n",
              "      <td>0.0</td>\n",
              "    </tr>\n",
              "    <tr>\n",
              "      <th>3</th>\n",
              "      <td>100006</td>\n",
              "      <td>0</td>\n",
              "      <td>Cash loans</td>\n",
              "      <td>F</td>\n",
              "      <td>N</td>\n",
              "      <td>Y</td>\n",
              "      <td>0</td>\n",
              "      <td>135000.0</td>\n",
              "      <td>312682.5</td>\n",
              "      <td>29686.5</td>\n",
              "      <td>...</td>\n",
              "      <td>0.0</td>\n",
              "      <td>0.0</td>\n",
              "      <td>0.0</td>\n",
              "      <td>0.0</td>\n",
              "      <td>NaN</td>\n",
              "      <td>NaN</td>\n",
              "      <td>NaN</td>\n",
              "      <td>NaN</td>\n",
              "      <td>NaN</td>\n",
              "      <td>NaN</td>\n",
              "    </tr>\n",
              "    <tr>\n",
              "      <th>4</th>\n",
              "      <td>100007</td>\n",
              "      <td>0</td>\n",
              "      <td>Cash loans</td>\n",
              "      <td>M</td>\n",
              "      <td>N</td>\n",
              "      <td>Y</td>\n",
              "      <td>0</td>\n",
              "      <td>121500.0</td>\n",
              "      <td>513000.0</td>\n",
              "      <td>21865.5</td>\n",
              "      <td>...</td>\n",
              "      <td>0.0</td>\n",
              "      <td>0.0</td>\n",
              "      <td>0.0</td>\n",
              "      <td>0.0</td>\n",
              "      <td>0.0</td>\n",
              "      <td>0.0</td>\n",
              "      <td>0.0</td>\n",
              "      <td>0.0</td>\n",
              "      <td>0.0</td>\n",
              "      <td>0.0</td>\n",
              "    </tr>\n",
              "  </tbody>\n",
              "</table>\n",
              "<p>5 rows × 122 columns</p>\n",
              "</div>\n",
              "      <button class=\"colab-df-convert\" onclick=\"convertToInteractive('df-3290326d-6596-4696-be18-9f8e69985c0e')\"\n",
              "              title=\"Convert this dataframe to an interactive table.\"\n",
              "              style=\"display:none;\">\n",
              "        \n",
              "  <svg xmlns=\"http://www.w3.org/2000/svg\" height=\"24px\"viewBox=\"0 0 24 24\"\n",
              "       width=\"24px\">\n",
              "    <path d=\"M0 0h24v24H0V0z\" fill=\"none\"/>\n",
              "    <path d=\"M18.56 5.44l.94 2.06.94-2.06 2.06-.94-2.06-.94-.94-2.06-.94 2.06-2.06.94zm-11 1L8.5 8.5l.94-2.06 2.06-.94-2.06-.94L8.5 2.5l-.94 2.06-2.06.94zm10 10l.94 2.06.94-2.06 2.06-.94-2.06-.94-.94-2.06-.94 2.06-2.06.94z\"/><path d=\"M17.41 7.96l-1.37-1.37c-.4-.4-.92-.59-1.43-.59-.52 0-1.04.2-1.43.59L10.3 9.45l-7.72 7.72c-.78.78-.78 2.05 0 2.83L4 21.41c.39.39.9.59 1.41.59.51 0 1.02-.2 1.41-.59l7.78-7.78 2.81-2.81c.8-.78.8-2.07 0-2.86zM5.41 20L4 18.59l7.72-7.72 1.47 1.35L5.41 20z\"/>\n",
              "  </svg>\n",
              "      </button>\n",
              "      \n",
              "  <style>\n",
              "    .colab-df-container {\n",
              "      display:flex;\n",
              "      flex-wrap:wrap;\n",
              "      gap: 12px;\n",
              "    }\n",
              "\n",
              "    .colab-df-convert {\n",
              "      background-color: #E8F0FE;\n",
              "      border: none;\n",
              "      border-radius: 50%;\n",
              "      cursor: pointer;\n",
              "      display: none;\n",
              "      fill: #1967D2;\n",
              "      height: 32px;\n",
              "      padding: 0 0 0 0;\n",
              "      width: 32px;\n",
              "    }\n",
              "\n",
              "    .colab-df-convert:hover {\n",
              "      background-color: #E2EBFA;\n",
              "      box-shadow: 0px 1px 2px rgba(60, 64, 67, 0.3), 0px 1px 3px 1px rgba(60, 64, 67, 0.15);\n",
              "      fill: #174EA6;\n",
              "    }\n",
              "\n",
              "    [theme=dark] .colab-df-convert {\n",
              "      background-color: #3B4455;\n",
              "      fill: #D2E3FC;\n",
              "    }\n",
              "\n",
              "    [theme=dark] .colab-df-convert:hover {\n",
              "      background-color: #434B5C;\n",
              "      box-shadow: 0px 1px 3px 1px rgba(0, 0, 0, 0.15);\n",
              "      filter: drop-shadow(0px 1px 2px rgba(0, 0, 0, 0.3));\n",
              "      fill: #FFFFFF;\n",
              "    }\n",
              "  </style>\n",
              "\n",
              "      <script>\n",
              "        const buttonEl =\n",
              "          document.querySelector('#df-3290326d-6596-4696-be18-9f8e69985c0e button.colab-df-convert');\n",
              "        buttonEl.style.display =\n",
              "          google.colab.kernel.accessAllowed ? 'block' : 'none';\n",
              "\n",
              "        async function convertToInteractive(key) {\n",
              "          const element = document.querySelector('#df-3290326d-6596-4696-be18-9f8e69985c0e');\n",
              "          const dataTable =\n",
              "            await google.colab.kernel.invokeFunction('convertToInteractive',\n",
              "                                                     [key], {});\n",
              "          if (!dataTable) return;\n",
              "\n",
              "          const docLinkHtml = 'Like what you see? Visit the ' +\n",
              "            '<a target=\"_blank\" href=https://colab.research.google.com/notebooks/data_table.ipynb>data table notebook</a>'\n",
              "            + ' to learn more about interactive tables.';\n",
              "          element.innerHTML = '';\n",
              "          dataTable['output_type'] = 'display_data';\n",
              "          await google.colab.output.renderOutput(dataTable, element);\n",
              "          const docLink = document.createElement('div');\n",
              "          docLink.innerHTML = docLinkHtml;\n",
              "          element.appendChild(docLink);\n",
              "        }\n",
              "      </script>\n",
              "    </div>\n",
              "  </div>\n",
              "  "
            ]
          },
          "metadata": {},
          "execution_count": 18
        }
      ]
    },
    {
      "cell_type": "code",
      "source": [
        "#Cheking first 5 rows of previous_application data\n",
        "pa_df.head()"
      ],
      "metadata": {
        "colab": {
          "base_uri": "https://localhost:8080/",
          "height": 317
        },
        "id": "BYCfjk8VxU0O",
        "outputId": "2d88fb9a-9512-4f93-967a-3ac860576da8"
      },
      "execution_count": null,
      "outputs": [
        {
          "output_type": "execute_result",
          "data": {
            "text/plain": [
              "   SK_ID_PREV  SK_ID_CURR NAME_CONTRACT_TYPE  AMT_ANNUITY  AMT_APPLICATION  \\\n",
              "0     2030495      271877     Consumer loans     1730.430          17145.0   \n",
              "1     2802425      108129         Cash loans    25188.615         607500.0   \n",
              "2     2523466      122040         Cash loans    15060.735         112500.0   \n",
              "3     2819243      176158         Cash loans    47041.335         450000.0   \n",
              "4     1784265      202054         Cash loans    31924.395         337500.0   \n",
              "\n",
              "   AMT_CREDIT  AMT_DOWN_PAYMENT  AMT_GOODS_PRICE WEEKDAY_APPR_PROCESS_START  \\\n",
              "0     17145.0               0.0          17145.0                   SATURDAY   \n",
              "1    679671.0               NaN         607500.0                   THURSDAY   \n",
              "2    136444.5               NaN         112500.0                    TUESDAY   \n",
              "3    470790.0               NaN         450000.0                     MONDAY   \n",
              "4    404055.0               NaN         337500.0                   THURSDAY   \n",
              "\n",
              "   HOUR_APPR_PROCESS_START  ... NAME_SELLER_INDUSTRY  CNT_PAYMENT  \\\n",
              "0                     15.0  ...         Connectivity         12.0   \n",
              "1                     11.0  ...                  XNA         36.0   \n",
              "2                     11.0  ...                  XNA         12.0   \n",
              "3                      7.0  ...                  XNA         12.0   \n",
              "4                      9.0  ...                  XNA         24.0   \n",
              "\n",
              "   NAME_YIELD_GROUP       PRODUCT_COMBINATION  DAYS_FIRST_DRAWING  \\\n",
              "0            middle  POS mobile with interest            365243.0   \n",
              "1        low_action          Cash X-Sell: low            365243.0   \n",
              "2              high         Cash X-Sell: high            365243.0   \n",
              "3            middle       Cash X-Sell: middle            365243.0   \n",
              "4              high         Cash Street: high                 NaN   \n",
              "\n",
              "  DAYS_FIRST_DUE DAYS_LAST_DUE_1ST_VERSION  DAYS_LAST_DUE DAYS_TERMINATION  \\\n",
              "0          -42.0                     300.0          -42.0            -37.0   \n",
              "1         -134.0                     916.0       365243.0         365243.0   \n",
              "2         -271.0                      59.0       365243.0         365243.0   \n",
              "3         -482.0                    -152.0         -182.0           -177.0   \n",
              "4            NaN                       NaN            NaN              NaN   \n",
              "\n",
              "  NFLAG_INSURED_ON_APPROVAL  \n",
              "0                       0.0  \n",
              "1                       1.0  \n",
              "2                       1.0  \n",
              "3                       1.0  \n",
              "4                       NaN  \n",
              "\n",
              "[5 rows x 37 columns]"
            ],
            "text/html": [
              "\n",
              "  <div id=\"df-2e7a8a5b-7707-4c92-9ab8-242642a2dad2\">\n",
              "    <div class=\"colab-df-container\">\n",
              "      <div>\n",
              "<style scoped>\n",
              "    .dataframe tbody tr th:only-of-type {\n",
              "        vertical-align: middle;\n",
              "    }\n",
              "\n",
              "    .dataframe tbody tr th {\n",
              "        vertical-align: top;\n",
              "    }\n",
              "\n",
              "    .dataframe thead th {\n",
              "        text-align: right;\n",
              "    }\n",
              "</style>\n",
              "<table border=\"1\" class=\"dataframe\">\n",
              "  <thead>\n",
              "    <tr style=\"text-align: right;\">\n",
              "      <th></th>\n",
              "      <th>SK_ID_PREV</th>\n",
              "      <th>SK_ID_CURR</th>\n",
              "      <th>NAME_CONTRACT_TYPE</th>\n",
              "      <th>AMT_ANNUITY</th>\n",
              "      <th>AMT_APPLICATION</th>\n",
              "      <th>AMT_CREDIT</th>\n",
              "      <th>AMT_DOWN_PAYMENT</th>\n",
              "      <th>AMT_GOODS_PRICE</th>\n",
              "      <th>WEEKDAY_APPR_PROCESS_START</th>\n",
              "      <th>HOUR_APPR_PROCESS_START</th>\n",
              "      <th>...</th>\n",
              "      <th>NAME_SELLER_INDUSTRY</th>\n",
              "      <th>CNT_PAYMENT</th>\n",
              "      <th>NAME_YIELD_GROUP</th>\n",
              "      <th>PRODUCT_COMBINATION</th>\n",
              "      <th>DAYS_FIRST_DRAWING</th>\n",
              "      <th>DAYS_FIRST_DUE</th>\n",
              "      <th>DAYS_LAST_DUE_1ST_VERSION</th>\n",
              "      <th>DAYS_LAST_DUE</th>\n",
              "      <th>DAYS_TERMINATION</th>\n",
              "      <th>NFLAG_INSURED_ON_APPROVAL</th>\n",
              "    </tr>\n",
              "  </thead>\n",
              "  <tbody>\n",
              "    <tr>\n",
              "      <th>0</th>\n",
              "      <td>2030495</td>\n",
              "      <td>271877</td>\n",
              "      <td>Consumer loans</td>\n",
              "      <td>1730.430</td>\n",
              "      <td>17145.0</td>\n",
              "      <td>17145.0</td>\n",
              "      <td>0.0</td>\n",
              "      <td>17145.0</td>\n",
              "      <td>SATURDAY</td>\n",
              "      <td>15.0</td>\n",
              "      <td>...</td>\n",
              "      <td>Connectivity</td>\n",
              "      <td>12.0</td>\n",
              "      <td>middle</td>\n",
              "      <td>POS mobile with interest</td>\n",
              "      <td>365243.0</td>\n",
              "      <td>-42.0</td>\n",
              "      <td>300.0</td>\n",
              "      <td>-42.0</td>\n",
              "      <td>-37.0</td>\n",
              "      <td>0.0</td>\n",
              "    </tr>\n",
              "    <tr>\n",
              "      <th>1</th>\n",
              "      <td>2802425</td>\n",
              "      <td>108129</td>\n",
              "      <td>Cash loans</td>\n",
              "      <td>25188.615</td>\n",
              "      <td>607500.0</td>\n",
              "      <td>679671.0</td>\n",
              "      <td>NaN</td>\n",
              "      <td>607500.0</td>\n",
              "      <td>THURSDAY</td>\n",
              "      <td>11.0</td>\n",
              "      <td>...</td>\n",
              "      <td>XNA</td>\n",
              "      <td>36.0</td>\n",
              "      <td>low_action</td>\n",
              "      <td>Cash X-Sell: low</td>\n",
              "      <td>365243.0</td>\n",
              "      <td>-134.0</td>\n",
              "      <td>916.0</td>\n",
              "      <td>365243.0</td>\n",
              "      <td>365243.0</td>\n",
              "      <td>1.0</td>\n",
              "    </tr>\n",
              "    <tr>\n",
              "      <th>2</th>\n",
              "      <td>2523466</td>\n",
              "      <td>122040</td>\n",
              "      <td>Cash loans</td>\n",
              "      <td>15060.735</td>\n",
              "      <td>112500.0</td>\n",
              "      <td>136444.5</td>\n",
              "      <td>NaN</td>\n",
              "      <td>112500.0</td>\n",
              "      <td>TUESDAY</td>\n",
              "      <td>11.0</td>\n",
              "      <td>...</td>\n",
              "      <td>XNA</td>\n",
              "      <td>12.0</td>\n",
              "      <td>high</td>\n",
              "      <td>Cash X-Sell: high</td>\n",
              "      <td>365243.0</td>\n",
              "      <td>-271.0</td>\n",
              "      <td>59.0</td>\n",
              "      <td>365243.0</td>\n",
              "      <td>365243.0</td>\n",
              "      <td>1.0</td>\n",
              "    </tr>\n",
              "    <tr>\n",
              "      <th>3</th>\n",
              "      <td>2819243</td>\n",
              "      <td>176158</td>\n",
              "      <td>Cash loans</td>\n",
              "      <td>47041.335</td>\n",
              "      <td>450000.0</td>\n",
              "      <td>470790.0</td>\n",
              "      <td>NaN</td>\n",
              "      <td>450000.0</td>\n",
              "      <td>MONDAY</td>\n",
              "      <td>7.0</td>\n",
              "      <td>...</td>\n",
              "      <td>XNA</td>\n",
              "      <td>12.0</td>\n",
              "      <td>middle</td>\n",
              "      <td>Cash X-Sell: middle</td>\n",
              "      <td>365243.0</td>\n",
              "      <td>-482.0</td>\n",
              "      <td>-152.0</td>\n",
              "      <td>-182.0</td>\n",
              "      <td>-177.0</td>\n",
              "      <td>1.0</td>\n",
              "    </tr>\n",
              "    <tr>\n",
              "      <th>4</th>\n",
              "      <td>1784265</td>\n",
              "      <td>202054</td>\n",
              "      <td>Cash loans</td>\n",
              "      <td>31924.395</td>\n",
              "      <td>337500.0</td>\n",
              "      <td>404055.0</td>\n",
              "      <td>NaN</td>\n",
              "      <td>337500.0</td>\n",
              "      <td>THURSDAY</td>\n",
              "      <td>9.0</td>\n",
              "      <td>...</td>\n",
              "      <td>XNA</td>\n",
              "      <td>24.0</td>\n",
              "      <td>high</td>\n",
              "      <td>Cash Street: high</td>\n",
              "      <td>NaN</td>\n",
              "      <td>NaN</td>\n",
              "      <td>NaN</td>\n",
              "      <td>NaN</td>\n",
              "      <td>NaN</td>\n",
              "      <td>NaN</td>\n",
              "    </tr>\n",
              "  </tbody>\n",
              "</table>\n",
              "<p>5 rows × 37 columns</p>\n",
              "</div>\n",
              "      <button class=\"colab-df-convert\" onclick=\"convertToInteractive('df-2e7a8a5b-7707-4c92-9ab8-242642a2dad2')\"\n",
              "              title=\"Convert this dataframe to an interactive table.\"\n",
              "              style=\"display:none;\">\n",
              "        \n",
              "  <svg xmlns=\"http://www.w3.org/2000/svg\" height=\"24px\"viewBox=\"0 0 24 24\"\n",
              "       width=\"24px\">\n",
              "    <path d=\"M0 0h24v24H0V0z\" fill=\"none\"/>\n",
              "    <path d=\"M18.56 5.44l.94 2.06.94-2.06 2.06-.94-2.06-.94-.94-2.06-.94 2.06-2.06.94zm-11 1L8.5 8.5l.94-2.06 2.06-.94-2.06-.94L8.5 2.5l-.94 2.06-2.06.94zm10 10l.94 2.06.94-2.06 2.06-.94-2.06-.94-.94-2.06-.94 2.06-2.06.94z\"/><path d=\"M17.41 7.96l-1.37-1.37c-.4-.4-.92-.59-1.43-.59-.52 0-1.04.2-1.43.59L10.3 9.45l-7.72 7.72c-.78.78-.78 2.05 0 2.83L4 21.41c.39.39.9.59 1.41.59.51 0 1.02-.2 1.41-.59l7.78-7.78 2.81-2.81c.8-.78.8-2.07 0-2.86zM5.41 20L4 18.59l7.72-7.72 1.47 1.35L5.41 20z\"/>\n",
              "  </svg>\n",
              "      </button>\n",
              "      \n",
              "  <style>\n",
              "    .colab-df-container {\n",
              "      display:flex;\n",
              "      flex-wrap:wrap;\n",
              "      gap: 12px;\n",
              "    }\n",
              "\n",
              "    .colab-df-convert {\n",
              "      background-color: #E8F0FE;\n",
              "      border: none;\n",
              "      border-radius: 50%;\n",
              "      cursor: pointer;\n",
              "      display: none;\n",
              "      fill: #1967D2;\n",
              "      height: 32px;\n",
              "      padding: 0 0 0 0;\n",
              "      width: 32px;\n",
              "    }\n",
              "\n",
              "    .colab-df-convert:hover {\n",
              "      background-color: #E2EBFA;\n",
              "      box-shadow: 0px 1px 2px rgba(60, 64, 67, 0.3), 0px 1px 3px 1px rgba(60, 64, 67, 0.15);\n",
              "      fill: #174EA6;\n",
              "    }\n",
              "\n",
              "    [theme=dark] .colab-df-convert {\n",
              "      background-color: #3B4455;\n",
              "      fill: #D2E3FC;\n",
              "    }\n",
              "\n",
              "    [theme=dark] .colab-df-convert:hover {\n",
              "      background-color: #434B5C;\n",
              "      box-shadow: 0px 1px 3px 1px rgba(0, 0, 0, 0.15);\n",
              "      filter: drop-shadow(0px 1px 2px rgba(0, 0, 0, 0.3));\n",
              "      fill: #FFFFFF;\n",
              "    }\n",
              "  </style>\n",
              "\n",
              "      <script>\n",
              "        const buttonEl =\n",
              "          document.querySelector('#df-2e7a8a5b-7707-4c92-9ab8-242642a2dad2 button.colab-df-convert');\n",
              "        buttonEl.style.display =\n",
              "          google.colab.kernel.accessAllowed ? 'block' : 'none';\n",
              "\n",
              "        async function convertToInteractive(key) {\n",
              "          const element = document.querySelector('#df-2e7a8a5b-7707-4c92-9ab8-242642a2dad2');\n",
              "          const dataTable =\n",
              "            await google.colab.kernel.invokeFunction('convertToInteractive',\n",
              "                                                     [key], {});\n",
              "          if (!dataTable) return;\n",
              "\n",
              "          const docLinkHtml = 'Like what you see? Visit the ' +\n",
              "            '<a target=\"_blank\" href=https://colab.research.google.com/notebooks/data_table.ipynb>data table notebook</a>'\n",
              "            + ' to learn more about interactive tables.';\n",
              "          element.innerHTML = '';\n",
              "          dataTable['output_type'] = 'display_data';\n",
              "          await google.colab.output.renderOutput(dataTable, element);\n",
              "          const docLink = document.createElement('div');\n",
              "          docLink.innerHTML = docLinkHtml;\n",
              "          element.appendChild(docLink);\n",
              "        }\n",
              "      </script>\n",
              "    </div>\n",
              "  </div>\n",
              "  "
            ]
          },
          "metadata": {},
          "execution_count": 19
        }
      ]
    },
    {
      "cell_type": "code",
      "source": [
        "#chcking shape of Application data\n",
        "df.shape"
      ],
      "metadata": {
        "colab": {
          "base_uri": "https://localhost:8080/"
        },
        "id": "WItm4PK7r9T3",
        "outputId": "3a72559f-b2aa-4c7c-e136-c0c80940d6c6"
      },
      "execution_count": null,
      "outputs": [
        {
          "output_type": "execute_result",
          "data": {
            "text/plain": [
              "(112568, 122)"
            ]
          },
          "metadata": {},
          "execution_count": 20
        }
      ]
    },
    {
      "cell_type": "code",
      "source": [
        "#checking Dimention of Application data\n",
        "df.ndim"
      ],
      "metadata": {
        "colab": {
          "base_uri": "https://localhost:8080/"
        },
        "id": "DDmcijBfsU9t",
        "outputId": "89a40c7f-6f4d-4db7-ff61-072e1d04157b"
      },
      "execution_count": null,
      "outputs": [
        {
          "output_type": "execute_result",
          "data": {
            "text/plain": [
              "2"
            ]
          },
          "metadata": {},
          "execution_count": 21
        }
      ]
    },
    {
      "cell_type": "code",
      "source": [
        "#Checking last 5 rows of Application data\n",
        "df.tail()"
      ],
      "metadata": {
        "colab": {
          "base_uri": "https://localhost:8080/",
          "height": 300
        },
        "id": "fa3p83x-s3QH",
        "outputId": "d9b4d767-1c5b-40ca-acd0-7e668f575268"
      },
      "execution_count": null,
      "outputs": [
        {
          "output_type": "execute_result",
          "data": {
            "text/plain": [
              "        SK_ID_CURR  TARGET NAME_CONTRACT_TYPE CODE_GENDER FLAG_OWN_CAR  \\\n",
              "112563      230573       1         Cash loans           F            N   \n",
              "112564      230574       0         Cash loans           F            Y   \n",
              "112565      230575       0    Revolving loans           F            N   \n",
              "112566      230576       0    Revolving loans           F            N   \n",
              "112567      230577       0         Cash loans           M            N   \n",
              "\n",
              "       FLAG_OWN_REALTY  CNT_CHILDREN  AMT_INCOME_TOTAL  AMT_CREDIT  \\\n",
              "112563               Y             0          157500.0    387000.0   \n",
              "112564               Y             1          202500.0   1470330.0   \n",
              "112565               Y             1           90000.0    135000.0   \n",
              "112566               Y             1           54000.0    180000.0   \n",
              "112567               Y             0          135000.0    728460.0   \n",
              "\n",
              "        AMT_ANNUITY  ...  FLAG_DOCUMENT_18 FLAG_DOCUMENT_19 FLAG_DOCUMENT_20  \\\n",
              "112563      26307.0  ...               0.0              0.0              0.0   \n",
              "112564      56002.5  ...               0.0              0.0              0.0   \n",
              "112565       6750.0  ...               0.0              0.0              0.0   \n",
              "112566       9000.0  ...               0.0              0.0              0.0   \n",
              "112567      38938.5  ...               NaN              NaN              NaN   \n",
              "\n",
              "       FLAG_DOCUMENT_21 AMT_REQ_CREDIT_BUREAU_HOUR AMT_REQ_CREDIT_BUREAU_DAY  \\\n",
              "112563              0.0                        0.0                       0.0   \n",
              "112564              0.0                        0.0                       0.0   \n",
              "112565              0.0                        NaN                       NaN   \n",
              "112566              0.0                        0.0                       0.0   \n",
              "112567              NaN                        NaN                       NaN   \n",
              "\n",
              "        AMT_REQ_CREDIT_BUREAU_WEEK  AMT_REQ_CREDIT_BUREAU_MON  \\\n",
              "112563                         0.0                        0.0   \n",
              "112564                         0.0                        0.0   \n",
              "112565                         NaN                        NaN   \n",
              "112566                         0.0                        0.0   \n",
              "112567                         NaN                        NaN   \n",
              "\n",
              "        AMT_REQ_CREDIT_BUREAU_QRT  AMT_REQ_CREDIT_BUREAU_YEAR  \n",
              "112563                        0.0                         0.0  \n",
              "112564                        0.0                         3.0  \n",
              "112565                        NaN                         NaN  \n",
              "112566                        0.0                         0.0  \n",
              "112567                        NaN                         NaN  \n",
              "\n",
              "[5 rows x 122 columns]"
            ],
            "text/html": [
              "\n",
              "  <div id=\"df-85f5181a-d7ad-4f1d-bf1f-b956bf527588\">\n",
              "    <div class=\"colab-df-container\">\n",
              "      <div>\n",
              "<style scoped>\n",
              "    .dataframe tbody tr th:only-of-type {\n",
              "        vertical-align: middle;\n",
              "    }\n",
              "\n",
              "    .dataframe tbody tr th {\n",
              "        vertical-align: top;\n",
              "    }\n",
              "\n",
              "    .dataframe thead th {\n",
              "        text-align: right;\n",
              "    }\n",
              "</style>\n",
              "<table border=\"1\" class=\"dataframe\">\n",
              "  <thead>\n",
              "    <tr style=\"text-align: right;\">\n",
              "      <th></th>\n",
              "      <th>SK_ID_CURR</th>\n",
              "      <th>TARGET</th>\n",
              "      <th>NAME_CONTRACT_TYPE</th>\n",
              "      <th>CODE_GENDER</th>\n",
              "      <th>FLAG_OWN_CAR</th>\n",
              "      <th>FLAG_OWN_REALTY</th>\n",
              "      <th>CNT_CHILDREN</th>\n",
              "      <th>AMT_INCOME_TOTAL</th>\n",
              "      <th>AMT_CREDIT</th>\n",
              "      <th>AMT_ANNUITY</th>\n",
              "      <th>...</th>\n",
              "      <th>FLAG_DOCUMENT_18</th>\n",
              "      <th>FLAG_DOCUMENT_19</th>\n",
              "      <th>FLAG_DOCUMENT_20</th>\n",
              "      <th>FLAG_DOCUMENT_21</th>\n",
              "      <th>AMT_REQ_CREDIT_BUREAU_HOUR</th>\n",
              "      <th>AMT_REQ_CREDIT_BUREAU_DAY</th>\n",
              "      <th>AMT_REQ_CREDIT_BUREAU_WEEK</th>\n",
              "      <th>AMT_REQ_CREDIT_BUREAU_MON</th>\n",
              "      <th>AMT_REQ_CREDIT_BUREAU_QRT</th>\n",
              "      <th>AMT_REQ_CREDIT_BUREAU_YEAR</th>\n",
              "    </tr>\n",
              "  </thead>\n",
              "  <tbody>\n",
              "    <tr>\n",
              "      <th>112563</th>\n",
              "      <td>230573</td>\n",
              "      <td>1</td>\n",
              "      <td>Cash loans</td>\n",
              "      <td>F</td>\n",
              "      <td>N</td>\n",
              "      <td>Y</td>\n",
              "      <td>0</td>\n",
              "      <td>157500.0</td>\n",
              "      <td>387000.0</td>\n",
              "      <td>26307.0</td>\n",
              "      <td>...</td>\n",
              "      <td>0.0</td>\n",
              "      <td>0.0</td>\n",
              "      <td>0.0</td>\n",
              "      <td>0.0</td>\n",
              "      <td>0.0</td>\n",
              "      <td>0.0</td>\n",
              "      <td>0.0</td>\n",
              "      <td>0.0</td>\n",
              "      <td>0.0</td>\n",
              "      <td>0.0</td>\n",
              "    </tr>\n",
              "    <tr>\n",
              "      <th>112564</th>\n",
              "      <td>230574</td>\n",
              "      <td>0</td>\n",
              "      <td>Cash loans</td>\n",
              "      <td>F</td>\n",
              "      <td>Y</td>\n",
              "      <td>Y</td>\n",
              "      <td>1</td>\n",
              "      <td>202500.0</td>\n",
              "      <td>1470330.0</td>\n",
              "      <td>56002.5</td>\n",
              "      <td>...</td>\n",
              "      <td>0.0</td>\n",
              "      <td>0.0</td>\n",
              "      <td>0.0</td>\n",
              "      <td>0.0</td>\n",
              "      <td>0.0</td>\n",
              "      <td>0.0</td>\n",
              "      <td>0.0</td>\n",
              "      <td>0.0</td>\n",
              "      <td>0.0</td>\n",
              "      <td>3.0</td>\n",
              "    </tr>\n",
              "    <tr>\n",
              "      <th>112565</th>\n",
              "      <td>230575</td>\n",
              "      <td>0</td>\n",
              "      <td>Revolving loans</td>\n",
              "      <td>F</td>\n",
              "      <td>N</td>\n",
              "      <td>Y</td>\n",
              "      <td>1</td>\n",
              "      <td>90000.0</td>\n",
              "      <td>135000.0</td>\n",
              "      <td>6750.0</td>\n",
              "      <td>...</td>\n",
              "      <td>0.0</td>\n",
              "      <td>0.0</td>\n",
              "      <td>0.0</td>\n",
              "      <td>0.0</td>\n",
              "      <td>NaN</td>\n",
              "      <td>NaN</td>\n",
              "      <td>NaN</td>\n",
              "      <td>NaN</td>\n",
              "      <td>NaN</td>\n",
              "      <td>NaN</td>\n",
              "    </tr>\n",
              "    <tr>\n",
              "      <th>112566</th>\n",
              "      <td>230576</td>\n",
              "      <td>0</td>\n",
              "      <td>Revolving loans</td>\n",
              "      <td>F</td>\n",
              "      <td>N</td>\n",
              "      <td>Y</td>\n",
              "      <td>1</td>\n",
              "      <td>54000.0</td>\n",
              "      <td>180000.0</td>\n",
              "      <td>9000.0</td>\n",
              "      <td>...</td>\n",
              "      <td>0.0</td>\n",
              "      <td>0.0</td>\n",
              "      <td>0.0</td>\n",
              "      <td>0.0</td>\n",
              "      <td>0.0</td>\n",
              "      <td>0.0</td>\n",
              "      <td>0.0</td>\n",
              "      <td>0.0</td>\n",
              "      <td>0.0</td>\n",
              "      <td>0.0</td>\n",
              "    </tr>\n",
              "    <tr>\n",
              "      <th>112567</th>\n",
              "      <td>230577</td>\n",
              "      <td>0</td>\n",
              "      <td>Cash loans</td>\n",
              "      <td>M</td>\n",
              "      <td>N</td>\n",
              "      <td>Y</td>\n",
              "      <td>0</td>\n",
              "      <td>135000.0</td>\n",
              "      <td>728460.0</td>\n",
              "      <td>38938.5</td>\n",
              "      <td>...</td>\n",
              "      <td>NaN</td>\n",
              "      <td>NaN</td>\n",
              "      <td>NaN</td>\n",
              "      <td>NaN</td>\n",
              "      <td>NaN</td>\n",
              "      <td>NaN</td>\n",
              "      <td>NaN</td>\n",
              "      <td>NaN</td>\n",
              "      <td>NaN</td>\n",
              "      <td>NaN</td>\n",
              "    </tr>\n",
              "  </tbody>\n",
              "</table>\n",
              "<p>5 rows × 122 columns</p>\n",
              "</div>\n",
              "      <button class=\"colab-df-convert\" onclick=\"convertToInteractive('df-85f5181a-d7ad-4f1d-bf1f-b956bf527588')\"\n",
              "              title=\"Convert this dataframe to an interactive table.\"\n",
              "              style=\"display:none;\">\n",
              "        \n",
              "  <svg xmlns=\"http://www.w3.org/2000/svg\" height=\"24px\"viewBox=\"0 0 24 24\"\n",
              "       width=\"24px\">\n",
              "    <path d=\"M0 0h24v24H0V0z\" fill=\"none\"/>\n",
              "    <path d=\"M18.56 5.44l.94 2.06.94-2.06 2.06-.94-2.06-.94-.94-2.06-.94 2.06-2.06.94zm-11 1L8.5 8.5l.94-2.06 2.06-.94-2.06-.94L8.5 2.5l-.94 2.06-2.06.94zm10 10l.94 2.06.94-2.06 2.06-.94-2.06-.94-.94-2.06-.94 2.06-2.06.94z\"/><path d=\"M17.41 7.96l-1.37-1.37c-.4-.4-.92-.59-1.43-.59-.52 0-1.04.2-1.43.59L10.3 9.45l-7.72 7.72c-.78.78-.78 2.05 0 2.83L4 21.41c.39.39.9.59 1.41.59.51 0 1.02-.2 1.41-.59l7.78-7.78 2.81-2.81c.8-.78.8-2.07 0-2.86zM5.41 20L4 18.59l7.72-7.72 1.47 1.35L5.41 20z\"/>\n",
              "  </svg>\n",
              "      </button>\n",
              "      \n",
              "  <style>\n",
              "    .colab-df-container {\n",
              "      display:flex;\n",
              "      flex-wrap:wrap;\n",
              "      gap: 12px;\n",
              "    }\n",
              "\n",
              "    .colab-df-convert {\n",
              "      background-color: #E8F0FE;\n",
              "      border: none;\n",
              "      border-radius: 50%;\n",
              "      cursor: pointer;\n",
              "      display: none;\n",
              "      fill: #1967D2;\n",
              "      height: 32px;\n",
              "      padding: 0 0 0 0;\n",
              "      width: 32px;\n",
              "    }\n",
              "\n",
              "    .colab-df-convert:hover {\n",
              "      background-color: #E2EBFA;\n",
              "      box-shadow: 0px 1px 2px rgba(60, 64, 67, 0.3), 0px 1px 3px 1px rgba(60, 64, 67, 0.15);\n",
              "      fill: #174EA6;\n",
              "    }\n",
              "\n",
              "    [theme=dark] .colab-df-convert {\n",
              "      background-color: #3B4455;\n",
              "      fill: #D2E3FC;\n",
              "    }\n",
              "\n",
              "    [theme=dark] .colab-df-convert:hover {\n",
              "      background-color: #434B5C;\n",
              "      box-shadow: 0px 1px 3px 1px rgba(0, 0, 0, 0.15);\n",
              "      filter: drop-shadow(0px 1px 2px rgba(0, 0, 0, 0.3));\n",
              "      fill: #FFFFFF;\n",
              "    }\n",
              "  </style>\n",
              "\n",
              "      <script>\n",
              "        const buttonEl =\n",
              "          document.querySelector('#df-85f5181a-d7ad-4f1d-bf1f-b956bf527588 button.colab-df-convert');\n",
              "        buttonEl.style.display =\n",
              "          google.colab.kernel.accessAllowed ? 'block' : 'none';\n",
              "\n",
              "        async function convertToInteractive(key) {\n",
              "          const element = document.querySelector('#df-85f5181a-d7ad-4f1d-bf1f-b956bf527588');\n",
              "          const dataTable =\n",
              "            await google.colab.kernel.invokeFunction('convertToInteractive',\n",
              "                                                     [key], {});\n",
              "          if (!dataTable) return;\n",
              "\n",
              "          const docLinkHtml = 'Like what you see? Visit the ' +\n",
              "            '<a target=\"_blank\" href=https://colab.research.google.com/notebooks/data_table.ipynb>data table notebook</a>'\n",
              "            + ' to learn more about interactive tables.';\n",
              "          element.innerHTML = '';\n",
              "          dataTable['output_type'] = 'display_data';\n",
              "          await google.colab.output.renderOutput(dataTable, element);\n",
              "          const docLink = document.createElement('div');\n",
              "          docLink.innerHTML = docLinkHtml;\n",
              "          element.appendChild(docLink);\n",
              "        }\n",
              "      </script>\n",
              "    </div>\n",
              "  </div>\n",
              "  "
            ]
          },
          "metadata": {},
          "execution_count": 22
        }
      ]
    },
    {
      "cell_type": "code",
      "source": [
        "#checking Data types for Application Data\n",
        "df.dtypes"
      ],
      "metadata": {
        "colab": {
          "base_uri": "https://localhost:8080/"
        },
        "id": "aAd_2y_ttILB",
        "outputId": "5413ed19-92aa-45bb-cdac-cadfe72eccd6"
      },
      "execution_count": null,
      "outputs": [
        {
          "output_type": "execute_result",
          "data": {
            "text/plain": [
              "SK_ID_CURR                      int64\n",
              "TARGET                          int64\n",
              "NAME_CONTRACT_TYPE             object\n",
              "CODE_GENDER                    object\n",
              "FLAG_OWN_CAR                   object\n",
              "                               ...   \n",
              "AMT_REQ_CREDIT_BUREAU_DAY     float64\n",
              "AMT_REQ_CREDIT_BUREAU_WEEK    float64\n",
              "AMT_REQ_CREDIT_BUREAU_MON     float64\n",
              "AMT_REQ_CREDIT_BUREAU_QRT     float64\n",
              "AMT_REQ_CREDIT_BUREAU_YEAR    float64\n",
              "Length: 122, dtype: object"
            ]
          },
          "metadata": {},
          "execution_count": 23
        }
      ]
    },
    {
      "cell_type": "code",
      "source": [
        "#Checking the column names, Non-Null Count in each column, and data type of respective column of dataframe using the function df.info\n",
        "df.info()"
      ],
      "metadata": {
        "colab": {
          "base_uri": "https://localhost:8080/"
        },
        "id": "ML6u2IX1thyQ",
        "outputId": "ad33a99f-583d-4ecb-b82a-10ac04c74bfd"
      },
      "execution_count": null,
      "outputs": [
        {
          "output_type": "stream",
          "name": "stdout",
          "text": [
            "<class 'pandas.core.frame.DataFrame'>\n",
            "RangeIndex: 112568 entries, 0 to 112567\n",
            "Columns: 122 entries, SK_ID_CURR to AMT_REQ_CREDIT_BUREAU_YEAR\n",
            "dtypes: float64(85), int64(21), object(16)\n",
            "memory usage: 104.8+ MB\n"
          ]
        }
      ]
    },
    {
      "cell_type": "code",
      "source": [
        "#Gives statestical Description of continues data\n",
        "df.describe()"
      ],
      "metadata": {
        "colab": {
          "base_uri": "https://localhost:8080/",
          "height": 394
        },
        "id": "ItDWFhQ6t6eO",
        "outputId": "1dc32d2f-43a0-4cc4-ac5f-ec3d8e2f92f6"
      },
      "execution_count": null,
      "outputs": [
        {
          "output_type": "execute_result",
          "data": {
            "text/plain": [
              "          SK_ID_CURR         TARGET   CNT_CHILDREN  AMT_INCOME_TOTAL  \\\n",
              "count  112568.000000  112568.000000  112568.000000      1.125680e+05   \n",
              "mean   165299.106735       0.081506       0.417916      1.693523e+05   \n",
              "std     37695.825512       0.273612       0.721349      3.633325e+05   \n",
              "min    100002.000000       0.000000       0.000000      2.565000e+04   \n",
              "25%    132708.750000       0.000000       0.000000      1.125000e+05   \n",
              "50%    165224.500000       0.000000       0.000000      1.440000e+05   \n",
              "75%    197943.250000       0.000000       1.000000      2.025000e+05   \n",
              "max    230577.000000       1.000000      12.000000      1.170000e+08   \n",
              "\n",
              "         AMT_CREDIT    AMT_ANNUITY  AMT_GOODS_PRICE  \\\n",
              "count  1.125680e+05  112561.000000     1.124800e+05   \n",
              "mean   5.988978e+05   27093.243721     5.382569e+05   \n",
              "std    4.022424e+05   14529.828326     3.696342e+05   \n",
              "min    4.500000e+04    1980.000000     4.500000e+04   \n",
              "25%    2.700000e+05   16488.000000     2.385000e+05   \n",
              "50%    5.124465e+05   24885.000000     4.500000e+05   \n",
              "75%    8.086500e+05   34596.000000     6.795000e+05   \n",
              "max    4.050000e+06  258025.500000     4.050000e+06   \n",
              "\n",
              "       REGION_POPULATION_RELATIVE     DAYS_BIRTH  DAYS_EMPLOYED  ...  \\\n",
              "count               112568.000000  112568.000000  112568.000000  ...   \n",
              "mean                     0.020857  -16031.682174   63559.335913  ...   \n",
              "std                      0.013828    4368.315130  141062.951776  ...   \n",
              "min                      0.000533  -25201.000000  -17531.000000  ...   \n",
              "25%                      0.010006  -19676.000000   -2759.000000  ...   \n",
              "50%                      0.018850  -15744.500000   -1217.000000  ...   \n",
              "75%                      0.028663  -12393.000000    -289.000000  ...   \n",
              "max                      0.072508   -7676.000000  365243.000000  ...   \n",
              "\n",
              "       FLAG_DOCUMENT_18  FLAG_DOCUMENT_19  FLAG_DOCUMENT_20  FLAG_DOCUMENT_21  \\\n",
              "count     112567.000000     112567.000000     112567.000000     112567.000000   \n",
              "mean           0.008271          0.000640          0.000515          0.000311   \n",
              "std            0.090567          0.025283          0.022693          0.017630   \n",
              "min            0.000000          0.000000          0.000000          0.000000   \n",
              "25%            0.000000          0.000000          0.000000          0.000000   \n",
              "50%            0.000000          0.000000          0.000000          0.000000   \n",
              "75%            0.000000          0.000000          0.000000          0.000000   \n",
              "max            1.000000          1.000000          1.000000          1.000000   \n",
              "\n",
              "       AMT_REQ_CREDIT_BUREAU_HOUR  AMT_REQ_CREDIT_BUREAU_DAY  \\\n",
              "count                97426.000000               97426.000000   \n",
              "mean                     0.006672                   0.007236   \n",
              "std                      0.086423                   0.109394   \n",
              "min                      0.000000                   0.000000   \n",
              "25%                      0.000000                   0.000000   \n",
              "50%                      0.000000                   0.000000   \n",
              "75%                      0.000000                   0.000000   \n",
              "max                      3.000000                   9.000000   \n",
              "\n",
              "       AMT_REQ_CREDIT_BUREAU_WEEK  AMT_REQ_CREDIT_BUREAU_MON  \\\n",
              "count                97426.000000               97426.000000   \n",
              "mean                     0.033656                   0.267085   \n",
              "std                      0.203198                   0.917826   \n",
              "min                      0.000000                   0.000000   \n",
              "25%                      0.000000                   0.000000   \n",
              "50%                      0.000000                   0.000000   \n",
              "75%                      0.000000                   0.000000   \n",
              "max                      8.000000                  24.000000   \n",
              "\n",
              "       AMT_REQ_CREDIT_BUREAU_QRT  AMT_REQ_CREDIT_BUREAU_YEAR  \n",
              "count               97426.000000                97426.000000  \n",
              "mean                    0.266140                    1.892185  \n",
              "std                     0.613627                    1.872578  \n",
              "min                     0.000000                    0.000000  \n",
              "25%                     0.000000                    0.000000  \n",
              "50%                     0.000000                    1.000000  \n",
              "75%                     0.000000                    3.000000  \n",
              "max                     8.000000                   25.000000  \n",
              "\n",
              "[8 rows x 106 columns]"
            ],
            "text/html": [
              "\n",
              "  <div id=\"df-eb051df8-856e-425d-b69f-0c97fa5989fe\">\n",
              "    <div class=\"colab-df-container\">\n",
              "      <div>\n",
              "<style scoped>\n",
              "    .dataframe tbody tr th:only-of-type {\n",
              "        vertical-align: middle;\n",
              "    }\n",
              "\n",
              "    .dataframe tbody tr th {\n",
              "        vertical-align: top;\n",
              "    }\n",
              "\n",
              "    .dataframe thead th {\n",
              "        text-align: right;\n",
              "    }\n",
              "</style>\n",
              "<table border=\"1\" class=\"dataframe\">\n",
              "  <thead>\n",
              "    <tr style=\"text-align: right;\">\n",
              "      <th></th>\n",
              "      <th>SK_ID_CURR</th>\n",
              "      <th>TARGET</th>\n",
              "      <th>CNT_CHILDREN</th>\n",
              "      <th>AMT_INCOME_TOTAL</th>\n",
              "      <th>AMT_CREDIT</th>\n",
              "      <th>AMT_ANNUITY</th>\n",
              "      <th>AMT_GOODS_PRICE</th>\n",
              "      <th>REGION_POPULATION_RELATIVE</th>\n",
              "      <th>DAYS_BIRTH</th>\n",
              "      <th>DAYS_EMPLOYED</th>\n",
              "      <th>...</th>\n",
              "      <th>FLAG_DOCUMENT_18</th>\n",
              "      <th>FLAG_DOCUMENT_19</th>\n",
              "      <th>FLAG_DOCUMENT_20</th>\n",
              "      <th>FLAG_DOCUMENT_21</th>\n",
              "      <th>AMT_REQ_CREDIT_BUREAU_HOUR</th>\n",
              "      <th>AMT_REQ_CREDIT_BUREAU_DAY</th>\n",
              "      <th>AMT_REQ_CREDIT_BUREAU_WEEK</th>\n",
              "      <th>AMT_REQ_CREDIT_BUREAU_MON</th>\n",
              "      <th>AMT_REQ_CREDIT_BUREAU_QRT</th>\n",
              "      <th>AMT_REQ_CREDIT_BUREAU_YEAR</th>\n",
              "    </tr>\n",
              "  </thead>\n",
              "  <tbody>\n",
              "    <tr>\n",
              "      <th>count</th>\n",
              "      <td>112568.000000</td>\n",
              "      <td>112568.000000</td>\n",
              "      <td>112568.000000</td>\n",
              "      <td>1.125680e+05</td>\n",
              "      <td>1.125680e+05</td>\n",
              "      <td>112561.000000</td>\n",
              "      <td>1.124800e+05</td>\n",
              "      <td>112568.000000</td>\n",
              "      <td>112568.000000</td>\n",
              "      <td>112568.000000</td>\n",
              "      <td>...</td>\n",
              "      <td>112567.000000</td>\n",
              "      <td>112567.000000</td>\n",
              "      <td>112567.000000</td>\n",
              "      <td>112567.000000</td>\n",
              "      <td>97426.000000</td>\n",
              "      <td>97426.000000</td>\n",
              "      <td>97426.000000</td>\n",
              "      <td>97426.000000</td>\n",
              "      <td>97426.000000</td>\n",
              "      <td>97426.000000</td>\n",
              "    </tr>\n",
              "    <tr>\n",
              "      <th>mean</th>\n",
              "      <td>165299.106735</td>\n",
              "      <td>0.081506</td>\n",
              "      <td>0.417916</td>\n",
              "      <td>1.693523e+05</td>\n",
              "      <td>5.988978e+05</td>\n",
              "      <td>27093.243721</td>\n",
              "      <td>5.382569e+05</td>\n",
              "      <td>0.020857</td>\n",
              "      <td>-16031.682174</td>\n",
              "      <td>63559.335913</td>\n",
              "      <td>...</td>\n",
              "      <td>0.008271</td>\n",
              "      <td>0.000640</td>\n",
              "      <td>0.000515</td>\n",
              "      <td>0.000311</td>\n",
              "      <td>0.006672</td>\n",
              "      <td>0.007236</td>\n",
              "      <td>0.033656</td>\n",
              "      <td>0.267085</td>\n",
              "      <td>0.266140</td>\n",
              "      <td>1.892185</td>\n",
              "    </tr>\n",
              "    <tr>\n",
              "      <th>std</th>\n",
              "      <td>37695.825512</td>\n",
              "      <td>0.273612</td>\n",
              "      <td>0.721349</td>\n",
              "      <td>3.633325e+05</td>\n",
              "      <td>4.022424e+05</td>\n",
              "      <td>14529.828326</td>\n",
              "      <td>3.696342e+05</td>\n",
              "      <td>0.013828</td>\n",
              "      <td>4368.315130</td>\n",
              "      <td>141062.951776</td>\n",
              "      <td>...</td>\n",
              "      <td>0.090567</td>\n",
              "      <td>0.025283</td>\n",
              "      <td>0.022693</td>\n",
              "      <td>0.017630</td>\n",
              "      <td>0.086423</td>\n",
              "      <td>0.109394</td>\n",
              "      <td>0.203198</td>\n",
              "      <td>0.917826</td>\n",
              "      <td>0.613627</td>\n",
              "      <td>1.872578</td>\n",
              "    </tr>\n",
              "    <tr>\n",
              "      <th>min</th>\n",
              "      <td>100002.000000</td>\n",
              "      <td>0.000000</td>\n",
              "      <td>0.000000</td>\n",
              "      <td>2.565000e+04</td>\n",
              "      <td>4.500000e+04</td>\n",
              "      <td>1980.000000</td>\n",
              "      <td>4.500000e+04</td>\n",
              "      <td>0.000533</td>\n",
              "      <td>-25201.000000</td>\n",
              "      <td>-17531.000000</td>\n",
              "      <td>...</td>\n",
              "      <td>0.000000</td>\n",
              "      <td>0.000000</td>\n",
              "      <td>0.000000</td>\n",
              "      <td>0.000000</td>\n",
              "      <td>0.000000</td>\n",
              "      <td>0.000000</td>\n",
              "      <td>0.000000</td>\n",
              "      <td>0.000000</td>\n",
              "      <td>0.000000</td>\n",
              "      <td>0.000000</td>\n",
              "    </tr>\n",
              "    <tr>\n",
              "      <th>25%</th>\n",
              "      <td>132708.750000</td>\n",
              "      <td>0.000000</td>\n",
              "      <td>0.000000</td>\n",
              "      <td>1.125000e+05</td>\n",
              "      <td>2.700000e+05</td>\n",
              "      <td>16488.000000</td>\n",
              "      <td>2.385000e+05</td>\n",
              "      <td>0.010006</td>\n",
              "      <td>-19676.000000</td>\n",
              "      <td>-2759.000000</td>\n",
              "      <td>...</td>\n",
              "      <td>0.000000</td>\n",
              "      <td>0.000000</td>\n",
              "      <td>0.000000</td>\n",
              "      <td>0.000000</td>\n",
              "      <td>0.000000</td>\n",
              "      <td>0.000000</td>\n",
              "      <td>0.000000</td>\n",
              "      <td>0.000000</td>\n",
              "      <td>0.000000</td>\n",
              "      <td>0.000000</td>\n",
              "    </tr>\n",
              "    <tr>\n",
              "      <th>50%</th>\n",
              "      <td>165224.500000</td>\n",
              "      <td>0.000000</td>\n",
              "      <td>0.000000</td>\n",
              "      <td>1.440000e+05</td>\n",
              "      <td>5.124465e+05</td>\n",
              "      <td>24885.000000</td>\n",
              "      <td>4.500000e+05</td>\n",
              "      <td>0.018850</td>\n",
              "      <td>-15744.500000</td>\n",
              "      <td>-1217.000000</td>\n",
              "      <td>...</td>\n",
              "      <td>0.000000</td>\n",
              "      <td>0.000000</td>\n",
              "      <td>0.000000</td>\n",
              "      <td>0.000000</td>\n",
              "      <td>0.000000</td>\n",
              "      <td>0.000000</td>\n",
              "      <td>0.000000</td>\n",
              "      <td>0.000000</td>\n",
              "      <td>0.000000</td>\n",
              "      <td>1.000000</td>\n",
              "    </tr>\n",
              "    <tr>\n",
              "      <th>75%</th>\n",
              "      <td>197943.250000</td>\n",
              "      <td>0.000000</td>\n",
              "      <td>1.000000</td>\n",
              "      <td>2.025000e+05</td>\n",
              "      <td>8.086500e+05</td>\n",
              "      <td>34596.000000</td>\n",
              "      <td>6.795000e+05</td>\n",
              "      <td>0.028663</td>\n",
              "      <td>-12393.000000</td>\n",
              "      <td>-289.000000</td>\n",
              "      <td>...</td>\n",
              "      <td>0.000000</td>\n",
              "      <td>0.000000</td>\n",
              "      <td>0.000000</td>\n",
              "      <td>0.000000</td>\n",
              "      <td>0.000000</td>\n",
              "      <td>0.000000</td>\n",
              "      <td>0.000000</td>\n",
              "      <td>0.000000</td>\n",
              "      <td>0.000000</td>\n",
              "      <td>3.000000</td>\n",
              "    </tr>\n",
              "    <tr>\n",
              "      <th>max</th>\n",
              "      <td>230577.000000</td>\n",
              "      <td>1.000000</td>\n",
              "      <td>12.000000</td>\n",
              "      <td>1.170000e+08</td>\n",
              "      <td>4.050000e+06</td>\n",
              "      <td>258025.500000</td>\n",
              "      <td>4.050000e+06</td>\n",
              "      <td>0.072508</td>\n",
              "      <td>-7676.000000</td>\n",
              "      <td>365243.000000</td>\n",
              "      <td>...</td>\n",
              "      <td>1.000000</td>\n",
              "      <td>1.000000</td>\n",
              "      <td>1.000000</td>\n",
              "      <td>1.000000</td>\n",
              "      <td>3.000000</td>\n",
              "      <td>9.000000</td>\n",
              "      <td>8.000000</td>\n",
              "      <td>24.000000</td>\n",
              "      <td>8.000000</td>\n",
              "      <td>25.000000</td>\n",
              "    </tr>\n",
              "  </tbody>\n",
              "</table>\n",
              "<p>8 rows × 106 columns</p>\n",
              "</div>\n",
              "      <button class=\"colab-df-convert\" onclick=\"convertToInteractive('df-eb051df8-856e-425d-b69f-0c97fa5989fe')\"\n",
              "              title=\"Convert this dataframe to an interactive table.\"\n",
              "              style=\"display:none;\">\n",
              "        \n",
              "  <svg xmlns=\"http://www.w3.org/2000/svg\" height=\"24px\"viewBox=\"0 0 24 24\"\n",
              "       width=\"24px\">\n",
              "    <path d=\"M0 0h24v24H0V0z\" fill=\"none\"/>\n",
              "    <path d=\"M18.56 5.44l.94 2.06.94-2.06 2.06-.94-2.06-.94-.94-2.06-.94 2.06-2.06.94zm-11 1L8.5 8.5l.94-2.06 2.06-.94-2.06-.94L8.5 2.5l-.94 2.06-2.06.94zm10 10l.94 2.06.94-2.06 2.06-.94-2.06-.94-.94-2.06-.94 2.06-2.06.94z\"/><path d=\"M17.41 7.96l-1.37-1.37c-.4-.4-.92-.59-1.43-.59-.52 0-1.04.2-1.43.59L10.3 9.45l-7.72 7.72c-.78.78-.78 2.05 0 2.83L4 21.41c.39.39.9.59 1.41.59.51 0 1.02-.2 1.41-.59l7.78-7.78 2.81-2.81c.8-.78.8-2.07 0-2.86zM5.41 20L4 18.59l7.72-7.72 1.47 1.35L5.41 20z\"/>\n",
              "  </svg>\n",
              "      </button>\n",
              "      \n",
              "  <style>\n",
              "    .colab-df-container {\n",
              "      display:flex;\n",
              "      flex-wrap:wrap;\n",
              "      gap: 12px;\n",
              "    }\n",
              "\n",
              "    .colab-df-convert {\n",
              "      background-color: #E8F0FE;\n",
              "      border: none;\n",
              "      border-radius: 50%;\n",
              "      cursor: pointer;\n",
              "      display: none;\n",
              "      fill: #1967D2;\n",
              "      height: 32px;\n",
              "      padding: 0 0 0 0;\n",
              "      width: 32px;\n",
              "    }\n",
              "\n",
              "    .colab-df-convert:hover {\n",
              "      background-color: #E2EBFA;\n",
              "      box-shadow: 0px 1px 2px rgba(60, 64, 67, 0.3), 0px 1px 3px 1px rgba(60, 64, 67, 0.15);\n",
              "      fill: #174EA6;\n",
              "    }\n",
              "\n",
              "    [theme=dark] .colab-df-convert {\n",
              "      background-color: #3B4455;\n",
              "      fill: #D2E3FC;\n",
              "    }\n",
              "\n",
              "    [theme=dark] .colab-df-convert:hover {\n",
              "      background-color: #434B5C;\n",
              "      box-shadow: 0px 1px 3px 1px rgba(0, 0, 0, 0.15);\n",
              "      filter: drop-shadow(0px 1px 2px rgba(0, 0, 0, 0.3));\n",
              "      fill: #FFFFFF;\n",
              "    }\n",
              "  </style>\n",
              "\n",
              "      <script>\n",
              "        const buttonEl =\n",
              "          document.querySelector('#df-eb051df8-856e-425d-b69f-0c97fa5989fe button.colab-df-convert');\n",
              "        buttonEl.style.display =\n",
              "          google.colab.kernel.accessAllowed ? 'block' : 'none';\n",
              "\n",
              "        async function convertToInteractive(key) {\n",
              "          const element = document.querySelector('#df-eb051df8-856e-425d-b69f-0c97fa5989fe');\n",
              "          const dataTable =\n",
              "            await google.colab.kernel.invokeFunction('convertToInteractive',\n",
              "                                                     [key], {});\n",
              "          if (!dataTable) return;\n",
              "\n",
              "          const docLinkHtml = 'Like what you see? Visit the ' +\n",
              "            '<a target=\"_blank\" href=https://colab.research.google.com/notebooks/data_table.ipynb>data table notebook</a>'\n",
              "            + ' to learn more about interactive tables.';\n",
              "          element.innerHTML = '';\n",
              "          dataTable['output_type'] = 'display_data';\n",
              "          await google.colab.output.renderOutput(dataTable, element);\n",
              "          const docLink = document.createElement('div');\n",
              "          docLink.innerHTML = docLinkHtml;\n",
              "          element.appendChild(docLink);\n",
              "        }\n",
              "      </script>\n",
              "    </div>\n",
              "  </div>\n",
              "  "
            ]
          },
          "metadata": {},
          "execution_count": 25
        }
      ]
    },
    {
      "cell_type": "code",
      "source": [
        "#Gives statestical Description of all columns including catorgerical data\n",
        "df.describe(include='all')\n"
      ],
      "metadata": {
        "colab": {
          "base_uri": "https://localhost:8080/",
          "height": 488
        },
        "id": "Pw0t-boyu8eE",
        "outputId": "39a8f322-0f53-4684-c54f-06bdcd9cf776"
      },
      "execution_count": null,
      "outputs": [
        {
          "output_type": "execute_result",
          "data": {
            "text/plain": [
              "           SK_ID_CURR         TARGET NAME_CONTRACT_TYPE CODE_GENDER  \\\n",
              "count   112568.000000  112568.000000             112568      112568   \n",
              "unique            NaN            NaN                  2           3   \n",
              "top               NaN            NaN         Cash loans           F   \n",
              "freq              NaN            NaN             101897       74089   \n",
              "mean    165299.106735       0.081506                NaN         NaN   \n",
              "std      37695.825512       0.273612                NaN         NaN   \n",
              "min     100002.000000       0.000000                NaN         NaN   \n",
              "25%     132708.750000       0.000000                NaN         NaN   \n",
              "50%     165224.500000       0.000000                NaN         NaN   \n",
              "75%     197943.250000       0.000000                NaN         NaN   \n",
              "max     230577.000000       1.000000                NaN         NaN   \n",
              "\n",
              "       FLAG_OWN_CAR FLAG_OWN_REALTY   CNT_CHILDREN  AMT_INCOME_TOTAL  \\\n",
              "count        112568          112568  112568.000000      1.125680e+05   \n",
              "unique            2               2            NaN               NaN   \n",
              "top               N               Y            NaN               NaN   \n",
              "freq          74368           78095            NaN               NaN   \n",
              "mean            NaN             NaN       0.417916      1.693523e+05   \n",
              "std             NaN             NaN       0.721349      3.633325e+05   \n",
              "min             NaN             NaN       0.000000      2.565000e+04   \n",
              "25%             NaN             NaN       0.000000      1.125000e+05   \n",
              "50%             NaN             NaN       0.000000      1.440000e+05   \n",
              "75%             NaN             NaN       1.000000      2.025000e+05   \n",
              "max             NaN             NaN      12.000000      1.170000e+08   \n",
              "\n",
              "          AMT_CREDIT    AMT_ANNUITY  ...  FLAG_DOCUMENT_18 FLAG_DOCUMENT_19  \\\n",
              "count   1.125680e+05  112561.000000  ...     112567.000000    112567.000000   \n",
              "unique           NaN            NaN  ...               NaN              NaN   \n",
              "top              NaN            NaN  ...               NaN              NaN   \n",
              "freq             NaN            NaN  ...               NaN              NaN   \n",
              "mean    5.988978e+05   27093.243721  ...          0.008271         0.000640   \n",
              "std     4.022424e+05   14529.828326  ...          0.090567         0.025283   \n",
              "min     4.500000e+04    1980.000000  ...          0.000000         0.000000   \n",
              "25%     2.700000e+05   16488.000000  ...          0.000000         0.000000   \n",
              "50%     5.124465e+05   24885.000000  ...          0.000000         0.000000   \n",
              "75%     8.086500e+05   34596.000000  ...          0.000000         0.000000   \n",
              "max     4.050000e+06  258025.500000  ...          1.000000         1.000000   \n",
              "\n",
              "       FLAG_DOCUMENT_20 FLAG_DOCUMENT_21 AMT_REQ_CREDIT_BUREAU_HOUR  \\\n",
              "count     112567.000000    112567.000000               97426.000000   \n",
              "unique              NaN              NaN                        NaN   \n",
              "top                 NaN              NaN                        NaN   \n",
              "freq                NaN              NaN                        NaN   \n",
              "mean           0.000515         0.000311                   0.006672   \n",
              "std            0.022693         0.017630                   0.086423   \n",
              "min            0.000000         0.000000                   0.000000   \n",
              "25%            0.000000         0.000000                   0.000000   \n",
              "50%            0.000000         0.000000                   0.000000   \n",
              "75%            0.000000         0.000000                   0.000000   \n",
              "max            1.000000         1.000000                   3.000000   \n",
              "\n",
              "       AMT_REQ_CREDIT_BUREAU_DAY  AMT_REQ_CREDIT_BUREAU_WEEK  \\\n",
              "count               97426.000000                97426.000000   \n",
              "unique                       NaN                         NaN   \n",
              "top                          NaN                         NaN   \n",
              "freq                         NaN                         NaN   \n",
              "mean                    0.007236                    0.033656   \n",
              "std                     0.109394                    0.203198   \n",
              "min                     0.000000                    0.000000   \n",
              "25%                     0.000000                    0.000000   \n",
              "50%                     0.000000                    0.000000   \n",
              "75%                     0.000000                    0.000000   \n",
              "max                     9.000000                    8.000000   \n",
              "\n",
              "        AMT_REQ_CREDIT_BUREAU_MON  AMT_REQ_CREDIT_BUREAU_QRT  \\\n",
              "count                97426.000000               97426.000000   \n",
              "unique                        NaN                        NaN   \n",
              "top                           NaN                        NaN   \n",
              "freq                          NaN                        NaN   \n",
              "mean                     0.267085                   0.266140   \n",
              "std                      0.917826                   0.613627   \n",
              "min                      0.000000                   0.000000   \n",
              "25%                      0.000000                   0.000000   \n",
              "50%                      0.000000                   0.000000   \n",
              "75%                      0.000000                   0.000000   \n",
              "max                     24.000000                   8.000000   \n",
              "\n",
              "        AMT_REQ_CREDIT_BUREAU_YEAR  \n",
              "count                 97426.000000  \n",
              "unique                         NaN  \n",
              "top                            NaN  \n",
              "freq                           NaN  \n",
              "mean                      1.892185  \n",
              "std                       1.872578  \n",
              "min                       0.000000  \n",
              "25%                       0.000000  \n",
              "50%                       1.000000  \n",
              "75%                       3.000000  \n",
              "max                      25.000000  \n",
              "\n",
              "[11 rows x 122 columns]"
            ],
            "text/html": [
              "\n",
              "  <div id=\"df-508dae1a-a0e8-406d-8cba-16d0019a77fc\">\n",
              "    <div class=\"colab-df-container\">\n",
              "      <div>\n",
              "<style scoped>\n",
              "    .dataframe tbody tr th:only-of-type {\n",
              "        vertical-align: middle;\n",
              "    }\n",
              "\n",
              "    .dataframe tbody tr th {\n",
              "        vertical-align: top;\n",
              "    }\n",
              "\n",
              "    .dataframe thead th {\n",
              "        text-align: right;\n",
              "    }\n",
              "</style>\n",
              "<table border=\"1\" class=\"dataframe\">\n",
              "  <thead>\n",
              "    <tr style=\"text-align: right;\">\n",
              "      <th></th>\n",
              "      <th>SK_ID_CURR</th>\n",
              "      <th>TARGET</th>\n",
              "      <th>NAME_CONTRACT_TYPE</th>\n",
              "      <th>CODE_GENDER</th>\n",
              "      <th>FLAG_OWN_CAR</th>\n",
              "      <th>FLAG_OWN_REALTY</th>\n",
              "      <th>CNT_CHILDREN</th>\n",
              "      <th>AMT_INCOME_TOTAL</th>\n",
              "      <th>AMT_CREDIT</th>\n",
              "      <th>AMT_ANNUITY</th>\n",
              "      <th>...</th>\n",
              "      <th>FLAG_DOCUMENT_18</th>\n",
              "      <th>FLAG_DOCUMENT_19</th>\n",
              "      <th>FLAG_DOCUMENT_20</th>\n",
              "      <th>FLAG_DOCUMENT_21</th>\n",
              "      <th>AMT_REQ_CREDIT_BUREAU_HOUR</th>\n",
              "      <th>AMT_REQ_CREDIT_BUREAU_DAY</th>\n",
              "      <th>AMT_REQ_CREDIT_BUREAU_WEEK</th>\n",
              "      <th>AMT_REQ_CREDIT_BUREAU_MON</th>\n",
              "      <th>AMT_REQ_CREDIT_BUREAU_QRT</th>\n",
              "      <th>AMT_REQ_CREDIT_BUREAU_YEAR</th>\n",
              "    </tr>\n",
              "  </thead>\n",
              "  <tbody>\n",
              "    <tr>\n",
              "      <th>count</th>\n",
              "      <td>112568.000000</td>\n",
              "      <td>112568.000000</td>\n",
              "      <td>112568</td>\n",
              "      <td>112568</td>\n",
              "      <td>112568</td>\n",
              "      <td>112568</td>\n",
              "      <td>112568.000000</td>\n",
              "      <td>1.125680e+05</td>\n",
              "      <td>1.125680e+05</td>\n",
              "      <td>112561.000000</td>\n",
              "      <td>...</td>\n",
              "      <td>112567.000000</td>\n",
              "      <td>112567.000000</td>\n",
              "      <td>112567.000000</td>\n",
              "      <td>112567.000000</td>\n",
              "      <td>97426.000000</td>\n",
              "      <td>97426.000000</td>\n",
              "      <td>97426.000000</td>\n",
              "      <td>97426.000000</td>\n",
              "      <td>97426.000000</td>\n",
              "      <td>97426.000000</td>\n",
              "    </tr>\n",
              "    <tr>\n",
              "      <th>unique</th>\n",
              "      <td>NaN</td>\n",
              "      <td>NaN</td>\n",
              "      <td>2</td>\n",
              "      <td>3</td>\n",
              "      <td>2</td>\n",
              "      <td>2</td>\n",
              "      <td>NaN</td>\n",
              "      <td>NaN</td>\n",
              "      <td>NaN</td>\n",
              "      <td>NaN</td>\n",
              "      <td>...</td>\n",
              "      <td>NaN</td>\n",
              "      <td>NaN</td>\n",
              "      <td>NaN</td>\n",
              "      <td>NaN</td>\n",
              "      <td>NaN</td>\n",
              "      <td>NaN</td>\n",
              "      <td>NaN</td>\n",
              "      <td>NaN</td>\n",
              "      <td>NaN</td>\n",
              "      <td>NaN</td>\n",
              "    </tr>\n",
              "    <tr>\n",
              "      <th>top</th>\n",
              "      <td>NaN</td>\n",
              "      <td>NaN</td>\n",
              "      <td>Cash loans</td>\n",
              "      <td>F</td>\n",
              "      <td>N</td>\n",
              "      <td>Y</td>\n",
              "      <td>NaN</td>\n",
              "      <td>NaN</td>\n",
              "      <td>NaN</td>\n",
              "      <td>NaN</td>\n",
              "      <td>...</td>\n",
              "      <td>NaN</td>\n",
              "      <td>NaN</td>\n",
              "      <td>NaN</td>\n",
              "      <td>NaN</td>\n",
              "      <td>NaN</td>\n",
              "      <td>NaN</td>\n",
              "      <td>NaN</td>\n",
              "      <td>NaN</td>\n",
              "      <td>NaN</td>\n",
              "      <td>NaN</td>\n",
              "    </tr>\n",
              "    <tr>\n",
              "      <th>freq</th>\n",
              "      <td>NaN</td>\n",
              "      <td>NaN</td>\n",
              "      <td>101897</td>\n",
              "      <td>74089</td>\n",
              "      <td>74368</td>\n",
              "      <td>78095</td>\n",
              "      <td>NaN</td>\n",
              "      <td>NaN</td>\n",
              "      <td>NaN</td>\n",
              "      <td>NaN</td>\n",
              "      <td>...</td>\n",
              "      <td>NaN</td>\n",
              "      <td>NaN</td>\n",
              "      <td>NaN</td>\n",
              "      <td>NaN</td>\n",
              "      <td>NaN</td>\n",
              "      <td>NaN</td>\n",
              "      <td>NaN</td>\n",
              "      <td>NaN</td>\n",
              "      <td>NaN</td>\n",
              "      <td>NaN</td>\n",
              "    </tr>\n",
              "    <tr>\n",
              "      <th>mean</th>\n",
              "      <td>165299.106735</td>\n",
              "      <td>0.081506</td>\n",
              "      <td>NaN</td>\n",
              "      <td>NaN</td>\n",
              "      <td>NaN</td>\n",
              "      <td>NaN</td>\n",
              "      <td>0.417916</td>\n",
              "      <td>1.693523e+05</td>\n",
              "      <td>5.988978e+05</td>\n",
              "      <td>27093.243721</td>\n",
              "      <td>...</td>\n",
              "      <td>0.008271</td>\n",
              "      <td>0.000640</td>\n",
              "      <td>0.000515</td>\n",
              "      <td>0.000311</td>\n",
              "      <td>0.006672</td>\n",
              "      <td>0.007236</td>\n",
              "      <td>0.033656</td>\n",
              "      <td>0.267085</td>\n",
              "      <td>0.266140</td>\n",
              "      <td>1.892185</td>\n",
              "    </tr>\n",
              "    <tr>\n",
              "      <th>std</th>\n",
              "      <td>37695.825512</td>\n",
              "      <td>0.273612</td>\n",
              "      <td>NaN</td>\n",
              "      <td>NaN</td>\n",
              "      <td>NaN</td>\n",
              "      <td>NaN</td>\n",
              "      <td>0.721349</td>\n",
              "      <td>3.633325e+05</td>\n",
              "      <td>4.022424e+05</td>\n",
              "      <td>14529.828326</td>\n",
              "      <td>...</td>\n",
              "      <td>0.090567</td>\n",
              "      <td>0.025283</td>\n",
              "      <td>0.022693</td>\n",
              "      <td>0.017630</td>\n",
              "      <td>0.086423</td>\n",
              "      <td>0.109394</td>\n",
              "      <td>0.203198</td>\n",
              "      <td>0.917826</td>\n",
              "      <td>0.613627</td>\n",
              "      <td>1.872578</td>\n",
              "    </tr>\n",
              "    <tr>\n",
              "      <th>min</th>\n",
              "      <td>100002.000000</td>\n",
              "      <td>0.000000</td>\n",
              "      <td>NaN</td>\n",
              "      <td>NaN</td>\n",
              "      <td>NaN</td>\n",
              "      <td>NaN</td>\n",
              "      <td>0.000000</td>\n",
              "      <td>2.565000e+04</td>\n",
              "      <td>4.500000e+04</td>\n",
              "      <td>1980.000000</td>\n",
              "      <td>...</td>\n",
              "      <td>0.000000</td>\n",
              "      <td>0.000000</td>\n",
              "      <td>0.000000</td>\n",
              "      <td>0.000000</td>\n",
              "      <td>0.000000</td>\n",
              "      <td>0.000000</td>\n",
              "      <td>0.000000</td>\n",
              "      <td>0.000000</td>\n",
              "      <td>0.000000</td>\n",
              "      <td>0.000000</td>\n",
              "    </tr>\n",
              "    <tr>\n",
              "      <th>25%</th>\n",
              "      <td>132708.750000</td>\n",
              "      <td>0.000000</td>\n",
              "      <td>NaN</td>\n",
              "      <td>NaN</td>\n",
              "      <td>NaN</td>\n",
              "      <td>NaN</td>\n",
              "      <td>0.000000</td>\n",
              "      <td>1.125000e+05</td>\n",
              "      <td>2.700000e+05</td>\n",
              "      <td>16488.000000</td>\n",
              "      <td>...</td>\n",
              "      <td>0.000000</td>\n",
              "      <td>0.000000</td>\n",
              "      <td>0.000000</td>\n",
              "      <td>0.000000</td>\n",
              "      <td>0.000000</td>\n",
              "      <td>0.000000</td>\n",
              "      <td>0.000000</td>\n",
              "      <td>0.000000</td>\n",
              "      <td>0.000000</td>\n",
              "      <td>0.000000</td>\n",
              "    </tr>\n",
              "    <tr>\n",
              "      <th>50%</th>\n",
              "      <td>165224.500000</td>\n",
              "      <td>0.000000</td>\n",
              "      <td>NaN</td>\n",
              "      <td>NaN</td>\n",
              "      <td>NaN</td>\n",
              "      <td>NaN</td>\n",
              "      <td>0.000000</td>\n",
              "      <td>1.440000e+05</td>\n",
              "      <td>5.124465e+05</td>\n",
              "      <td>24885.000000</td>\n",
              "      <td>...</td>\n",
              "      <td>0.000000</td>\n",
              "      <td>0.000000</td>\n",
              "      <td>0.000000</td>\n",
              "      <td>0.000000</td>\n",
              "      <td>0.000000</td>\n",
              "      <td>0.000000</td>\n",
              "      <td>0.000000</td>\n",
              "      <td>0.000000</td>\n",
              "      <td>0.000000</td>\n",
              "      <td>1.000000</td>\n",
              "    </tr>\n",
              "    <tr>\n",
              "      <th>75%</th>\n",
              "      <td>197943.250000</td>\n",
              "      <td>0.000000</td>\n",
              "      <td>NaN</td>\n",
              "      <td>NaN</td>\n",
              "      <td>NaN</td>\n",
              "      <td>NaN</td>\n",
              "      <td>1.000000</td>\n",
              "      <td>2.025000e+05</td>\n",
              "      <td>8.086500e+05</td>\n",
              "      <td>34596.000000</td>\n",
              "      <td>...</td>\n",
              "      <td>0.000000</td>\n",
              "      <td>0.000000</td>\n",
              "      <td>0.000000</td>\n",
              "      <td>0.000000</td>\n",
              "      <td>0.000000</td>\n",
              "      <td>0.000000</td>\n",
              "      <td>0.000000</td>\n",
              "      <td>0.000000</td>\n",
              "      <td>0.000000</td>\n",
              "      <td>3.000000</td>\n",
              "    </tr>\n",
              "    <tr>\n",
              "      <th>max</th>\n",
              "      <td>230577.000000</td>\n",
              "      <td>1.000000</td>\n",
              "      <td>NaN</td>\n",
              "      <td>NaN</td>\n",
              "      <td>NaN</td>\n",
              "      <td>NaN</td>\n",
              "      <td>12.000000</td>\n",
              "      <td>1.170000e+08</td>\n",
              "      <td>4.050000e+06</td>\n",
              "      <td>258025.500000</td>\n",
              "      <td>...</td>\n",
              "      <td>1.000000</td>\n",
              "      <td>1.000000</td>\n",
              "      <td>1.000000</td>\n",
              "      <td>1.000000</td>\n",
              "      <td>3.000000</td>\n",
              "      <td>9.000000</td>\n",
              "      <td>8.000000</td>\n",
              "      <td>24.000000</td>\n",
              "      <td>8.000000</td>\n",
              "      <td>25.000000</td>\n",
              "    </tr>\n",
              "  </tbody>\n",
              "</table>\n",
              "<p>11 rows × 122 columns</p>\n",
              "</div>\n",
              "      <button class=\"colab-df-convert\" onclick=\"convertToInteractive('df-508dae1a-a0e8-406d-8cba-16d0019a77fc')\"\n",
              "              title=\"Convert this dataframe to an interactive table.\"\n",
              "              style=\"display:none;\">\n",
              "        \n",
              "  <svg xmlns=\"http://www.w3.org/2000/svg\" height=\"24px\"viewBox=\"0 0 24 24\"\n",
              "       width=\"24px\">\n",
              "    <path d=\"M0 0h24v24H0V0z\" fill=\"none\"/>\n",
              "    <path d=\"M18.56 5.44l.94 2.06.94-2.06 2.06-.94-2.06-.94-.94-2.06-.94 2.06-2.06.94zm-11 1L8.5 8.5l.94-2.06 2.06-.94-2.06-.94L8.5 2.5l-.94 2.06-2.06.94zm10 10l.94 2.06.94-2.06 2.06-.94-2.06-.94-.94-2.06-.94 2.06-2.06.94z\"/><path d=\"M17.41 7.96l-1.37-1.37c-.4-.4-.92-.59-1.43-.59-.52 0-1.04.2-1.43.59L10.3 9.45l-7.72 7.72c-.78.78-.78 2.05 0 2.83L4 21.41c.39.39.9.59 1.41.59.51 0 1.02-.2 1.41-.59l7.78-7.78 2.81-2.81c.8-.78.8-2.07 0-2.86zM5.41 20L4 18.59l7.72-7.72 1.47 1.35L5.41 20z\"/>\n",
              "  </svg>\n",
              "      </button>\n",
              "      \n",
              "  <style>\n",
              "    .colab-df-container {\n",
              "      display:flex;\n",
              "      flex-wrap:wrap;\n",
              "      gap: 12px;\n",
              "    }\n",
              "\n",
              "    .colab-df-convert {\n",
              "      background-color: #E8F0FE;\n",
              "      border: none;\n",
              "      border-radius: 50%;\n",
              "      cursor: pointer;\n",
              "      display: none;\n",
              "      fill: #1967D2;\n",
              "      height: 32px;\n",
              "      padding: 0 0 0 0;\n",
              "      width: 32px;\n",
              "    }\n",
              "\n",
              "    .colab-df-convert:hover {\n",
              "      background-color: #E2EBFA;\n",
              "      box-shadow: 0px 1px 2px rgba(60, 64, 67, 0.3), 0px 1px 3px 1px rgba(60, 64, 67, 0.15);\n",
              "      fill: #174EA6;\n",
              "    }\n",
              "\n",
              "    [theme=dark] .colab-df-convert {\n",
              "      background-color: #3B4455;\n",
              "      fill: #D2E3FC;\n",
              "    }\n",
              "\n",
              "    [theme=dark] .colab-df-convert:hover {\n",
              "      background-color: #434B5C;\n",
              "      box-shadow: 0px 1px 3px 1px rgba(0, 0, 0, 0.15);\n",
              "      filter: drop-shadow(0px 1px 2px rgba(0, 0, 0, 0.3));\n",
              "      fill: #FFFFFF;\n",
              "    }\n",
              "  </style>\n",
              "\n",
              "      <script>\n",
              "        const buttonEl =\n",
              "          document.querySelector('#df-508dae1a-a0e8-406d-8cba-16d0019a77fc button.colab-df-convert');\n",
              "        buttonEl.style.display =\n",
              "          google.colab.kernel.accessAllowed ? 'block' : 'none';\n",
              "\n",
              "        async function convertToInteractive(key) {\n",
              "          const element = document.querySelector('#df-508dae1a-a0e8-406d-8cba-16d0019a77fc');\n",
              "          const dataTable =\n",
              "            await google.colab.kernel.invokeFunction('convertToInteractive',\n",
              "                                                     [key], {});\n",
              "          if (!dataTable) return;\n",
              "\n",
              "          const docLinkHtml = 'Like what you see? Visit the ' +\n",
              "            '<a target=\"_blank\" href=https://colab.research.google.com/notebooks/data_table.ipynb>data table notebook</a>'\n",
              "            + ' to learn more about interactive tables.';\n",
              "          element.innerHTML = '';\n",
              "          dataTable['output_type'] = 'display_data';\n",
              "          await google.colab.output.renderOutput(dataTable, element);\n",
              "          const docLink = document.createElement('div');\n",
              "          docLink.innerHTML = docLinkHtml;\n",
              "          element.appendChild(docLink);\n",
              "        }\n",
              "      </script>\n",
              "    </div>\n",
              "  </div>\n",
              "  "
            ]
          },
          "metadata": {},
          "execution_count": 26
        }
      ]
    },
    {
      "cell_type": "markdown",
      "source": [
        "#2:: Data Wrangling"
      ],
      "metadata": {
        "id": "hdScx5L_vp3m"
      }
    },
    {
      "cell_type": "markdown",
      "source": [
        "###As data is having huge number of lines, we will analyze data in parts"
      ],
      "metadata": {
        "id": "lyQM6OtMAhhD"
      }
    },
    {
      "cell_type": "code",
      "source": [
        "#defining new Data frame using limited number of columns\n",
        "new_df=df[['SK_ID_CURR','TARGET','DAYS_EMPLOYED','AMT_INCOME_TOTAL','AMT_CREDIT','AMT_ANNUITY','AMT_GOODS_PRICE','NAME_INCOME_TYPE','NAME_EDUCATION_TYPE','NAME_FAMILY_STATUS','NAME_HOUSING_TYPE','DAYS_BIRTH','DAYS_EMPLOYED','DAYS_REGISTRATION','DAYS_ID_PUBLISH','FLAG_MOBIL','FLAG_EMAIL','OCCUPATION_TYPE','CNT_FAM_MEMBERS','REGION_RATING_CLIENT','REGION_RATING_CLIENT_W_CITY','REG_REGION_NOT_LIVE_REGION','REG_REGION_NOT_WORK_REGION','ORGANIZATION_TYPE','EXT_SOURCE_1','EXT_SOURCE_2','EXT_SOURCE_3','APARTMENTS_AVG','BASEMENTAREA_AVG','DAYS_LAST_PHONE_CHANGE']]"
      ],
      "metadata": {
        "id": "xN_gTqF-9dMj"
      },
      "execution_count": null,
      "outputs": []
    },
    {
      "cell_type": "code",
      "source": [
        "#checking first 5 rows of new data frame\n",
        "new_df.head()"
      ],
      "metadata": {
        "colab": {
          "base_uri": "https://localhost:8080/",
          "height": 369
        },
        "id": "ThXgunSg_X4q",
        "outputId": "d568dd32-f5e9-4c5c-c2d2-ae0f598a7dbe"
      },
      "execution_count": null,
      "outputs": [
        {
          "output_type": "execute_result",
          "data": {
            "text/plain": [
              "   SK_ID_CURR  TARGET  DAYS_EMPLOYED  AMT_INCOME_TOTAL  AMT_CREDIT  \\\n",
              "0      100002       1           -637          202500.0    406597.5   \n",
              "1      100003       0          -1188          270000.0   1293502.5   \n",
              "2      100004       0           -225           67500.0    135000.0   \n",
              "3      100006       0          -3039          135000.0    312682.5   \n",
              "4      100007       0          -3038          121500.0    513000.0   \n",
              "\n",
              "   AMT_ANNUITY  AMT_GOODS_PRICE NAME_INCOME_TYPE  \\\n",
              "0      24700.5         351000.0          Working   \n",
              "1      35698.5        1129500.0    State servant   \n",
              "2       6750.0         135000.0          Working   \n",
              "3      29686.5         297000.0          Working   \n",
              "4      21865.5         513000.0          Working   \n",
              "\n",
              "             NAME_EDUCATION_TYPE    NAME_FAMILY_STATUS  ...  \\\n",
              "0  Secondary / secondary special  Single / not married  ...   \n",
              "1               Higher education               Married  ...   \n",
              "2  Secondary / secondary special  Single / not married  ...   \n",
              "3  Secondary / secondary special        Civil marriage  ...   \n",
              "4  Secondary / secondary special  Single / not married  ...   \n",
              "\n",
              "  REGION_RATING_CLIENT_W_CITY  REG_REGION_NOT_LIVE_REGION  \\\n",
              "0                           2                           0   \n",
              "1                           1                           0   \n",
              "2                           2                           0   \n",
              "3                           2                           0   \n",
              "4                           2                           0   \n",
              "\n",
              "   REG_REGION_NOT_WORK_REGION       ORGANIZATION_TYPE  EXT_SOURCE_1  \\\n",
              "0                           0  Business Entity Type 3      0.083037   \n",
              "1                           0                  School      0.311267   \n",
              "2                           0              Government           NaN   \n",
              "3                           0  Business Entity Type 3           NaN   \n",
              "4                           0                Religion           NaN   \n",
              "\n",
              "   EXT_SOURCE_2  EXT_SOURCE_3 APARTMENTS_AVG  BASEMENTAREA_AVG  \\\n",
              "0      0.262949      0.139376         0.0247            0.0369   \n",
              "1      0.622246           NaN         0.0959            0.0529   \n",
              "2      0.555912      0.729567            NaN               NaN   \n",
              "3      0.650442           NaN            NaN               NaN   \n",
              "4      0.322738           NaN            NaN               NaN   \n",
              "\n",
              "   DAYS_LAST_PHONE_CHANGE  \n",
              "0                 -1134.0  \n",
              "1                  -828.0  \n",
              "2                  -815.0  \n",
              "3                  -617.0  \n",
              "4                 -1106.0  \n",
              "\n",
              "[5 rows x 30 columns]"
            ],
            "text/html": [
              "\n",
              "  <div id=\"df-31b2cfe9-92e0-4bd9-8333-b6c170c16d9b\">\n",
              "    <div class=\"colab-df-container\">\n",
              "      <div>\n",
              "<style scoped>\n",
              "    .dataframe tbody tr th:only-of-type {\n",
              "        vertical-align: middle;\n",
              "    }\n",
              "\n",
              "    .dataframe tbody tr th {\n",
              "        vertical-align: top;\n",
              "    }\n",
              "\n",
              "    .dataframe thead th {\n",
              "        text-align: right;\n",
              "    }\n",
              "</style>\n",
              "<table border=\"1\" class=\"dataframe\">\n",
              "  <thead>\n",
              "    <tr style=\"text-align: right;\">\n",
              "      <th></th>\n",
              "      <th>SK_ID_CURR</th>\n",
              "      <th>TARGET</th>\n",
              "      <th>DAYS_EMPLOYED</th>\n",
              "      <th>AMT_INCOME_TOTAL</th>\n",
              "      <th>AMT_CREDIT</th>\n",
              "      <th>AMT_ANNUITY</th>\n",
              "      <th>AMT_GOODS_PRICE</th>\n",
              "      <th>NAME_INCOME_TYPE</th>\n",
              "      <th>NAME_EDUCATION_TYPE</th>\n",
              "      <th>NAME_FAMILY_STATUS</th>\n",
              "      <th>...</th>\n",
              "      <th>REGION_RATING_CLIENT_W_CITY</th>\n",
              "      <th>REG_REGION_NOT_LIVE_REGION</th>\n",
              "      <th>REG_REGION_NOT_WORK_REGION</th>\n",
              "      <th>ORGANIZATION_TYPE</th>\n",
              "      <th>EXT_SOURCE_1</th>\n",
              "      <th>EXT_SOURCE_2</th>\n",
              "      <th>EXT_SOURCE_3</th>\n",
              "      <th>APARTMENTS_AVG</th>\n",
              "      <th>BASEMENTAREA_AVG</th>\n",
              "      <th>DAYS_LAST_PHONE_CHANGE</th>\n",
              "    </tr>\n",
              "  </thead>\n",
              "  <tbody>\n",
              "    <tr>\n",
              "      <th>0</th>\n",
              "      <td>100002</td>\n",
              "      <td>1</td>\n",
              "      <td>-637</td>\n",
              "      <td>202500.0</td>\n",
              "      <td>406597.5</td>\n",
              "      <td>24700.5</td>\n",
              "      <td>351000.0</td>\n",
              "      <td>Working</td>\n",
              "      <td>Secondary / secondary special</td>\n",
              "      <td>Single / not married</td>\n",
              "      <td>...</td>\n",
              "      <td>2</td>\n",
              "      <td>0</td>\n",
              "      <td>0</td>\n",
              "      <td>Business Entity Type 3</td>\n",
              "      <td>0.083037</td>\n",
              "      <td>0.262949</td>\n",
              "      <td>0.139376</td>\n",
              "      <td>0.0247</td>\n",
              "      <td>0.0369</td>\n",
              "      <td>-1134.0</td>\n",
              "    </tr>\n",
              "    <tr>\n",
              "      <th>1</th>\n",
              "      <td>100003</td>\n",
              "      <td>0</td>\n",
              "      <td>-1188</td>\n",
              "      <td>270000.0</td>\n",
              "      <td>1293502.5</td>\n",
              "      <td>35698.5</td>\n",
              "      <td>1129500.0</td>\n",
              "      <td>State servant</td>\n",
              "      <td>Higher education</td>\n",
              "      <td>Married</td>\n",
              "      <td>...</td>\n",
              "      <td>1</td>\n",
              "      <td>0</td>\n",
              "      <td>0</td>\n",
              "      <td>School</td>\n",
              "      <td>0.311267</td>\n",
              "      <td>0.622246</td>\n",
              "      <td>NaN</td>\n",
              "      <td>0.0959</td>\n",
              "      <td>0.0529</td>\n",
              "      <td>-828.0</td>\n",
              "    </tr>\n",
              "    <tr>\n",
              "      <th>2</th>\n",
              "      <td>100004</td>\n",
              "      <td>0</td>\n",
              "      <td>-225</td>\n",
              "      <td>67500.0</td>\n",
              "      <td>135000.0</td>\n",
              "      <td>6750.0</td>\n",
              "      <td>135000.0</td>\n",
              "      <td>Working</td>\n",
              "      <td>Secondary / secondary special</td>\n",
              "      <td>Single / not married</td>\n",
              "      <td>...</td>\n",
              "      <td>2</td>\n",
              "      <td>0</td>\n",
              "      <td>0</td>\n",
              "      <td>Government</td>\n",
              "      <td>NaN</td>\n",
              "      <td>0.555912</td>\n",
              "      <td>0.729567</td>\n",
              "      <td>NaN</td>\n",
              "      <td>NaN</td>\n",
              "      <td>-815.0</td>\n",
              "    </tr>\n",
              "    <tr>\n",
              "      <th>3</th>\n",
              "      <td>100006</td>\n",
              "      <td>0</td>\n",
              "      <td>-3039</td>\n",
              "      <td>135000.0</td>\n",
              "      <td>312682.5</td>\n",
              "      <td>29686.5</td>\n",
              "      <td>297000.0</td>\n",
              "      <td>Working</td>\n",
              "      <td>Secondary / secondary special</td>\n",
              "      <td>Civil marriage</td>\n",
              "      <td>...</td>\n",
              "      <td>2</td>\n",
              "      <td>0</td>\n",
              "      <td>0</td>\n",
              "      <td>Business Entity Type 3</td>\n",
              "      <td>NaN</td>\n",
              "      <td>0.650442</td>\n",
              "      <td>NaN</td>\n",
              "      <td>NaN</td>\n",
              "      <td>NaN</td>\n",
              "      <td>-617.0</td>\n",
              "    </tr>\n",
              "    <tr>\n",
              "      <th>4</th>\n",
              "      <td>100007</td>\n",
              "      <td>0</td>\n",
              "      <td>-3038</td>\n",
              "      <td>121500.0</td>\n",
              "      <td>513000.0</td>\n",
              "      <td>21865.5</td>\n",
              "      <td>513000.0</td>\n",
              "      <td>Working</td>\n",
              "      <td>Secondary / secondary special</td>\n",
              "      <td>Single / not married</td>\n",
              "      <td>...</td>\n",
              "      <td>2</td>\n",
              "      <td>0</td>\n",
              "      <td>0</td>\n",
              "      <td>Religion</td>\n",
              "      <td>NaN</td>\n",
              "      <td>0.322738</td>\n",
              "      <td>NaN</td>\n",
              "      <td>NaN</td>\n",
              "      <td>NaN</td>\n",
              "      <td>-1106.0</td>\n",
              "    </tr>\n",
              "  </tbody>\n",
              "</table>\n",
              "<p>5 rows × 30 columns</p>\n",
              "</div>\n",
              "      <button class=\"colab-df-convert\" onclick=\"convertToInteractive('df-31b2cfe9-92e0-4bd9-8333-b6c170c16d9b')\"\n",
              "              title=\"Convert this dataframe to an interactive table.\"\n",
              "              style=\"display:none;\">\n",
              "        \n",
              "  <svg xmlns=\"http://www.w3.org/2000/svg\" height=\"24px\"viewBox=\"0 0 24 24\"\n",
              "       width=\"24px\">\n",
              "    <path d=\"M0 0h24v24H0V0z\" fill=\"none\"/>\n",
              "    <path d=\"M18.56 5.44l.94 2.06.94-2.06 2.06-.94-2.06-.94-.94-2.06-.94 2.06-2.06.94zm-11 1L8.5 8.5l.94-2.06 2.06-.94-2.06-.94L8.5 2.5l-.94 2.06-2.06.94zm10 10l.94 2.06.94-2.06 2.06-.94-2.06-.94-.94-2.06-.94 2.06-2.06.94z\"/><path d=\"M17.41 7.96l-1.37-1.37c-.4-.4-.92-.59-1.43-.59-.52 0-1.04.2-1.43.59L10.3 9.45l-7.72 7.72c-.78.78-.78 2.05 0 2.83L4 21.41c.39.39.9.59 1.41.59.51 0 1.02-.2 1.41-.59l7.78-7.78 2.81-2.81c.8-.78.8-2.07 0-2.86zM5.41 20L4 18.59l7.72-7.72 1.47 1.35L5.41 20z\"/>\n",
              "  </svg>\n",
              "      </button>\n",
              "      \n",
              "  <style>\n",
              "    .colab-df-container {\n",
              "      display:flex;\n",
              "      flex-wrap:wrap;\n",
              "      gap: 12px;\n",
              "    }\n",
              "\n",
              "    .colab-df-convert {\n",
              "      background-color: #E8F0FE;\n",
              "      border: none;\n",
              "      border-radius: 50%;\n",
              "      cursor: pointer;\n",
              "      display: none;\n",
              "      fill: #1967D2;\n",
              "      height: 32px;\n",
              "      padding: 0 0 0 0;\n",
              "      width: 32px;\n",
              "    }\n",
              "\n",
              "    .colab-df-convert:hover {\n",
              "      background-color: #E2EBFA;\n",
              "      box-shadow: 0px 1px 2px rgba(60, 64, 67, 0.3), 0px 1px 3px 1px rgba(60, 64, 67, 0.15);\n",
              "      fill: #174EA6;\n",
              "    }\n",
              "\n",
              "    [theme=dark] .colab-df-convert {\n",
              "      background-color: #3B4455;\n",
              "      fill: #D2E3FC;\n",
              "    }\n",
              "\n",
              "    [theme=dark] .colab-df-convert:hover {\n",
              "      background-color: #434B5C;\n",
              "      box-shadow: 0px 1px 3px 1px rgba(0, 0, 0, 0.15);\n",
              "      filter: drop-shadow(0px 1px 2px rgba(0, 0, 0, 0.3));\n",
              "      fill: #FFFFFF;\n",
              "    }\n",
              "  </style>\n",
              "\n",
              "      <script>\n",
              "        const buttonEl =\n",
              "          document.querySelector('#df-31b2cfe9-92e0-4bd9-8333-b6c170c16d9b button.colab-df-convert');\n",
              "        buttonEl.style.display =\n",
              "          google.colab.kernel.accessAllowed ? 'block' : 'none';\n",
              "\n",
              "        async function convertToInteractive(key) {\n",
              "          const element = document.querySelector('#df-31b2cfe9-92e0-4bd9-8333-b6c170c16d9b');\n",
              "          const dataTable =\n",
              "            await google.colab.kernel.invokeFunction('convertToInteractive',\n",
              "                                                     [key], {});\n",
              "          if (!dataTable) return;\n",
              "\n",
              "          const docLinkHtml = 'Like what you see? Visit the ' +\n",
              "            '<a target=\"_blank\" href=https://colab.research.google.com/notebooks/data_table.ipynb>data table notebook</a>'\n",
              "            + ' to learn more about interactive tables.';\n",
              "          element.innerHTML = '';\n",
              "          dataTable['output_type'] = 'display_data';\n",
              "          await google.colab.output.renderOutput(dataTable, element);\n",
              "          const docLink = document.createElement('div');\n",
              "          docLink.innerHTML = docLinkHtml;\n",
              "          element.appendChild(docLink);\n",
              "        }\n",
              "      </script>\n",
              "    </div>\n",
              "  </div>\n",
              "  "
            ]
          },
          "metadata": {},
          "execution_count": 10
        }
      ]
    },
    {
      "cell_type": "code",
      "source": [
        "#cheking shape of new data, we have now reduced our no of columns from 122 to 30\n",
        "new_df.shape"
      ],
      "metadata": {
        "colab": {
          "base_uri": "https://localhost:8080/"
        },
        "id": "uuym4U8o_tX7",
        "outputId": "f31e325f-630e-41dd-bbd6-4aaccb3d18be"
      },
      "execution_count": null,
      "outputs": [
        {
          "output_type": "execute_result",
          "data": {
            "text/plain": [
              "(112568, 30)"
            ]
          },
          "metadata": {},
          "execution_count": 27
        }
      ]
    },
    {
      "cell_type": "code",
      "source": [
        "#checking names of columns of new data\n",
        "new_df.columns"
      ],
      "metadata": {
        "colab": {
          "base_uri": "https://localhost:8080/"
        },
        "id": "rgX6v1dEAX9V",
        "outputId": "a9d42653-253f-4b7f-b794-ecd9f43f7181"
      },
      "execution_count": null,
      "outputs": [
        {
          "output_type": "execute_result",
          "data": {
            "text/plain": [
              "Index(['SK_ID_CURR', 'TARGET', 'DAYS_EMPLOYED', 'AMT_INCOME_TOTAL',\n",
              "       'AMT_CREDIT', 'AMT_ANNUITY', 'AMT_GOODS_PRICE', 'NAME_INCOME_TYPE',\n",
              "       'NAME_EDUCATION_TYPE', 'NAME_FAMILY_STATUS', 'NAME_HOUSING_TYPE',\n",
              "       'DAYS_BIRTH', 'DAYS_EMPLOYED', 'DAYS_REGISTRATION', 'DAYS_ID_PUBLISH',\n",
              "       'FLAG_MOBIL', 'FLAG_EMAIL', 'OCCUPATION_TYPE', 'CNT_FAM_MEMBERS',\n",
              "       'REGION_RATING_CLIENT', 'REGION_RATING_CLIENT_W_CITY',\n",
              "       'REG_REGION_NOT_LIVE_REGION', 'REG_REGION_NOT_WORK_REGION',\n",
              "       'ORGANIZATION_TYPE', 'EXT_SOURCE_1', 'EXT_SOURCE_2', 'EXT_SOURCE_3',\n",
              "       'APARTMENTS_AVG', 'BASEMENTAREA_AVG', 'DAYS_LAST_PHONE_CHANGE'],\n",
              "      dtype='object')"
            ]
          },
          "metadata": {},
          "execution_count": 28
        }
      ]
    },
    {
      "cell_type": "markdown",
      "source": [
        "####Renaming the column names"
      ],
      "metadata": {
        "id": "_78EEqUmDVYy"
      }
    },
    {
      "cell_type": "code",
      "source": [
        "list=['Cust_ID','TARGET','DAYS_EMPLOYED','INCOME', 'Loan_AMT', 'ANNUITY',\n",
        "       'GOODS_PRICE', 'INCOME_TYPE', 'EDUCATION',\n",
        "       'FAMILY_STATUS', 'curr_HOUSING_TYPE', 'age',\n",
        "       'Work_Exp', 'REGISTRATION_change', 'DAYS_ID_PUBLISH', 'MOBIL_given',\n",
        "       'EMAIL_given', 'OCCUPATION_TYPE', 'Family_MEMBERS_no',\n",
        "       'REGION_CLIENT', 'REGION_CLIENT_CITY',\n",
        "       'Perman_add_NOT_cont_REGION', 'perman_add_NOT_WORK_add',\n",
        "       'ORGANIZATION_TYPE', 'EXT_SOURCE_1', 'EXT_SOURCE_2', 'EXT_SOURCE_3',\n",
        "       'APARTMENTS_AVG', 'BASEMENTAREA_AVG', 'LAST_PHONE_CHANGE']"
      ],
      "metadata": {
        "id": "zj7-TuJRAIyL"
      },
      "execution_count": null,
      "outputs": []
    },
    {
      "cell_type": "code",
      "source": [
        "new_df.columns=list"
      ],
      "metadata": {
        "id": "aCIHjOSiGVl4"
      },
      "execution_count": null,
      "outputs": []
    },
    {
      "cell_type": "code",
      "source": [
        "new_df.columns"
      ],
      "metadata": {
        "colab": {
          "base_uri": "https://localhost:8080/"
        },
        "id": "fFY2g9H3HIgQ",
        "outputId": "f54d3c7e-9d37-48ea-fdc8-72a16cd8fa0e"
      },
      "execution_count": null,
      "outputs": [
        {
          "output_type": "execute_result",
          "data": {
            "text/plain": [
              "Index(['Cust_ID', 'TARGET', 'DAYS_EMPLOYED', 'INCOME', 'Loan_AMT', 'ANNUITY',\n",
              "       'GOODS_PRICE', 'INCOME_TYPE', 'EDUCATION', 'FAMILY_STATUS',\n",
              "       'curr_HOUSING_TYPE', 'age', 'Work_Exp', 'REGISTRATION_change',\n",
              "       'DAYS_ID_PUBLISH', 'MOBIL_given', 'EMAIL_given', 'OCCUPATION_TYPE',\n",
              "       'Family_MEMBERS_no', 'REGION_CLIENT', 'REGION_CLIENT_CITY',\n",
              "       'Perman_add_NOT_cont_REGION', 'perman_add_NOT_WORK_add',\n",
              "       'ORGANIZATION_TYPE', 'EXT_SOURCE_1', 'EXT_SOURCE_2', 'EXT_SOURCE_3',\n",
              "       'APARTMENTS_AVG', 'BASEMENTAREA_AVG', 'LAST_PHONE_CHANGE'],\n",
              "      dtype='object')"
            ]
          },
          "metadata": {},
          "execution_count": 31
        }
      ]
    },
    {
      "cell_type": "code",
      "source": [
        "#checking duplicate rows in a data set\n",
        "new_df.duplicated().sum()"
      ],
      "metadata": {
        "colab": {
          "base_uri": "https://localhost:8080/"
        },
        "id": "_1A3xi7PrAo0",
        "outputId": "7ecaa3cd-b3a5-407a-e1fe-1523b6e43911"
      },
      "execution_count": null,
      "outputs": [
        {
          "output_type": "execute_result",
          "data": {
            "text/plain": [
              "0"
            ]
          },
          "metadata": {},
          "execution_count": 34
        }
      ]
    },
    {
      "cell_type": "markdown",
      "source": [
        "##Checking for null values in columns"
      ],
      "metadata": {
        "id": "jWxmO1NFBeUM"
      }
    },
    {
      "cell_type": "code",
      "source": [
        "def null_values(new_df):\n",
        "    return round((new_df.isnull().sum()*100/len(new_df)).sort_values(ascending = False),2)"
      ],
      "metadata": {
        "id": "NnbWy5avAMc1"
      },
      "execution_count": null,
      "outputs": []
    },
    {
      "cell_type": "code",
      "source": [
        "#displaying columns with Percentage of null values\n",
        "null_values(new_df)"
      ],
      "metadata": {
        "colab": {
          "base_uri": "https://localhost:8080/"
        },
        "id": "El_m0Q2PAO47",
        "outputId": "0e67b805-5861-4f33-d47e-2e697174ffe2"
      },
      "execution_count": null,
      "outputs": [
        {
          "output_type": "execute_result",
          "data": {
            "text/plain": [
              "BASEMENTAREA_AVG              58.50\n",
              "EXT_SOURCE_1                  56.37\n",
              "APARTMENTS_AVG                50.78\n",
              "OCCUPATION_TYPE               31.30\n",
              "EXT_SOURCE_3                  19.85\n",
              "EXT_SOURCE_2                   0.21\n",
              "GOODS_PRICE                    0.08\n",
              "ANNUITY                        0.01\n",
              "LAST_PHONE_CHANGE              0.00\n",
              "Family_MEMBERS_no              0.00\n",
              "EMAIL_given                    0.00\n",
              "ORGANIZATION_TYPE              0.00\n",
              "perman_add_NOT_WORK_add        0.00\n",
              "Perman_add_NOT_cont_REGION     0.00\n",
              "REGION_CLIENT_CITY             0.00\n",
              "REGION_CLIENT                  0.00\n",
              "Cust_ID                        0.00\n",
              "TARGET                         0.00\n",
              "DAYS_ID_PUBLISH                0.00\n",
              "REGISTRATION_change            0.00\n",
              "Work_Exp                       0.00\n",
              "age                            0.00\n",
              "curr_HOUSING_TYPE              0.00\n",
              "FAMILY_STATUS                  0.00\n",
              "EDUCATION                      0.00\n",
              "INCOME_TYPE                    0.00\n",
              "Loan_AMT                       0.00\n",
              "INCOME                         0.00\n",
              "DAYS_EMPLOYED                  0.00\n",
              "MOBIL_given                    0.00\n",
              "dtype: float64"
            ]
          },
          "metadata": {},
          "execution_count": 35
        }
      ]
    },
    {
      "cell_type": "markdown",
      "source": [
        "BASEMENTAREA_AVG              58.52\n",
        "EXT_SOURCE_1                  56.38\n",
        "\n",
        "APARTMENTS_AVG                50.75\n",
        "\n",
        "OCCUPATION_TYPE               31.35\n",
        "\n",
        "EXT_SOURCE_3                  19.83\n",
        "\n",
        "these are the columns having maximum null values"
      ],
      "metadata": {
        "id": "MTLisnNFKLqy"
      }
    },
    {
      "cell_type": "code",
      "source": [
        "#number of null values per column\n",
        "print(\"missing values : \",new_df.isna().sum().sort_values(ascending = False))"
      ],
      "metadata": {
        "colab": {
          "base_uri": "https://localhost:8080/"
        },
        "id": "Gl_Zgx2DJMFJ",
        "outputId": "7bb84731-53ab-46a4-dc99-41aaf75c2737"
      },
      "execution_count": null,
      "outputs": [
        {
          "output_type": "stream",
          "name": "stdout",
          "text": [
            "missing values :  BASEMENTAREA_AVG              65850\n",
            "EXT_SOURCE_1                  63458\n",
            "APARTMENTS_AVG                57161\n",
            "OCCUPATION_TYPE               35239\n",
            "EXT_SOURCE_3                  22341\n",
            "EXT_SOURCE_2                    242\n",
            "GOODS_PRICE                      88\n",
            "ANNUITY                           7\n",
            "LAST_PHONE_CHANGE                 2\n",
            "Family_MEMBERS_no                 1\n",
            "EMAIL_given                       0\n",
            "ORGANIZATION_TYPE                 0\n",
            "perman_add_NOT_WORK_add           0\n",
            "Perman_add_NOT_cont_REGION        0\n",
            "REGION_CLIENT_CITY                0\n",
            "REGION_CLIENT                     0\n",
            "Cust_ID                           0\n",
            "TARGET                            0\n",
            "DAYS_ID_PUBLISH                   0\n",
            "REGISTRATION_change               0\n",
            "Work_Exp                          0\n",
            "age                               0\n",
            "curr_HOUSING_TYPE                 0\n",
            "FAMILY_STATUS                     0\n",
            "EDUCATION                         0\n",
            "INCOME_TYPE                       0\n",
            "Loan_AMT                          0\n",
            "INCOME                            0\n",
            "DAYS_EMPLOYED                     0\n",
            "MOBIL_given                       0\n",
            "dtype: int64\n"
          ]
        }
      ]
    },
    {
      "cell_type": "markdown",
      "source": [
        "##Replacing null values \n",
        "###TO deal with missing data?\n",
        "\n",
        "Drop data:\n",
        "\n",
        "        a. Drop the whole row\n",
        "\n",
        "        b. Drop the whole column\n",
        " \n",
        "Replace data\n",
        "\n",
        "        a. Replace it by mean\n",
        "        \n",
        "        b. Replace it by frequency\n",
        "        \n",
        "        c. Replace it based on other functions"
      ],
      "metadata": {
        "id": "3CQWkXKxCg_O"
      }
    },
    {
      "cell_type": "code",
      "source": [
        "#Replacing null values with NAN \n",
        "new_df=new_df.replace(np.nan, 'NAN')"
      ],
      "metadata": {
        "id": "y8Z_hEuuCiGD"
      },
      "execution_count": null,
      "outputs": []
    },
    {
      "cell_type": "markdown",
      "source": [
        "###Understanding the Categorical variables"
      ],
      "metadata": {
        "id": "plwCwMQWQ8cp"
      }
    },
    {
      "cell_type": "code",
      "source": [
        "#taking info to check Column name,  Non-Null Count, Dtype and sape of data (307511X28 )\n",
        "new_df.info()"
      ],
      "metadata": {
        "colab": {
          "base_uri": "https://localhost:8080/"
        },
        "id": "qXeixPZhQ4dq",
        "outputId": "6cb72afb-5f4c-4cd0-8729-1acd2d3388e0"
      },
      "execution_count": null,
      "outputs": [
        {
          "output_type": "stream",
          "name": "stdout",
          "text": [
            "<class 'pandas.core.frame.DataFrame'>\n",
            "RangeIndex: 112568 entries, 0 to 112567\n",
            "Data columns (total 30 columns):\n",
            " #   Column                      Non-Null Count   Dtype  \n",
            "---  ------                      --------------   -----  \n",
            " 0   Cust_ID                     112568 non-null  int64  \n",
            " 1   TARGET                      112568 non-null  int64  \n",
            " 2   DAYS_EMPLOYED               112568 non-null  int64  \n",
            " 3   INCOME                      112568 non-null  float64\n",
            " 4   Loan_AMT                    112568 non-null  float64\n",
            " 5   ANNUITY                     112568 non-null  object \n",
            " 6   GOODS_PRICE                 112568 non-null  object \n",
            " 7   INCOME_TYPE                 112568 non-null  object \n",
            " 8   EDUCATION                   112568 non-null  object \n",
            " 9   FAMILY_STATUS               112568 non-null  object \n",
            " 10  curr_HOUSING_TYPE           112568 non-null  object \n",
            " 11  age                         112568 non-null  int64  \n",
            " 12  Work_Exp                    112568 non-null  int64  \n",
            " 13  REGISTRATION_change         112568 non-null  float64\n",
            " 14  DAYS_ID_PUBLISH             112568 non-null  int64  \n",
            " 15  MOBIL_given                 112568 non-null  int64  \n",
            " 16  EMAIL_given                 112568 non-null  int64  \n",
            " 17  OCCUPATION_TYPE             112568 non-null  object \n",
            " 18  Family_MEMBERS_no           112568 non-null  object \n",
            " 19  REGION_CLIENT               112568 non-null  int64  \n",
            " 20  REGION_CLIENT_CITY          112568 non-null  int64  \n",
            " 21  Perman_add_NOT_cont_REGION  112568 non-null  int64  \n",
            " 22  perman_add_NOT_WORK_add     112568 non-null  int64  \n",
            " 23  ORGANIZATION_TYPE           112568 non-null  object \n",
            " 24  EXT_SOURCE_1                112568 non-null  object \n",
            " 25  EXT_SOURCE_2                112568 non-null  object \n",
            " 26  EXT_SOURCE_3                112568 non-null  object \n",
            " 27  APARTMENTS_AVG              112568 non-null  object \n",
            " 28  BASEMENTAREA_AVG            112568 non-null  object \n",
            " 29  LAST_PHONE_CHANGE           112568 non-null  object \n",
            "dtypes: float64(3), int64(12), object(15)\n",
            "memory usage: 25.8+ MB\n"
          ]
        }
      ]
    },
    {
      "cell_type": "markdown",
      "source": [
        "##Checking statisticsal summary of all the columns\n"
      ],
      "metadata": {
        "id": "0axM5mOZReMl"
      }
    },
    {
      "cell_type": "code",
      "source": [
        "#statistical summary of all the numeric columns\n",
        "new_df.describe()"
      ],
      "metadata": {
        "colab": {
          "base_uri": "https://localhost:8080/",
          "height": 364
        },
        "id": "5MG3K4CVRwiA",
        "outputId": "9ecf72fd-693d-4d4b-ac51-6218ea6a45b9"
      },
      "execution_count": null,
      "outputs": [
        {
          "output_type": "execute_result",
          "data": {
            "text/plain": [
              "             Cust_ID         TARGET  DAYS_EMPLOYED        INCOME  \\\n",
              "count  112568.000000  112568.000000  112568.000000  1.125680e+05   \n",
              "mean   165299.106735       0.081506   63559.335913  1.693523e+05   \n",
              "std     37695.825512       0.273612  141062.951776  3.633325e+05   \n",
              "min    100002.000000       0.000000  -17531.000000  2.565000e+04   \n",
              "25%    132708.750000       0.000000   -2759.000000  1.125000e+05   \n",
              "50%    165224.500000       0.000000   -1217.000000  1.440000e+05   \n",
              "75%    197943.250000       0.000000    -289.000000  2.025000e+05   \n",
              "max    230577.000000       1.000000  365243.000000  1.170000e+08   \n",
              "\n",
              "           Loan_AMT            age       Work_Exp  REGISTRATION_change  \\\n",
              "count  1.125680e+05  112568.000000  112568.000000        112568.000000   \n",
              "mean   5.988978e+05  -16031.682174   63559.335913         -4982.872513   \n",
              "std    4.022424e+05    4368.315130  141062.951776          3524.591117   \n",
              "min    4.500000e+04  -25201.000000  -17531.000000        -22392.000000   \n",
              "25%    2.700000e+05  -19676.000000   -2759.000000         -7472.000000   \n",
              "50%    5.124465e+05  -15744.500000   -1217.000000         -4490.000000   \n",
              "75%    8.086500e+05  -12393.000000    -289.000000         -2009.750000   \n",
              "max    4.050000e+06   -7676.000000  365243.000000             0.000000   \n",
              "\n",
              "       DAYS_ID_PUBLISH    MOBIL_given    EMAIL_given  REGION_CLIENT  \\\n",
              "count    112568.000000  112568.000000  112568.000000  112568.000000   \n",
              "mean      -2992.331595       0.999991       0.056286       2.053443   \n",
              "std        1510.128878       0.002981       0.230474       0.509824   \n",
              "min       -6337.000000       0.000000       0.000000       1.000000   \n",
              "25%       -4297.000000       1.000000       0.000000       2.000000   \n",
              "50%       -3253.000000       1.000000       0.000000       2.000000   \n",
              "75%       -1714.000000       1.000000       0.000000       2.000000   \n",
              "max           0.000000       1.000000       1.000000       3.000000   \n",
              "\n",
              "       REGION_CLIENT_CITY  Perman_add_NOT_cont_REGION  perman_add_NOT_WORK_add  \n",
              "count       112568.000000               112568.000000            112568.000000  \n",
              "mean             2.032283                    0.015093                 0.050556  \n",
              "std              0.503355                    0.121924                 0.219090  \n",
              "min              1.000000                    0.000000                 0.000000  \n",
              "25%              2.000000                    0.000000                 0.000000  \n",
              "50%              2.000000                    0.000000                 0.000000  \n",
              "75%              2.000000                    0.000000                 0.000000  \n",
              "max              3.000000                    1.000000                 1.000000  "
            ],
            "text/html": [
              "\n",
              "  <div id=\"df-0c291d56-210f-4f6d-8d2e-e9e784577781\">\n",
              "    <div class=\"colab-df-container\">\n",
              "      <div>\n",
              "<style scoped>\n",
              "    .dataframe tbody tr th:only-of-type {\n",
              "        vertical-align: middle;\n",
              "    }\n",
              "\n",
              "    .dataframe tbody tr th {\n",
              "        vertical-align: top;\n",
              "    }\n",
              "\n",
              "    .dataframe thead th {\n",
              "        text-align: right;\n",
              "    }\n",
              "</style>\n",
              "<table border=\"1\" class=\"dataframe\">\n",
              "  <thead>\n",
              "    <tr style=\"text-align: right;\">\n",
              "      <th></th>\n",
              "      <th>Cust_ID</th>\n",
              "      <th>TARGET</th>\n",
              "      <th>DAYS_EMPLOYED</th>\n",
              "      <th>INCOME</th>\n",
              "      <th>Loan_AMT</th>\n",
              "      <th>age</th>\n",
              "      <th>Work_Exp</th>\n",
              "      <th>REGISTRATION_change</th>\n",
              "      <th>DAYS_ID_PUBLISH</th>\n",
              "      <th>MOBIL_given</th>\n",
              "      <th>EMAIL_given</th>\n",
              "      <th>REGION_CLIENT</th>\n",
              "      <th>REGION_CLIENT_CITY</th>\n",
              "      <th>Perman_add_NOT_cont_REGION</th>\n",
              "      <th>perman_add_NOT_WORK_add</th>\n",
              "    </tr>\n",
              "  </thead>\n",
              "  <tbody>\n",
              "    <tr>\n",
              "      <th>count</th>\n",
              "      <td>112568.000000</td>\n",
              "      <td>112568.000000</td>\n",
              "      <td>112568.000000</td>\n",
              "      <td>1.125680e+05</td>\n",
              "      <td>1.125680e+05</td>\n",
              "      <td>112568.000000</td>\n",
              "      <td>112568.000000</td>\n",
              "      <td>112568.000000</td>\n",
              "      <td>112568.000000</td>\n",
              "      <td>112568.000000</td>\n",
              "      <td>112568.000000</td>\n",
              "      <td>112568.000000</td>\n",
              "      <td>112568.000000</td>\n",
              "      <td>112568.000000</td>\n",
              "      <td>112568.000000</td>\n",
              "    </tr>\n",
              "    <tr>\n",
              "      <th>mean</th>\n",
              "      <td>165299.106735</td>\n",
              "      <td>0.081506</td>\n",
              "      <td>63559.335913</td>\n",
              "      <td>1.693523e+05</td>\n",
              "      <td>5.988978e+05</td>\n",
              "      <td>-16031.682174</td>\n",
              "      <td>63559.335913</td>\n",
              "      <td>-4982.872513</td>\n",
              "      <td>-2992.331595</td>\n",
              "      <td>0.999991</td>\n",
              "      <td>0.056286</td>\n",
              "      <td>2.053443</td>\n",
              "      <td>2.032283</td>\n",
              "      <td>0.015093</td>\n",
              "      <td>0.050556</td>\n",
              "    </tr>\n",
              "    <tr>\n",
              "      <th>std</th>\n",
              "      <td>37695.825512</td>\n",
              "      <td>0.273612</td>\n",
              "      <td>141062.951776</td>\n",
              "      <td>3.633325e+05</td>\n",
              "      <td>4.022424e+05</td>\n",
              "      <td>4368.315130</td>\n",
              "      <td>141062.951776</td>\n",
              "      <td>3524.591117</td>\n",
              "      <td>1510.128878</td>\n",
              "      <td>0.002981</td>\n",
              "      <td>0.230474</td>\n",
              "      <td>0.509824</td>\n",
              "      <td>0.503355</td>\n",
              "      <td>0.121924</td>\n",
              "      <td>0.219090</td>\n",
              "    </tr>\n",
              "    <tr>\n",
              "      <th>min</th>\n",
              "      <td>100002.000000</td>\n",
              "      <td>0.000000</td>\n",
              "      <td>-17531.000000</td>\n",
              "      <td>2.565000e+04</td>\n",
              "      <td>4.500000e+04</td>\n",
              "      <td>-25201.000000</td>\n",
              "      <td>-17531.000000</td>\n",
              "      <td>-22392.000000</td>\n",
              "      <td>-6337.000000</td>\n",
              "      <td>0.000000</td>\n",
              "      <td>0.000000</td>\n",
              "      <td>1.000000</td>\n",
              "      <td>1.000000</td>\n",
              "      <td>0.000000</td>\n",
              "      <td>0.000000</td>\n",
              "    </tr>\n",
              "    <tr>\n",
              "      <th>25%</th>\n",
              "      <td>132708.750000</td>\n",
              "      <td>0.000000</td>\n",
              "      <td>-2759.000000</td>\n",
              "      <td>1.125000e+05</td>\n",
              "      <td>2.700000e+05</td>\n",
              "      <td>-19676.000000</td>\n",
              "      <td>-2759.000000</td>\n",
              "      <td>-7472.000000</td>\n",
              "      <td>-4297.000000</td>\n",
              "      <td>1.000000</td>\n",
              "      <td>0.000000</td>\n",
              "      <td>2.000000</td>\n",
              "      <td>2.000000</td>\n",
              "      <td>0.000000</td>\n",
              "      <td>0.000000</td>\n",
              "    </tr>\n",
              "    <tr>\n",
              "      <th>50%</th>\n",
              "      <td>165224.500000</td>\n",
              "      <td>0.000000</td>\n",
              "      <td>-1217.000000</td>\n",
              "      <td>1.440000e+05</td>\n",
              "      <td>5.124465e+05</td>\n",
              "      <td>-15744.500000</td>\n",
              "      <td>-1217.000000</td>\n",
              "      <td>-4490.000000</td>\n",
              "      <td>-3253.000000</td>\n",
              "      <td>1.000000</td>\n",
              "      <td>0.000000</td>\n",
              "      <td>2.000000</td>\n",
              "      <td>2.000000</td>\n",
              "      <td>0.000000</td>\n",
              "      <td>0.000000</td>\n",
              "    </tr>\n",
              "    <tr>\n",
              "      <th>75%</th>\n",
              "      <td>197943.250000</td>\n",
              "      <td>0.000000</td>\n",
              "      <td>-289.000000</td>\n",
              "      <td>2.025000e+05</td>\n",
              "      <td>8.086500e+05</td>\n",
              "      <td>-12393.000000</td>\n",
              "      <td>-289.000000</td>\n",
              "      <td>-2009.750000</td>\n",
              "      <td>-1714.000000</td>\n",
              "      <td>1.000000</td>\n",
              "      <td>0.000000</td>\n",
              "      <td>2.000000</td>\n",
              "      <td>2.000000</td>\n",
              "      <td>0.000000</td>\n",
              "      <td>0.000000</td>\n",
              "    </tr>\n",
              "    <tr>\n",
              "      <th>max</th>\n",
              "      <td>230577.000000</td>\n",
              "      <td>1.000000</td>\n",
              "      <td>365243.000000</td>\n",
              "      <td>1.170000e+08</td>\n",
              "      <td>4.050000e+06</td>\n",
              "      <td>-7676.000000</td>\n",
              "      <td>365243.000000</td>\n",
              "      <td>0.000000</td>\n",
              "      <td>0.000000</td>\n",
              "      <td>1.000000</td>\n",
              "      <td>1.000000</td>\n",
              "      <td>3.000000</td>\n",
              "      <td>3.000000</td>\n",
              "      <td>1.000000</td>\n",
              "      <td>1.000000</td>\n",
              "    </tr>\n",
              "  </tbody>\n",
              "</table>\n",
              "</div>\n",
              "      <button class=\"colab-df-convert\" onclick=\"convertToInteractive('df-0c291d56-210f-4f6d-8d2e-e9e784577781')\"\n",
              "              title=\"Convert this dataframe to an interactive table.\"\n",
              "              style=\"display:none;\">\n",
              "        \n",
              "  <svg xmlns=\"http://www.w3.org/2000/svg\" height=\"24px\"viewBox=\"0 0 24 24\"\n",
              "       width=\"24px\">\n",
              "    <path d=\"M0 0h24v24H0V0z\" fill=\"none\"/>\n",
              "    <path d=\"M18.56 5.44l.94 2.06.94-2.06 2.06-.94-2.06-.94-.94-2.06-.94 2.06-2.06.94zm-11 1L8.5 8.5l.94-2.06 2.06-.94-2.06-.94L8.5 2.5l-.94 2.06-2.06.94zm10 10l.94 2.06.94-2.06 2.06-.94-2.06-.94-.94-2.06-.94 2.06-2.06.94z\"/><path d=\"M17.41 7.96l-1.37-1.37c-.4-.4-.92-.59-1.43-.59-.52 0-1.04.2-1.43.59L10.3 9.45l-7.72 7.72c-.78.78-.78 2.05 0 2.83L4 21.41c.39.39.9.59 1.41.59.51 0 1.02-.2 1.41-.59l7.78-7.78 2.81-2.81c.8-.78.8-2.07 0-2.86zM5.41 20L4 18.59l7.72-7.72 1.47 1.35L5.41 20z\"/>\n",
              "  </svg>\n",
              "      </button>\n",
              "      \n",
              "  <style>\n",
              "    .colab-df-container {\n",
              "      display:flex;\n",
              "      flex-wrap:wrap;\n",
              "      gap: 12px;\n",
              "    }\n",
              "\n",
              "    .colab-df-convert {\n",
              "      background-color: #E8F0FE;\n",
              "      border: none;\n",
              "      border-radius: 50%;\n",
              "      cursor: pointer;\n",
              "      display: none;\n",
              "      fill: #1967D2;\n",
              "      height: 32px;\n",
              "      padding: 0 0 0 0;\n",
              "      width: 32px;\n",
              "    }\n",
              "\n",
              "    .colab-df-convert:hover {\n",
              "      background-color: #E2EBFA;\n",
              "      box-shadow: 0px 1px 2px rgba(60, 64, 67, 0.3), 0px 1px 3px 1px rgba(60, 64, 67, 0.15);\n",
              "      fill: #174EA6;\n",
              "    }\n",
              "\n",
              "    [theme=dark] .colab-df-convert {\n",
              "      background-color: #3B4455;\n",
              "      fill: #D2E3FC;\n",
              "    }\n",
              "\n",
              "    [theme=dark] .colab-df-convert:hover {\n",
              "      background-color: #434B5C;\n",
              "      box-shadow: 0px 1px 3px 1px rgba(0, 0, 0, 0.15);\n",
              "      filter: drop-shadow(0px 1px 2px rgba(0, 0, 0, 0.3));\n",
              "      fill: #FFFFFF;\n",
              "    }\n",
              "  </style>\n",
              "\n",
              "      <script>\n",
              "        const buttonEl =\n",
              "          document.querySelector('#df-0c291d56-210f-4f6d-8d2e-e9e784577781 button.colab-df-convert');\n",
              "        buttonEl.style.display =\n",
              "          google.colab.kernel.accessAllowed ? 'block' : 'none';\n",
              "\n",
              "        async function convertToInteractive(key) {\n",
              "          const element = document.querySelector('#df-0c291d56-210f-4f6d-8d2e-e9e784577781');\n",
              "          const dataTable =\n",
              "            await google.colab.kernel.invokeFunction('convertToInteractive',\n",
              "                                                     [key], {});\n",
              "          if (!dataTable) return;\n",
              "\n",
              "          const docLinkHtml = 'Like what you see? Visit the ' +\n",
              "            '<a target=\"_blank\" href=https://colab.research.google.com/notebooks/data_table.ipynb>data table notebook</a>'\n",
              "            + ' to learn more about interactive tables.';\n",
              "          element.innerHTML = '';\n",
              "          dataTable['output_type'] = 'display_data';\n",
              "          await google.colab.output.renderOutput(dataTable, element);\n",
              "          const docLink = document.createElement('div');\n",
              "          docLink.innerHTML = docLinkHtml;\n",
              "          element.appendChild(docLink);\n",
              "        }\n",
              "      </script>\n",
              "    </div>\n",
              "  </div>\n",
              "  "
            ]
          },
          "metadata": {},
          "execution_count": 41
        }
      ]
    },
    {
      "cell_type": "code",
      "source": [
        "#checking correlation between columns of numeric data\n",
        "new_df.corr()"
      ],
      "metadata": {
        "colab": {
          "base_uri": "https://localhost:8080/",
          "height": 584
        },
        "id": "5WfWDGn7SGTx",
        "outputId": "2cf96ecf-4235-4086-f0ef-e93597d279e9"
      },
      "execution_count": null,
      "outputs": [
        {
          "output_type": "execute_result",
          "data": {
            "text/plain": [
              "                             Cust_ID    TARGET  DAYS_EMPLOYED    INCOME  \\\n",
              "Cust_ID                     1.000000  0.005502       0.002465 -0.003224   \n",
              "TARGET                      0.005502  1.000000      -0.043798  0.003209   \n",
              "DAYS_EMPLOYED               0.002465 -0.043798       1.000000 -0.043064   \n",
              "INCOME                     -0.003224  0.003209      -0.043064  1.000000   \n",
              "Loan_AMT                   -0.001235 -0.030425      -0.067486  0.103743   \n",
              "age                        -0.001166  0.077260      -0.615530  0.019943   \n",
              "Work_Exp                    0.002465 -0.043798       1.000000 -0.043064   \n",
              "REGISTRATION_change        -0.000877  0.039388      -0.207209  0.016871   \n",
              "DAYS_ID_PUBLISH             0.000985  0.052699      -0.271894  0.005238   \n",
              "MOBIL_given                 0.003714  0.000888       0.001349  0.000356   \n",
              "EMAIL_given                 0.004453 -0.002314      -0.062400  0.024628   \n",
              "REGION_CLIENT               0.002683  0.059714       0.031955 -0.056008   \n",
              "REGION_CLIENT_CITY          0.001681  0.061265       0.033434 -0.060258   \n",
              "Perman_add_NOT_cont_REGION -0.002489  0.005465      -0.037708  0.020677   \n",
              "perman_add_NOT_WORK_add     0.002253  0.005505      -0.106636  0.041675   \n",
              "\n",
              "                            Loan_AMT       age  Work_Exp  REGISTRATION_change  \\\n",
              "Cust_ID                    -0.001235 -0.001166  0.002465            -0.000877   \n",
              "TARGET                     -0.030425  0.077260 -0.043798             0.039388   \n",
              "DAYS_EMPLOYED              -0.067486 -0.615530  1.000000            -0.207209   \n",
              "INCOME                      0.103743  0.019943 -0.043064             0.016871   \n",
              "Loan_AMT                    1.000000 -0.056979 -0.067486             0.005419   \n",
              "age                        -0.056979  1.000000 -0.615530             0.329423   \n",
              "Work_Exp                   -0.067486 -0.615530  1.000000            -0.207209   \n",
              "REGISTRATION_change         0.005419  0.329423 -0.207209             1.000000   \n",
              "DAYS_ID_PUBLISH            -0.011956  0.271771 -0.271894             0.101602   \n",
              "MOBIL_given                 0.002373 -0.005088  0.001349            -0.000163   \n",
              "EMAIL_given                 0.014611  0.090630 -0.062400             0.034424   \n",
              "REGION_CLIENT              -0.101258  0.014218  0.031955             0.082778   \n",
              "REGION_CLIENT_CITY         -0.110164  0.012919  0.033434             0.076605   \n",
              "Perman_add_NOT_cont_REGION  0.022468  0.064245 -0.037708             0.029154   \n",
              "perman_add_NOT_WORK_add     0.049147  0.095442 -0.106636             0.038791   \n",
              "\n",
              "                            DAYS_ID_PUBLISH  MOBIL_given  EMAIL_given  \\\n",
              "Cust_ID                            0.000985     0.003714     0.004453   \n",
              "TARGET                             0.052699     0.000888    -0.002314   \n",
              "DAYS_EMPLOYED                     -0.271894     0.001349    -0.062400   \n",
              "INCOME                             0.005238     0.000356     0.024628   \n",
              "Loan_AMT                          -0.011956     0.002373     0.014611   \n",
              "age                                0.271771    -0.005088     0.090630   \n",
              "Work_Exp                          -0.271894     0.001349    -0.062400   \n",
              "REGISTRATION_change                0.101602    -0.000163     0.034424   \n",
              "DAYS_ID_PUBLISH                    1.000000    -0.003784     0.026946   \n",
              "MOBIL_given                       -0.003784     1.000000     0.000728   \n",
              "EMAIL_given                        0.026946     0.000728     1.000000   \n",
              "REGION_CLIENT                     -0.003427     0.000312    -0.050701   \n",
              "REGION_CLIENT_CITY                -0.006485     0.000191    -0.048820   \n",
              "Perman_add_NOT_cont_REGION         0.032925     0.000369     0.017821   \n",
              "perman_add_NOT_WORK_add            0.047929     0.000688     0.033722   \n",
              "\n",
              "                            REGION_CLIENT  REGION_CLIENT_CITY  \\\n",
              "Cust_ID                          0.002683            0.001681   \n",
              "TARGET                           0.059714            0.061265   \n",
              "DAYS_EMPLOYED                    0.031955            0.033434   \n",
              "INCOME                          -0.056008           -0.060258   \n",
              "Loan_AMT                        -0.101258           -0.110164   \n",
              "age                              0.014218            0.012919   \n",
              "Work_Exp                         0.031955            0.033434   \n",
              "REGISTRATION_change              0.082778            0.076605   \n",
              "DAYS_ID_PUBLISH                 -0.003427           -0.006485   \n",
              "MOBIL_given                      0.000312            0.000191   \n",
              "EMAIL_given                     -0.050701           -0.048820   \n",
              "REGION_CLIENT                    1.000000            0.950551   \n",
              "REGION_CLIENT_CITY               0.950551            1.000000   \n",
              "Perman_add_NOT_cont_REGION      -0.044275           -0.040943   \n",
              "perman_add_NOT_WORK_add         -0.141898           -0.135229   \n",
              "\n",
              "                            Perman_add_NOT_cont_REGION  \\\n",
              "Cust_ID                                      -0.002489   \n",
              "TARGET                                        0.005465   \n",
              "DAYS_EMPLOYED                                -0.037708   \n",
              "INCOME                                        0.020677   \n",
              "Loan_AMT                                      0.022468   \n",
              "age                                           0.064245   \n",
              "Work_Exp                                     -0.037708   \n",
              "REGISTRATION_change                           0.029154   \n",
              "DAYS_ID_PUBLISH                               0.032925   \n",
              "MOBIL_given                                   0.000369   \n",
              "EMAIL_given                                   0.017821   \n",
              "REGION_CLIENT                                -0.044275   \n",
              "REGION_CLIENT_CITY                           -0.040943   \n",
              "Perman_add_NOT_cont_REGION                    1.000000   \n",
              "perman_add_NOT_WORK_add                       0.457645   \n",
              "\n",
              "                            perman_add_NOT_WORK_add  \n",
              "Cust_ID                                    0.002253  \n",
              "TARGET                                     0.005505  \n",
              "DAYS_EMPLOYED                             -0.106636  \n",
              "INCOME                                     0.041675  \n",
              "Loan_AMT                                   0.049147  \n",
              "age                                        0.095442  \n",
              "Work_Exp                                  -0.106636  \n",
              "REGISTRATION_change                        0.038791  \n",
              "DAYS_ID_PUBLISH                            0.047929  \n",
              "MOBIL_given                                0.000688  \n",
              "EMAIL_given                                0.033722  \n",
              "REGION_CLIENT                             -0.141898  \n",
              "REGION_CLIENT_CITY                        -0.135229  \n",
              "Perman_add_NOT_cont_REGION                 0.457645  \n",
              "perman_add_NOT_WORK_add                    1.000000  "
            ],
            "text/html": [
              "\n",
              "  <div id=\"df-48334f72-548b-4ffc-b9f2-2f5de4db923d\">\n",
              "    <div class=\"colab-df-container\">\n",
              "      <div>\n",
              "<style scoped>\n",
              "    .dataframe tbody tr th:only-of-type {\n",
              "        vertical-align: middle;\n",
              "    }\n",
              "\n",
              "    .dataframe tbody tr th {\n",
              "        vertical-align: top;\n",
              "    }\n",
              "\n",
              "    .dataframe thead th {\n",
              "        text-align: right;\n",
              "    }\n",
              "</style>\n",
              "<table border=\"1\" class=\"dataframe\">\n",
              "  <thead>\n",
              "    <tr style=\"text-align: right;\">\n",
              "      <th></th>\n",
              "      <th>Cust_ID</th>\n",
              "      <th>TARGET</th>\n",
              "      <th>DAYS_EMPLOYED</th>\n",
              "      <th>INCOME</th>\n",
              "      <th>Loan_AMT</th>\n",
              "      <th>age</th>\n",
              "      <th>Work_Exp</th>\n",
              "      <th>REGISTRATION_change</th>\n",
              "      <th>DAYS_ID_PUBLISH</th>\n",
              "      <th>MOBIL_given</th>\n",
              "      <th>EMAIL_given</th>\n",
              "      <th>REGION_CLIENT</th>\n",
              "      <th>REGION_CLIENT_CITY</th>\n",
              "      <th>Perman_add_NOT_cont_REGION</th>\n",
              "      <th>perman_add_NOT_WORK_add</th>\n",
              "    </tr>\n",
              "  </thead>\n",
              "  <tbody>\n",
              "    <tr>\n",
              "      <th>Cust_ID</th>\n",
              "      <td>1.000000</td>\n",
              "      <td>0.005502</td>\n",
              "      <td>0.002465</td>\n",
              "      <td>-0.003224</td>\n",
              "      <td>-0.001235</td>\n",
              "      <td>-0.001166</td>\n",
              "      <td>0.002465</td>\n",
              "      <td>-0.000877</td>\n",
              "      <td>0.000985</td>\n",
              "      <td>0.003714</td>\n",
              "      <td>0.004453</td>\n",
              "      <td>0.002683</td>\n",
              "      <td>0.001681</td>\n",
              "      <td>-0.002489</td>\n",
              "      <td>0.002253</td>\n",
              "    </tr>\n",
              "    <tr>\n",
              "      <th>TARGET</th>\n",
              "      <td>0.005502</td>\n",
              "      <td>1.000000</td>\n",
              "      <td>-0.043798</td>\n",
              "      <td>0.003209</td>\n",
              "      <td>-0.030425</td>\n",
              "      <td>0.077260</td>\n",
              "      <td>-0.043798</td>\n",
              "      <td>0.039388</td>\n",
              "      <td>0.052699</td>\n",
              "      <td>0.000888</td>\n",
              "      <td>-0.002314</td>\n",
              "      <td>0.059714</td>\n",
              "      <td>0.061265</td>\n",
              "      <td>0.005465</td>\n",
              "      <td>0.005505</td>\n",
              "    </tr>\n",
              "    <tr>\n",
              "      <th>DAYS_EMPLOYED</th>\n",
              "      <td>0.002465</td>\n",
              "      <td>-0.043798</td>\n",
              "      <td>1.000000</td>\n",
              "      <td>-0.043064</td>\n",
              "      <td>-0.067486</td>\n",
              "      <td>-0.615530</td>\n",
              "      <td>1.000000</td>\n",
              "      <td>-0.207209</td>\n",
              "      <td>-0.271894</td>\n",
              "      <td>0.001349</td>\n",
              "      <td>-0.062400</td>\n",
              "      <td>0.031955</td>\n",
              "      <td>0.033434</td>\n",
              "      <td>-0.037708</td>\n",
              "      <td>-0.106636</td>\n",
              "    </tr>\n",
              "    <tr>\n",
              "      <th>INCOME</th>\n",
              "      <td>-0.003224</td>\n",
              "      <td>0.003209</td>\n",
              "      <td>-0.043064</td>\n",
              "      <td>1.000000</td>\n",
              "      <td>0.103743</td>\n",
              "      <td>0.019943</td>\n",
              "      <td>-0.043064</td>\n",
              "      <td>0.016871</td>\n",
              "      <td>0.005238</td>\n",
              "      <td>0.000356</td>\n",
              "      <td>0.024628</td>\n",
              "      <td>-0.056008</td>\n",
              "      <td>-0.060258</td>\n",
              "      <td>0.020677</td>\n",
              "      <td>0.041675</td>\n",
              "    </tr>\n",
              "    <tr>\n",
              "      <th>Loan_AMT</th>\n",
              "      <td>-0.001235</td>\n",
              "      <td>-0.030425</td>\n",
              "      <td>-0.067486</td>\n",
              "      <td>0.103743</td>\n",
              "      <td>1.000000</td>\n",
              "      <td>-0.056979</td>\n",
              "      <td>-0.067486</td>\n",
              "      <td>0.005419</td>\n",
              "      <td>-0.011956</td>\n",
              "      <td>0.002373</td>\n",
              "      <td>0.014611</td>\n",
              "      <td>-0.101258</td>\n",
              "      <td>-0.110164</td>\n",
              "      <td>0.022468</td>\n",
              "      <td>0.049147</td>\n",
              "    </tr>\n",
              "    <tr>\n",
              "      <th>age</th>\n",
              "      <td>-0.001166</td>\n",
              "      <td>0.077260</td>\n",
              "      <td>-0.615530</td>\n",
              "      <td>0.019943</td>\n",
              "      <td>-0.056979</td>\n",
              "      <td>1.000000</td>\n",
              "      <td>-0.615530</td>\n",
              "      <td>0.329423</td>\n",
              "      <td>0.271771</td>\n",
              "      <td>-0.005088</td>\n",
              "      <td>0.090630</td>\n",
              "      <td>0.014218</td>\n",
              "      <td>0.012919</td>\n",
              "      <td>0.064245</td>\n",
              "      <td>0.095442</td>\n",
              "    </tr>\n",
              "    <tr>\n",
              "      <th>Work_Exp</th>\n",
              "      <td>0.002465</td>\n",
              "      <td>-0.043798</td>\n",
              "      <td>1.000000</td>\n",
              "      <td>-0.043064</td>\n",
              "      <td>-0.067486</td>\n",
              "      <td>-0.615530</td>\n",
              "      <td>1.000000</td>\n",
              "      <td>-0.207209</td>\n",
              "      <td>-0.271894</td>\n",
              "      <td>0.001349</td>\n",
              "      <td>-0.062400</td>\n",
              "      <td>0.031955</td>\n",
              "      <td>0.033434</td>\n",
              "      <td>-0.037708</td>\n",
              "      <td>-0.106636</td>\n",
              "    </tr>\n",
              "    <tr>\n",
              "      <th>REGISTRATION_change</th>\n",
              "      <td>-0.000877</td>\n",
              "      <td>0.039388</td>\n",
              "      <td>-0.207209</td>\n",
              "      <td>0.016871</td>\n",
              "      <td>0.005419</td>\n",
              "      <td>0.329423</td>\n",
              "      <td>-0.207209</td>\n",
              "      <td>1.000000</td>\n",
              "      <td>0.101602</td>\n",
              "      <td>-0.000163</td>\n",
              "      <td>0.034424</td>\n",
              "      <td>0.082778</td>\n",
              "      <td>0.076605</td>\n",
              "      <td>0.029154</td>\n",
              "      <td>0.038791</td>\n",
              "    </tr>\n",
              "    <tr>\n",
              "      <th>DAYS_ID_PUBLISH</th>\n",
              "      <td>0.000985</td>\n",
              "      <td>0.052699</td>\n",
              "      <td>-0.271894</td>\n",
              "      <td>0.005238</td>\n",
              "      <td>-0.011956</td>\n",
              "      <td>0.271771</td>\n",
              "      <td>-0.271894</td>\n",
              "      <td>0.101602</td>\n",
              "      <td>1.000000</td>\n",
              "      <td>-0.003784</td>\n",
              "      <td>0.026946</td>\n",
              "      <td>-0.003427</td>\n",
              "      <td>-0.006485</td>\n",
              "      <td>0.032925</td>\n",
              "      <td>0.047929</td>\n",
              "    </tr>\n",
              "    <tr>\n",
              "      <th>MOBIL_given</th>\n",
              "      <td>0.003714</td>\n",
              "      <td>0.000888</td>\n",
              "      <td>0.001349</td>\n",
              "      <td>0.000356</td>\n",
              "      <td>0.002373</td>\n",
              "      <td>-0.005088</td>\n",
              "      <td>0.001349</td>\n",
              "      <td>-0.000163</td>\n",
              "      <td>-0.003784</td>\n",
              "      <td>1.000000</td>\n",
              "      <td>0.000728</td>\n",
              "      <td>0.000312</td>\n",
              "      <td>0.000191</td>\n",
              "      <td>0.000369</td>\n",
              "      <td>0.000688</td>\n",
              "    </tr>\n",
              "    <tr>\n",
              "      <th>EMAIL_given</th>\n",
              "      <td>0.004453</td>\n",
              "      <td>-0.002314</td>\n",
              "      <td>-0.062400</td>\n",
              "      <td>0.024628</td>\n",
              "      <td>0.014611</td>\n",
              "      <td>0.090630</td>\n",
              "      <td>-0.062400</td>\n",
              "      <td>0.034424</td>\n",
              "      <td>0.026946</td>\n",
              "      <td>0.000728</td>\n",
              "      <td>1.000000</td>\n",
              "      <td>-0.050701</td>\n",
              "      <td>-0.048820</td>\n",
              "      <td>0.017821</td>\n",
              "      <td>0.033722</td>\n",
              "    </tr>\n",
              "    <tr>\n",
              "      <th>REGION_CLIENT</th>\n",
              "      <td>0.002683</td>\n",
              "      <td>0.059714</td>\n",
              "      <td>0.031955</td>\n",
              "      <td>-0.056008</td>\n",
              "      <td>-0.101258</td>\n",
              "      <td>0.014218</td>\n",
              "      <td>0.031955</td>\n",
              "      <td>0.082778</td>\n",
              "      <td>-0.003427</td>\n",
              "      <td>0.000312</td>\n",
              "      <td>-0.050701</td>\n",
              "      <td>1.000000</td>\n",
              "      <td>0.950551</td>\n",
              "      <td>-0.044275</td>\n",
              "      <td>-0.141898</td>\n",
              "    </tr>\n",
              "    <tr>\n",
              "      <th>REGION_CLIENT_CITY</th>\n",
              "      <td>0.001681</td>\n",
              "      <td>0.061265</td>\n",
              "      <td>0.033434</td>\n",
              "      <td>-0.060258</td>\n",
              "      <td>-0.110164</td>\n",
              "      <td>0.012919</td>\n",
              "      <td>0.033434</td>\n",
              "      <td>0.076605</td>\n",
              "      <td>-0.006485</td>\n",
              "      <td>0.000191</td>\n",
              "      <td>-0.048820</td>\n",
              "      <td>0.950551</td>\n",
              "      <td>1.000000</td>\n",
              "      <td>-0.040943</td>\n",
              "      <td>-0.135229</td>\n",
              "    </tr>\n",
              "    <tr>\n",
              "      <th>Perman_add_NOT_cont_REGION</th>\n",
              "      <td>-0.002489</td>\n",
              "      <td>0.005465</td>\n",
              "      <td>-0.037708</td>\n",
              "      <td>0.020677</td>\n",
              "      <td>0.022468</td>\n",
              "      <td>0.064245</td>\n",
              "      <td>-0.037708</td>\n",
              "      <td>0.029154</td>\n",
              "      <td>0.032925</td>\n",
              "      <td>0.000369</td>\n",
              "      <td>0.017821</td>\n",
              "      <td>-0.044275</td>\n",
              "      <td>-0.040943</td>\n",
              "      <td>1.000000</td>\n",
              "      <td>0.457645</td>\n",
              "    </tr>\n",
              "    <tr>\n",
              "      <th>perman_add_NOT_WORK_add</th>\n",
              "      <td>0.002253</td>\n",
              "      <td>0.005505</td>\n",
              "      <td>-0.106636</td>\n",
              "      <td>0.041675</td>\n",
              "      <td>0.049147</td>\n",
              "      <td>0.095442</td>\n",
              "      <td>-0.106636</td>\n",
              "      <td>0.038791</td>\n",
              "      <td>0.047929</td>\n",
              "      <td>0.000688</td>\n",
              "      <td>0.033722</td>\n",
              "      <td>-0.141898</td>\n",
              "      <td>-0.135229</td>\n",
              "      <td>0.457645</td>\n",
              "      <td>1.000000</td>\n",
              "    </tr>\n",
              "  </tbody>\n",
              "</table>\n",
              "</div>\n",
              "      <button class=\"colab-df-convert\" onclick=\"convertToInteractive('df-48334f72-548b-4ffc-b9f2-2f5de4db923d')\"\n",
              "              title=\"Convert this dataframe to an interactive table.\"\n",
              "              style=\"display:none;\">\n",
              "        \n",
              "  <svg xmlns=\"http://www.w3.org/2000/svg\" height=\"24px\"viewBox=\"0 0 24 24\"\n",
              "       width=\"24px\">\n",
              "    <path d=\"M0 0h24v24H0V0z\" fill=\"none\"/>\n",
              "    <path d=\"M18.56 5.44l.94 2.06.94-2.06 2.06-.94-2.06-.94-.94-2.06-.94 2.06-2.06.94zm-11 1L8.5 8.5l.94-2.06 2.06-.94-2.06-.94L8.5 2.5l-.94 2.06-2.06.94zm10 10l.94 2.06.94-2.06 2.06-.94-2.06-.94-.94-2.06-.94 2.06-2.06.94z\"/><path d=\"M17.41 7.96l-1.37-1.37c-.4-.4-.92-.59-1.43-.59-.52 0-1.04.2-1.43.59L10.3 9.45l-7.72 7.72c-.78.78-.78 2.05 0 2.83L4 21.41c.39.39.9.59 1.41.59.51 0 1.02-.2 1.41-.59l7.78-7.78 2.81-2.81c.8-.78.8-2.07 0-2.86zM5.41 20L4 18.59l7.72-7.72 1.47 1.35L5.41 20z\"/>\n",
              "  </svg>\n",
              "      </button>\n",
              "      \n",
              "  <style>\n",
              "    .colab-df-container {\n",
              "      display:flex;\n",
              "      flex-wrap:wrap;\n",
              "      gap: 12px;\n",
              "    }\n",
              "\n",
              "    .colab-df-convert {\n",
              "      background-color: #E8F0FE;\n",
              "      border: none;\n",
              "      border-radius: 50%;\n",
              "      cursor: pointer;\n",
              "      display: none;\n",
              "      fill: #1967D2;\n",
              "      height: 32px;\n",
              "      padding: 0 0 0 0;\n",
              "      width: 32px;\n",
              "    }\n",
              "\n",
              "    .colab-df-convert:hover {\n",
              "      background-color: #E2EBFA;\n",
              "      box-shadow: 0px 1px 2px rgba(60, 64, 67, 0.3), 0px 1px 3px 1px rgba(60, 64, 67, 0.15);\n",
              "      fill: #174EA6;\n",
              "    }\n",
              "\n",
              "    [theme=dark] .colab-df-convert {\n",
              "      background-color: #3B4455;\n",
              "      fill: #D2E3FC;\n",
              "    }\n",
              "\n",
              "    [theme=dark] .colab-df-convert:hover {\n",
              "      background-color: #434B5C;\n",
              "      box-shadow: 0px 1px 3px 1px rgba(0, 0, 0, 0.15);\n",
              "      filter: drop-shadow(0px 1px 2px rgba(0, 0, 0, 0.3));\n",
              "      fill: #FFFFFF;\n",
              "    }\n",
              "  </style>\n",
              "\n",
              "      <script>\n",
              "        const buttonEl =\n",
              "          document.querySelector('#df-48334f72-548b-4ffc-b9f2-2f5de4db923d button.colab-df-convert');\n",
              "        buttonEl.style.display =\n",
              "          google.colab.kernel.accessAllowed ? 'block' : 'none';\n",
              "\n",
              "        async function convertToInteractive(key) {\n",
              "          const element = document.querySelector('#df-48334f72-548b-4ffc-b9f2-2f5de4db923d');\n",
              "          const dataTable =\n",
              "            await google.colab.kernel.invokeFunction('convertToInteractive',\n",
              "                                                     [key], {});\n",
              "          if (!dataTable) return;\n",
              "\n",
              "          const docLinkHtml = 'Like what you see? Visit the ' +\n",
              "            '<a target=\"_blank\" href=https://colab.research.google.com/notebooks/data_table.ipynb>data table notebook</a>'\n",
              "            + ' to learn more about interactive tables.';\n",
              "          element.innerHTML = '';\n",
              "          dataTable['output_type'] = 'display_data';\n",
              "          await google.colab.output.renderOutput(dataTable, element);\n",
              "          const docLink = document.createElement('div');\n",
              "          docLink.innerHTML = docLinkHtml;\n",
              "          element.appendChild(docLink);\n",
              "        }\n",
              "      </script>\n",
              "    </div>\n",
              "  </div>\n",
              "  "
            ]
          },
          "metadata": {},
          "execution_count": 42
        }
      ]
    },
    {
      "cell_type": "code",
      "source": [
        "#statistical summary of all the non numeric columns\n",
        "new_df.describe(include='all')"
      ],
      "metadata": {
        "colab": {
          "base_uri": "https://localhost:8080/",
          "height": 540
        },
        "id": "UcfsS0sBSqsZ",
        "outputId": "81664646-d333-48fb-991e-7b1fbe70f2a7"
      },
      "execution_count": null,
      "outputs": [
        {
          "output_type": "execute_result",
          "data": {
            "text/plain": [
              "              Cust_ID         TARGET  DAYS_EMPLOYED        INCOME  \\\n",
              "count   112568.000000  112568.000000  112568.000000  1.125680e+05   \n",
              "unique            NaN            NaN            NaN           NaN   \n",
              "top               NaN            NaN            NaN           NaN   \n",
              "freq              NaN            NaN            NaN           NaN   \n",
              "mean    165299.106735       0.081506   63559.335913  1.693523e+05   \n",
              "std      37695.825512       0.273612  141062.951776  3.633325e+05   \n",
              "min     100002.000000       0.000000  -17531.000000  2.565000e+04   \n",
              "25%     132708.750000       0.000000   -2759.000000  1.125000e+05   \n",
              "50%     165224.500000       0.000000   -1217.000000  1.440000e+05   \n",
              "75%     197943.250000       0.000000    -289.000000  2.025000e+05   \n",
              "max     230577.000000       1.000000  365243.000000  1.170000e+08   \n",
              "\n",
              "            Loan_AMT   ANNUITY  GOODS_PRICE INCOME_TYPE  \\\n",
              "count   1.125680e+05  112568.0     112568.0      112568   \n",
              "unique           NaN   11111.0        644.0           8   \n",
              "top              NaN    9000.0     450000.0     Working   \n",
              "freq             NaN    2361.0       9486.0       58324   \n",
              "mean    5.988978e+05       NaN          NaN         NaN   \n",
              "std     4.022424e+05       NaN          NaN         NaN   \n",
              "min     4.500000e+04       NaN          NaN         NaN   \n",
              "25%     2.700000e+05       NaN          NaN         NaN   \n",
              "50%     5.124465e+05       NaN          NaN         NaN   \n",
              "75%     8.086500e+05       NaN          NaN         NaN   \n",
              "max     4.050000e+06       NaN          NaN         NaN   \n",
              "\n",
              "                            EDUCATION FAMILY_STATUS  ... REGION_CLIENT_CITY  \\\n",
              "count                          112568        112568  ...      112568.000000   \n",
              "unique                              5             6  ...                NaN   \n",
              "top     Secondary / secondary special       Married  ...                NaN   \n",
              "freq                            80026         72048  ...                NaN   \n",
              "mean                              NaN           NaN  ...           2.032283   \n",
              "std                               NaN           NaN  ...           0.503355   \n",
              "min                               NaN           NaN  ...           1.000000   \n",
              "25%                               NaN           NaN  ...           2.000000   \n",
              "50%                               NaN           NaN  ...           2.000000   \n",
              "75%                               NaN           NaN  ...           2.000000   \n",
              "max                               NaN           NaN  ...           3.000000   \n",
              "\n",
              "        Perman_add_NOT_cont_REGION  perman_add_NOT_WORK_add  \\\n",
              "count                112568.000000            112568.000000   \n",
              "unique                         NaN                      NaN   \n",
              "top                            NaN                      NaN   \n",
              "freq                           NaN                      NaN   \n",
              "mean                      0.015093                 0.050556   \n",
              "std                       0.121924                 0.219090   \n",
              "min                       0.000000                 0.000000   \n",
              "25%                       0.000000                 0.000000   \n",
              "50%                       0.000000                 0.000000   \n",
              "75%                       0.000000                 0.000000   \n",
              "max                       1.000000                 1.000000   \n",
              "\n",
              "             ORGANIZATION_TYPE  EXT_SOURCE_1   EXT_SOURCE_2  EXT_SOURCE_3  \\\n",
              "count                   112568        112568  112568.000000        112568   \n",
              "unique                      58         46349   71125.000000           773   \n",
              "top     Business Entity Type 3           NAN       0.285898           NAN   \n",
              "freq                     25008         63458     259.000000         22341   \n",
              "mean                       NaN           NaN            NaN           NaN   \n",
              "std                        NaN           NaN            NaN           NaN   \n",
              "min                        NaN           NaN            NaN           NaN   \n",
              "25%                        NaN           NaN            NaN           NaN   \n",
              "50%                        NaN           NaN            NaN           NaN   \n",
              "75%                        NaN           NaN            NaN           NaN   \n",
              "max                        NaN           NaN            NaN           NaN   \n",
              "\n",
              "       APARTMENTS_AVG  BASEMENTAREA_AVG  LAST_PHONE_CHANGE  \n",
              "count          112568            112568           112568.0  \n",
              "unique           1929              3272             3587.0  \n",
              "top               NAN               NAN                0.0  \n",
              "freq            57161             65850            13861.0  \n",
              "mean              NaN               NaN                NaN  \n",
              "std               NaN               NaN                NaN  \n",
              "min               NaN               NaN                NaN  \n",
              "25%               NaN               NaN                NaN  \n",
              "50%               NaN               NaN                NaN  \n",
              "75%               NaN               NaN                NaN  \n",
              "max               NaN               NaN                NaN  \n",
              "\n",
              "[11 rows x 30 columns]"
            ],
            "text/html": [
              "\n",
              "  <div id=\"df-ea8e53c3-61dd-4109-b96b-bf403b4f6c4e\">\n",
              "    <div class=\"colab-df-container\">\n",
              "      <div>\n",
              "<style scoped>\n",
              "    .dataframe tbody tr th:only-of-type {\n",
              "        vertical-align: middle;\n",
              "    }\n",
              "\n",
              "    .dataframe tbody tr th {\n",
              "        vertical-align: top;\n",
              "    }\n",
              "\n",
              "    .dataframe thead th {\n",
              "        text-align: right;\n",
              "    }\n",
              "</style>\n",
              "<table border=\"1\" class=\"dataframe\">\n",
              "  <thead>\n",
              "    <tr style=\"text-align: right;\">\n",
              "      <th></th>\n",
              "      <th>Cust_ID</th>\n",
              "      <th>TARGET</th>\n",
              "      <th>DAYS_EMPLOYED</th>\n",
              "      <th>INCOME</th>\n",
              "      <th>Loan_AMT</th>\n",
              "      <th>ANNUITY</th>\n",
              "      <th>GOODS_PRICE</th>\n",
              "      <th>INCOME_TYPE</th>\n",
              "      <th>EDUCATION</th>\n",
              "      <th>FAMILY_STATUS</th>\n",
              "      <th>...</th>\n",
              "      <th>REGION_CLIENT_CITY</th>\n",
              "      <th>Perman_add_NOT_cont_REGION</th>\n",
              "      <th>perman_add_NOT_WORK_add</th>\n",
              "      <th>ORGANIZATION_TYPE</th>\n",
              "      <th>EXT_SOURCE_1</th>\n",
              "      <th>EXT_SOURCE_2</th>\n",
              "      <th>EXT_SOURCE_3</th>\n",
              "      <th>APARTMENTS_AVG</th>\n",
              "      <th>BASEMENTAREA_AVG</th>\n",
              "      <th>LAST_PHONE_CHANGE</th>\n",
              "    </tr>\n",
              "  </thead>\n",
              "  <tbody>\n",
              "    <tr>\n",
              "      <th>count</th>\n",
              "      <td>112568.000000</td>\n",
              "      <td>112568.000000</td>\n",
              "      <td>112568.000000</td>\n",
              "      <td>1.125680e+05</td>\n",
              "      <td>1.125680e+05</td>\n",
              "      <td>112568.0</td>\n",
              "      <td>112568.0</td>\n",
              "      <td>112568</td>\n",
              "      <td>112568</td>\n",
              "      <td>112568</td>\n",
              "      <td>...</td>\n",
              "      <td>112568.000000</td>\n",
              "      <td>112568.000000</td>\n",
              "      <td>112568.000000</td>\n",
              "      <td>112568</td>\n",
              "      <td>112568</td>\n",
              "      <td>112568.000000</td>\n",
              "      <td>112568</td>\n",
              "      <td>112568</td>\n",
              "      <td>112568</td>\n",
              "      <td>112568.0</td>\n",
              "    </tr>\n",
              "    <tr>\n",
              "      <th>unique</th>\n",
              "      <td>NaN</td>\n",
              "      <td>NaN</td>\n",
              "      <td>NaN</td>\n",
              "      <td>NaN</td>\n",
              "      <td>NaN</td>\n",
              "      <td>11111.0</td>\n",
              "      <td>644.0</td>\n",
              "      <td>8</td>\n",
              "      <td>5</td>\n",
              "      <td>6</td>\n",
              "      <td>...</td>\n",
              "      <td>NaN</td>\n",
              "      <td>NaN</td>\n",
              "      <td>NaN</td>\n",
              "      <td>58</td>\n",
              "      <td>46349</td>\n",
              "      <td>71125.000000</td>\n",
              "      <td>773</td>\n",
              "      <td>1929</td>\n",
              "      <td>3272</td>\n",
              "      <td>3587.0</td>\n",
              "    </tr>\n",
              "    <tr>\n",
              "      <th>top</th>\n",
              "      <td>NaN</td>\n",
              "      <td>NaN</td>\n",
              "      <td>NaN</td>\n",
              "      <td>NaN</td>\n",
              "      <td>NaN</td>\n",
              "      <td>9000.0</td>\n",
              "      <td>450000.0</td>\n",
              "      <td>Working</td>\n",
              "      <td>Secondary / secondary special</td>\n",
              "      <td>Married</td>\n",
              "      <td>...</td>\n",
              "      <td>NaN</td>\n",
              "      <td>NaN</td>\n",
              "      <td>NaN</td>\n",
              "      <td>Business Entity Type 3</td>\n",
              "      <td>NAN</td>\n",
              "      <td>0.285898</td>\n",
              "      <td>NAN</td>\n",
              "      <td>NAN</td>\n",
              "      <td>NAN</td>\n",
              "      <td>0.0</td>\n",
              "    </tr>\n",
              "    <tr>\n",
              "      <th>freq</th>\n",
              "      <td>NaN</td>\n",
              "      <td>NaN</td>\n",
              "      <td>NaN</td>\n",
              "      <td>NaN</td>\n",
              "      <td>NaN</td>\n",
              "      <td>2361.0</td>\n",
              "      <td>9486.0</td>\n",
              "      <td>58324</td>\n",
              "      <td>80026</td>\n",
              "      <td>72048</td>\n",
              "      <td>...</td>\n",
              "      <td>NaN</td>\n",
              "      <td>NaN</td>\n",
              "      <td>NaN</td>\n",
              "      <td>25008</td>\n",
              "      <td>63458</td>\n",
              "      <td>259.000000</td>\n",
              "      <td>22341</td>\n",
              "      <td>57161</td>\n",
              "      <td>65850</td>\n",
              "      <td>13861.0</td>\n",
              "    </tr>\n",
              "    <tr>\n",
              "      <th>mean</th>\n",
              "      <td>165299.106735</td>\n",
              "      <td>0.081506</td>\n",
              "      <td>63559.335913</td>\n",
              "      <td>1.693523e+05</td>\n",
              "      <td>5.988978e+05</td>\n",
              "      <td>NaN</td>\n",
              "      <td>NaN</td>\n",
              "      <td>NaN</td>\n",
              "      <td>NaN</td>\n",
              "      <td>NaN</td>\n",
              "      <td>...</td>\n",
              "      <td>2.032283</td>\n",
              "      <td>0.015093</td>\n",
              "      <td>0.050556</td>\n",
              "      <td>NaN</td>\n",
              "      <td>NaN</td>\n",
              "      <td>NaN</td>\n",
              "      <td>NaN</td>\n",
              "      <td>NaN</td>\n",
              "      <td>NaN</td>\n",
              "      <td>NaN</td>\n",
              "    </tr>\n",
              "    <tr>\n",
              "      <th>std</th>\n",
              "      <td>37695.825512</td>\n",
              "      <td>0.273612</td>\n",
              "      <td>141062.951776</td>\n",
              "      <td>3.633325e+05</td>\n",
              "      <td>4.022424e+05</td>\n",
              "      <td>NaN</td>\n",
              "      <td>NaN</td>\n",
              "      <td>NaN</td>\n",
              "      <td>NaN</td>\n",
              "      <td>NaN</td>\n",
              "      <td>...</td>\n",
              "      <td>0.503355</td>\n",
              "      <td>0.121924</td>\n",
              "      <td>0.219090</td>\n",
              "      <td>NaN</td>\n",
              "      <td>NaN</td>\n",
              "      <td>NaN</td>\n",
              "      <td>NaN</td>\n",
              "      <td>NaN</td>\n",
              "      <td>NaN</td>\n",
              "      <td>NaN</td>\n",
              "    </tr>\n",
              "    <tr>\n",
              "      <th>min</th>\n",
              "      <td>100002.000000</td>\n",
              "      <td>0.000000</td>\n",
              "      <td>-17531.000000</td>\n",
              "      <td>2.565000e+04</td>\n",
              "      <td>4.500000e+04</td>\n",
              "      <td>NaN</td>\n",
              "      <td>NaN</td>\n",
              "      <td>NaN</td>\n",
              "      <td>NaN</td>\n",
              "      <td>NaN</td>\n",
              "      <td>...</td>\n",
              "      <td>1.000000</td>\n",
              "      <td>0.000000</td>\n",
              "      <td>0.000000</td>\n",
              "      <td>NaN</td>\n",
              "      <td>NaN</td>\n",
              "      <td>NaN</td>\n",
              "      <td>NaN</td>\n",
              "      <td>NaN</td>\n",
              "      <td>NaN</td>\n",
              "      <td>NaN</td>\n",
              "    </tr>\n",
              "    <tr>\n",
              "      <th>25%</th>\n",
              "      <td>132708.750000</td>\n",
              "      <td>0.000000</td>\n",
              "      <td>-2759.000000</td>\n",
              "      <td>1.125000e+05</td>\n",
              "      <td>2.700000e+05</td>\n",
              "      <td>NaN</td>\n",
              "      <td>NaN</td>\n",
              "      <td>NaN</td>\n",
              "      <td>NaN</td>\n",
              "      <td>NaN</td>\n",
              "      <td>...</td>\n",
              "      <td>2.000000</td>\n",
              "      <td>0.000000</td>\n",
              "      <td>0.000000</td>\n",
              "      <td>NaN</td>\n",
              "      <td>NaN</td>\n",
              "      <td>NaN</td>\n",
              "      <td>NaN</td>\n",
              "      <td>NaN</td>\n",
              "      <td>NaN</td>\n",
              "      <td>NaN</td>\n",
              "    </tr>\n",
              "    <tr>\n",
              "      <th>50%</th>\n",
              "      <td>165224.500000</td>\n",
              "      <td>0.000000</td>\n",
              "      <td>-1217.000000</td>\n",
              "      <td>1.440000e+05</td>\n",
              "      <td>5.124465e+05</td>\n",
              "      <td>NaN</td>\n",
              "      <td>NaN</td>\n",
              "      <td>NaN</td>\n",
              "      <td>NaN</td>\n",
              "      <td>NaN</td>\n",
              "      <td>...</td>\n",
              "      <td>2.000000</td>\n",
              "      <td>0.000000</td>\n",
              "      <td>0.000000</td>\n",
              "      <td>NaN</td>\n",
              "      <td>NaN</td>\n",
              "      <td>NaN</td>\n",
              "      <td>NaN</td>\n",
              "      <td>NaN</td>\n",
              "      <td>NaN</td>\n",
              "      <td>NaN</td>\n",
              "    </tr>\n",
              "    <tr>\n",
              "      <th>75%</th>\n",
              "      <td>197943.250000</td>\n",
              "      <td>0.000000</td>\n",
              "      <td>-289.000000</td>\n",
              "      <td>2.025000e+05</td>\n",
              "      <td>8.086500e+05</td>\n",
              "      <td>NaN</td>\n",
              "      <td>NaN</td>\n",
              "      <td>NaN</td>\n",
              "      <td>NaN</td>\n",
              "      <td>NaN</td>\n",
              "      <td>...</td>\n",
              "      <td>2.000000</td>\n",
              "      <td>0.000000</td>\n",
              "      <td>0.000000</td>\n",
              "      <td>NaN</td>\n",
              "      <td>NaN</td>\n",
              "      <td>NaN</td>\n",
              "      <td>NaN</td>\n",
              "      <td>NaN</td>\n",
              "      <td>NaN</td>\n",
              "      <td>NaN</td>\n",
              "    </tr>\n",
              "    <tr>\n",
              "      <th>max</th>\n",
              "      <td>230577.000000</td>\n",
              "      <td>1.000000</td>\n",
              "      <td>365243.000000</td>\n",
              "      <td>1.170000e+08</td>\n",
              "      <td>4.050000e+06</td>\n",
              "      <td>NaN</td>\n",
              "      <td>NaN</td>\n",
              "      <td>NaN</td>\n",
              "      <td>NaN</td>\n",
              "      <td>NaN</td>\n",
              "      <td>...</td>\n",
              "      <td>3.000000</td>\n",
              "      <td>1.000000</td>\n",
              "      <td>1.000000</td>\n",
              "      <td>NaN</td>\n",
              "      <td>NaN</td>\n",
              "      <td>NaN</td>\n",
              "      <td>NaN</td>\n",
              "      <td>NaN</td>\n",
              "      <td>NaN</td>\n",
              "      <td>NaN</td>\n",
              "    </tr>\n",
              "  </tbody>\n",
              "</table>\n",
              "<p>11 rows × 30 columns</p>\n",
              "</div>\n",
              "      <button class=\"colab-df-convert\" onclick=\"convertToInteractive('df-ea8e53c3-61dd-4109-b96b-bf403b4f6c4e')\"\n",
              "              title=\"Convert this dataframe to an interactive table.\"\n",
              "              style=\"display:none;\">\n",
              "        \n",
              "  <svg xmlns=\"http://www.w3.org/2000/svg\" height=\"24px\"viewBox=\"0 0 24 24\"\n",
              "       width=\"24px\">\n",
              "    <path d=\"M0 0h24v24H0V0z\" fill=\"none\"/>\n",
              "    <path d=\"M18.56 5.44l.94 2.06.94-2.06 2.06-.94-2.06-.94-.94-2.06-.94 2.06-2.06.94zm-11 1L8.5 8.5l.94-2.06 2.06-.94-2.06-.94L8.5 2.5l-.94 2.06-2.06.94zm10 10l.94 2.06.94-2.06 2.06-.94-2.06-.94-.94-2.06-.94 2.06-2.06.94z\"/><path d=\"M17.41 7.96l-1.37-1.37c-.4-.4-.92-.59-1.43-.59-.52 0-1.04.2-1.43.59L10.3 9.45l-7.72 7.72c-.78.78-.78 2.05 0 2.83L4 21.41c.39.39.9.59 1.41.59.51 0 1.02-.2 1.41-.59l7.78-7.78 2.81-2.81c.8-.78.8-2.07 0-2.86zM5.41 20L4 18.59l7.72-7.72 1.47 1.35L5.41 20z\"/>\n",
              "  </svg>\n",
              "      </button>\n",
              "      \n",
              "  <style>\n",
              "    .colab-df-container {\n",
              "      display:flex;\n",
              "      flex-wrap:wrap;\n",
              "      gap: 12px;\n",
              "    }\n",
              "\n",
              "    .colab-df-convert {\n",
              "      background-color: #E8F0FE;\n",
              "      border: none;\n",
              "      border-radius: 50%;\n",
              "      cursor: pointer;\n",
              "      display: none;\n",
              "      fill: #1967D2;\n",
              "      height: 32px;\n",
              "      padding: 0 0 0 0;\n",
              "      width: 32px;\n",
              "    }\n",
              "\n",
              "    .colab-df-convert:hover {\n",
              "      background-color: #E2EBFA;\n",
              "      box-shadow: 0px 1px 2px rgba(60, 64, 67, 0.3), 0px 1px 3px 1px rgba(60, 64, 67, 0.15);\n",
              "      fill: #174EA6;\n",
              "    }\n",
              "\n",
              "    [theme=dark] .colab-df-convert {\n",
              "      background-color: #3B4455;\n",
              "      fill: #D2E3FC;\n",
              "    }\n",
              "\n",
              "    [theme=dark] .colab-df-convert:hover {\n",
              "      background-color: #434B5C;\n",
              "      box-shadow: 0px 1px 3px 1px rgba(0, 0, 0, 0.15);\n",
              "      filter: drop-shadow(0px 1px 2px rgba(0, 0, 0, 0.3));\n",
              "      fill: #FFFFFF;\n",
              "    }\n",
              "  </style>\n",
              "\n",
              "      <script>\n",
              "        const buttonEl =\n",
              "          document.querySelector('#df-ea8e53c3-61dd-4109-b96b-bf403b4f6c4e button.colab-df-convert');\n",
              "        buttonEl.style.display =\n",
              "          google.colab.kernel.accessAllowed ? 'block' : 'none';\n",
              "\n",
              "        async function convertToInteractive(key) {\n",
              "          const element = document.querySelector('#df-ea8e53c3-61dd-4109-b96b-bf403b4f6c4e');\n",
              "          const dataTable =\n",
              "            await google.colab.kernel.invokeFunction('convertToInteractive',\n",
              "                                                     [key], {});\n",
              "          if (!dataTable) return;\n",
              "\n",
              "          const docLinkHtml = 'Like what you see? Visit the ' +\n",
              "            '<a target=\"_blank\" href=https://colab.research.google.com/notebooks/data_table.ipynb>data table notebook</a>'\n",
              "            + ' to learn more about interactive tables.';\n",
              "          element.innerHTML = '';\n",
              "          dataTable['output_type'] = 'display_data';\n",
              "          await google.colab.output.renderOutput(dataTable, element);\n",
              "          const docLink = document.createElement('div');\n",
              "          docLink.innerHTML = docLinkHtml;\n",
              "          element.appendChild(docLink);\n",
              "        }\n",
              "      </script>\n",
              "    </div>\n",
              "  </div>\n",
              "  "
            ]
          },
          "metadata": {},
          "execution_count": 43
        }
      ]
    },
    {
      "cell_type": "markdown",
      "source": [
        "#Checking unique values for catogorical columns and Visualizing data"
      ],
      "metadata": {
        "id": "WvCcP2P0Tsbj"
      }
    },
    {
      "cell_type": "code",
      "source": [
        "import matplotlib\n",
        "import matplotlib.pyplot as plt\n",
        "import seaborn as sns"
      ],
      "metadata": {
        "id": "xDvHd2dLZNDM"
      },
      "execution_count": null,
      "outputs": []
    },
    {
      "cell_type": "markdown",
      "source": [
        "###Target variable \n",
        "(1 - client with payment difficulties: he/she had late payment more than X days on at least one of the first Y installments of the loan in our sample, 0 - all other cases)"
      ],
      "metadata": {
        "id": "XW7AzVGhxzps"
      }
    },
    {
      "cell_type": "code",
      "source": [
        "#unique value INCOME_TYPE\n",
        "new_df.TARGET.unique()"
      ],
      "metadata": {
        "colab": {
          "base_uri": "https://localhost:8080/"
        },
        "id": "gW5bwJI5w7h6",
        "outputId": "1962de9c-6579-4c16-8ee1-1744f7d175c9"
      },
      "execution_count": null,
      "outputs": [
        {
          "output_type": "execute_result",
          "data": {
            "text/plain": [
              "array([1, 0])"
            ]
          },
          "metadata": {},
          "execution_count": 44
        }
      ]
    },
    {
      "cell_type": "code",
      "source": [
        "#count of unique value INCOME_TYPE   \n",
        "v=new_df.TARGET.value_counts()\n",
        "v"
      ],
      "metadata": {
        "colab": {
          "base_uri": "https://localhost:8080/"
        },
        "id": "TZ-27vLxxNeS",
        "outputId": "6589c5a7-33db-407b-8e6f-4a67a972572f"
      },
      "execution_count": null,
      "outputs": [
        {
          "output_type": "execute_result",
          "data": {
            "text/plain": [
              "0    103393\n",
              "1      9175\n",
              "Name: TARGET, dtype: int64"
            ]
          },
          "metadata": {},
          "execution_count": 45
        }
      ]
    },
    {
      "cell_type": "code",
      "source": [
        "plt.barh(v.index, v)"
      ],
      "metadata": {
        "colab": {
          "base_uri": "https://localhost:8080/",
          "height": 282
        },
        "id": "k_1z88RSxYYQ",
        "outputId": "2330f5f9-7076-454b-d04a-78198e1dfe0e"
      },
      "execution_count": null,
      "outputs": [
        {
          "output_type": "execute_result",
          "data": {
            "text/plain": [
              "<BarContainer object of 2 artists>"
            ]
          },
          "metadata": {},
          "execution_count": 46
        },
        {
          "output_type": "display_data",
          "data": {
            "text/plain": [
              "<Figure size 432x288 with 1 Axes>"
            ],
            "image/png": "[encoded data removed]"
          },
          "metadata": {
            "needs_background": "light"
          }
        }
      ]
    },
    {
      "cell_type": "markdown",
      "source": [
        "### Calculating Imbalance percentage using Target Variable"
      ],
      "metadata": {
        "id": "jxXBRmYT0ddx"
      }
    },
    {
      "cell_type": "code",
      "source": [
        "plt.pie(x=v, labels=v.index, autopct='%1.2f%%')\n",
        "\n",
        "#It shows that 8.15% people do not repay there loan"
      ],
      "metadata": {
        "colab": {
          "base_uri": "https://localhost:8080/",
          "height": 352
        },
        "id": "8F8fED61yyO7",
        "outputId": "cf2cab16-98eb-4e86-b655-389fd8cec233"
      },
      "execution_count": null,
      "outputs": [
        {
          "output_type": "execute_result",
          "data": {
            "text/plain": [
              "([<matplotlib.patches.Wedge at 0x7f2c8d5baca0>,\n",
              "  <matplotlib.patches.Wedge at 0x7f2c8d66af10>],\n",
              " [Text(-1.0641350120652933, 0.27859769578515553, '0'),\n",
              "  Text(1.0641349925021417, -0.2785977705087878, '1')],\n",
              " [Text(-0.5804372793083418, 0.1519623795191757, '91.85%'),\n",
              "  Text(0.5804372686375318, -0.1519624202775206, '8.15%')])"
            ]
          },
          "metadata": {},
          "execution_count": 56
        },
        {
          "output_type": "display_data",
          "data": {
            "text/plain": [
              "<Figure size 432x288 with 1 Axes>"
            ],
            "image/png": "[encoded data removed]"
          },
          "metadata": {}
        }
      ]
    },
    {
      "cell_type": "markdown",
      "source": [
        "###INCOME_TYPE"
      ],
      "metadata": {
        "id": "zkMyAyq7zcR3"
      }
    },
    {
      "cell_type": "code",
      "source": [
        "#unique value INCOME_TYPE\n",
        "new_df.INCOME_TYPE.unique()"
      ],
      "metadata": {
        "colab": {
          "base_uri": "https://localhost:8080/"
        },
        "id": "Qq2qSNacSx5h",
        "outputId": "baa0c62c-50f3-4731-f78c-6d46864d8ca7"
      },
      "execution_count": null,
      "outputs": [
        {
          "output_type": "execute_result",
          "data": {
            "text/plain": [
              "array(['Working', 'State servant', 'Commercial associate', 'Pensioner',\n",
              "       'Unemployed', 'Student', 'Businessman', 'Maternity leave'],\n",
              "      dtype=object)"
            ]
          },
          "metadata": {},
          "execution_count": 47
        }
      ]
    },
    {
      "cell_type": "code",
      "source": [
        "#count of unique value INCOME_TYPE   \n",
        "a=new_df.INCOME_TYPE.value_counts()\n",
        "a"
      ],
      "metadata": {
        "colab": {
          "base_uri": "https://localhost:8080/"
        },
        "id": "_V_K4nD4VUdi",
        "outputId": "c94664f9-414e-48f3-9ff8-42a7792baa57"
      },
      "execution_count": null,
      "outputs": [
        {
          "output_type": "execute_result",
          "data": {
            "text/plain": [
              "Working                 58324\n",
              "Commercial associate    26149\n",
              "Pensioner               20186\n",
              "State servant            7883\n",
              "Unemployed                 10\n",
              "Student                    10\n",
              "Businessman                 4\n",
              "Maternity leave             2\n",
              "Name: INCOME_TYPE, dtype: int64"
            ]
          },
          "metadata": {},
          "execution_count": 48
        }
      ]
    },
    {
      "cell_type": "code",
      "source": [
        "plt.barh(a.index, a)\n",
        "\n",
        "#here we see that most number of people who take Loan fall under Income_type (occupation)==>Working (158774), Commercial associate (71617),\n",
        "#Pensioner (55362), State servant (21703)\n"
      ],
      "metadata": {
        "colab": {
          "base_uri": "https://localhost:8080/",
          "height": 282
        },
        "id": "kJVkdG2BYxSJ",
        "outputId": "f02722c2-b697-461f-ccf3-fd8bb9e9fd21"
      },
      "execution_count": null,
      "outputs": [
        {
          "output_type": "execute_result",
          "data": {
            "text/plain": [
              "<BarContainer object of 8 artists>"
            ]
          },
          "metadata": {},
          "execution_count": 49
        },
        {
          "output_type": "display_data",
          "data": {
            "text/plain": [
              "<Figure size 432x288 with 1 Axes>"
            ],
            "image/png": "[encoded data removed]"
          },
          "metadata": {
            "needs_background": "light"
          }
        }
      ]
    },
    {
      "cell_type": "code",
      "source": [
        "#Showcasing  Income_type typr of people along with there Percentage w.r.t total number of people taking loan\n",
        "plt.pie(x=a, labels=a.index, autopct='%1.2f%%')\n",
        "\n",
        "\n",
        "plt.figure(figsize = [20,20])\n",
        "plt.show()"
      ],
      "metadata": {
        "colab": {
          "base_uri": "https://localhost:8080/",
          "height": 265
        },
        "id": "AIibXIGGaIs6",
        "outputId": "97ef6e43-0d0c-4149-c6ab-8b54daae4214"
      },
      "execution_count": null,
      "outputs": [
        {
          "output_type": "display_data",
          "data": {
            "text/plain": [
              "<Figure size 432x288 with 1 Axes>"
            ],
            "image/png": "[encoded data removed]"
          },
          "metadata": {}
        },
        {
          "output_type": "display_data",
          "data": {
            "text/plain": [
              "<Figure size 1440x1440 with 0 Axes>"
            ]
          },
          "metadata": {}
        }
      ]
    },
    {
      "cell_type": "markdown",
      "source": [
        "###EDUCATION"
      ],
      "metadata": {
        "id": "cUtNk2V-zWMh"
      }
    },
    {
      "cell_type": "code",
      "source": [
        "new_df.EDUCATION.unique()"
      ],
      "metadata": {
        "colab": {
          "base_uri": "https://localhost:8080/"
        },
        "id": "-vx5UJGZThQy",
        "outputId": "f220e12c-8ab6-4320-e6b8-00556e488819"
      },
      "execution_count": null,
      "outputs": [
        {
          "output_type": "execute_result",
          "data": {
            "text/plain": [
              "array(['Secondary / secondary special', 'Higher education',\n",
              "       'Incomplete higher', 'Lower secondary', 'Academic degree'],\n",
              "      dtype=object)"
            ]
          },
          "metadata": {},
          "execution_count": 80
        }
      ]
    },
    {
      "cell_type": "code",
      "source": [
        "b=new_df.EDUCATION.value_counts()\n",
        "b\n",
        "#maximum people who take loan are having Education asSecondary / secondary special with count of 218391"
      ],
      "metadata": {
        "colab": {
          "base_uri": "https://localhost:8080/"
        },
        "id": "e0QK-tv0WZ0R",
        "outputId": "28c751b0-c475-46de-a350-9df79c41b904"
      },
      "execution_count": null,
      "outputs": [
        {
          "output_type": "execute_result",
          "data": {
            "text/plain": [
              "Secondary / secondary special    80026\n",
              "Higher education                 27417\n",
              "Incomplete higher                 3702\n",
              "Lower secondary                   1364\n",
              "Academic degree                     59\n",
              "Name: EDUCATION, dtype: int64"
            ]
          },
          "metadata": {},
          "execution_count": 67
        }
      ]
    },
    {
      "cell_type": "code",
      "source": [
        "plt.barh(b.index, b)"
      ],
      "metadata": {
        "colab": {
          "base_uri": "https://localhost:8080/",
          "height": 282
        },
        "id": "7QzqPzNKZX5C",
        "outputId": "be64f08f-2a32-413b-9da9-4a24ed7957e0"
      },
      "execution_count": null,
      "outputs": [
        {
          "output_type": "execute_result",
          "data": {
            "text/plain": [
              "<BarContainer object of 5 artists>"
            ]
          },
          "metadata": {},
          "execution_count": 102
        },
        {
          "output_type": "display_data",
          "data": {
            "text/plain": [
              "<Figure size 432x288 with 1 Axes>"
            ],
            "image/png": "[encoded data removed]"
          },
          "metadata": {
            "needs_background": "light"
          }
        }
      ]
    },
    {
      "cell_type": "code",
      "source": [
        "plt.pie(x=b, labels=b.index, autopct='%1.2f%%')\n",
        "\n",
        "plt.show()"
      ],
      "metadata": {
        "colab": {
          "base_uri": "https://localhost:8080/",
          "height": 248
        },
        "id": "JGN1M816aP9L",
        "outputId": "fa8b9d1b-6ffb-4d18-d4f2-1575a7a45581"
      },
      "execution_count": null,
      "outputs": [
        {
          "output_type": "display_data",
          "data": {
            "text/plain": [
              "<Figure size 432x288 with 1 Axes>"
            ],
            "image/png": "[encoded data removed]"
          },
          "metadata": {}
        }
      ]
    },
    {
      "cell_type": "markdown",
      "source": [
        "###FAMILY_STATUS"
      ],
      "metadata": {
        "id": "_xUJst6hzSWB"
      }
    },
    {
      "cell_type": "code",
      "source": [
        "new_df.FAMILY_STATUS.unique()"
      ],
      "metadata": {
        "colab": {
          "base_uri": "https://localhost:8080/"
        },
        "id": "fa4WJ060T7zz",
        "outputId": "6fa22b5d-0811-4c2d-eccb-3f144efce911"
      },
      "execution_count": null,
      "outputs": [
        {
          "output_type": "execute_result",
          "data": {
            "text/plain": [
              "array(['Single / not married', 'Married', 'Civil marriage', 'Widow',\n",
              "       'Separated', 'Unknown'], dtype=object)"
            ]
          },
          "metadata": {},
          "execution_count": 86
        }
      ]
    },
    {
      "cell_type": "code",
      "source": [
        "c=new_df.FAMILY_STATUS.value_counts()\n",
        "c"
      ],
      "metadata": {
        "colab": {
          "base_uri": "https://localhost:8080/"
        },
        "id": "Clb3qU5YWe3p",
        "outputId": "80b80b8d-482e-430b-c7da-db6e6019702c"
      },
      "execution_count": null,
      "outputs": [
        {
          "output_type": "execute_result",
          "data": {
            "text/plain": [
              "Married                 72048\n",
              "Single / not married    16413\n",
              "Civil marriage          11049\n",
              "Separated                7156\n",
              "Widow                    5901\n",
              "Unknown                     1\n",
              "Name: FAMILY_STATUS, dtype: int64"
            ]
          },
          "metadata": {},
          "execution_count": 63
        }
      ]
    },
    {
      "cell_type": "code",
      "source": [
        "plt.barh(c.index, c)"
      ],
      "metadata": {
        "colab": {
          "base_uri": "https://localhost:8080/",
          "height": 282
        },
        "id": "4yfVsy8AZcoq",
        "outputId": "c948df45-d781-41fa-cd6e-c4cfd536e214"
      },
      "execution_count": null,
      "outputs": [
        {
          "output_type": "execute_result",
          "data": {
            "text/plain": [
              "<BarContainer object of 6 artists>"
            ]
          },
          "metadata": {},
          "execution_count": 64
        },
        {
          "output_type": "display_data",
          "data": {
            "text/plain": [
              "<Figure size 432x288 with 1 Axes>"
            ],
            "image/png": "[encoded data removed]"
          },
          "metadata": {
            "needs_background": "light"
          }
        }
      ]
    },
    {
      "cell_type": "code",
      "source": [
        "plt.pie(x=c, labels=c.index, autopct='%1.2f%%')\n",
        "\n",
        "plt.show()"
      ],
      "metadata": {
        "colab": {
          "base_uri": "https://localhost:8080/",
          "height": 248
        },
        "id": "GJlLcOZ_aVdg",
        "outputId": "0455fe69-15cf-4fbf-f15d-a8259820174e"
      },
      "execution_count": null,
      "outputs": [
        {
          "output_type": "display_data",
          "data": {
            "text/plain": [
              "<Figure size 432x288 with 1 Axes>"
            ],
            "image/png": "[encoded data removed]"
          },
          "metadata": {}
        }
      ]
    },
    {
      "cell_type": "markdown",
      "source": [
        "###curr_HOUSING_TYPE"
      ],
      "metadata": {
        "id": "DhqdFwylziYa"
      }
    },
    {
      "cell_type": "code",
      "source": [
        "new_df.curr_HOUSING_TYPE.unique()"
      ],
      "metadata": {
        "colab": {
          "base_uri": "https://localhost:8080/"
        },
        "id": "0FeUxCJiS7Yz",
        "outputId": "4432bbd1-b5bb-4098-ef59-bc8767bff226"
      },
      "execution_count": null,
      "outputs": [
        {
          "output_type": "execute_result",
          "data": {
            "text/plain": [
              "array(['House / apartment', 'Rented apartment', 'With parents',\n",
              "       'Municipal apartment', 'Office apartment', 'Co-op apartment'],\n",
              "      dtype=object)"
            ]
          },
          "metadata": {},
          "execution_count": 81
        }
      ]
    },
    {
      "cell_type": "code",
      "source": [
        "d=new_df.curr_HOUSING_TYPE.value_counts()\n",
        "d"
      ],
      "metadata": {
        "colab": {
          "base_uri": "https://localhost:8080/"
        },
        "id": "iIlwxpPJWkVZ",
        "outputId": "8cb4c5db-f7d9-42dd-a945-b0e1742907df"
      },
      "execution_count": null,
      "outputs": [
        {
          "output_type": "execute_result",
          "data": {
            "text/plain": [
              "House / apartment      99999\n",
              "With parents            5400\n",
              "Municipal apartment     4110\n",
              "Rented apartment        1693\n",
              "Office apartment         961\n",
              "Co-op apartment          405\n",
              "Name: curr_HOUSING_TYPE, dtype: int64"
            ]
          },
          "metadata": {},
          "execution_count": 58
        }
      ]
    },
    {
      "cell_type": "code",
      "source": [
        "plt.barh(d.index, d)"
      ],
      "metadata": {
        "colab": {
          "base_uri": "https://localhost:8080/",
          "height": 282
        },
        "id": "PKnuAupoZiLg",
        "outputId": "c2a77327-880c-4e78-b860-40f78ec9489f"
      },
      "execution_count": null,
      "outputs": [
        {
          "output_type": "execute_result",
          "data": {
            "text/plain": [
              "<BarContainer object of 6 artists>"
            ]
          },
          "metadata": {},
          "execution_count": 107
        },
        {
          "output_type": "display_data",
          "data": {
            "text/plain": [
              "<Figure size 432x288 with 1 Axes>"
            ],
            "image/png": "[encoded data removed]"
          },
          "metadata": {
            "needs_background": "light"
          }
        }
      ]
    },
    {
      "cell_type": "code",
      "source": [
        "plt.pie(x=d, labels=d.index, autopct='%1.2f%%')\n",
        "\n",
        "plt.show()"
      ],
      "metadata": {
        "colab": {
          "base_uri": "https://localhost:8080/",
          "height": 248
        },
        "id": "VwIKpUh0aY2p",
        "outputId": "305495ff-0bd0-4da4-cef5-02fa45e7f331"
      },
      "execution_count": null,
      "outputs": [
        {
          "output_type": "display_data",
          "data": {
            "text/plain": [
              "<Figure size 432x288 with 1 Axes>"
            ],
            "image/png": "[encoded data removed]"
          },
          "metadata": {}
        }
      ]
    },
    {
      "cell_type": "markdown",
      "source": [
        "###ORGANIZATION_TYPE"
      ],
      "metadata": {
        "id": "OJsDSASyzphZ"
      }
    },
    {
      "cell_type": "code",
      "source": [
        "new_df.ORGANIZATION_TYPE.unique()"
      ],
      "metadata": {
        "colab": {
          "base_uri": "https://localhost:8080/"
        },
        "id": "ja9UhnZXUPf7",
        "outputId": "31502fda-bbee-4ed9-e321-4a15b1730469"
      },
      "execution_count": null,
      "outputs": [
        {
          "output_type": "execute_result",
          "data": {
            "text/plain": [
              "array(['Business Entity Type 3', 'School', 'Government', 'Religion',\n",
              "       'Other', 'XNA', 'Electricity', 'Medicine',\n",
              "       'Business Entity Type 2', 'Self-employed', 'Transport: type 2',\n",
              "       'Construction', 'Housing', 'Kindergarten', 'Trade: type 7',\n",
              "       'Industry: type 11', 'Military', 'Services', 'Security Ministries',\n",
              "       'Transport: type 4', 'Industry: type 1', 'Emergency', 'Security',\n",
              "       'Trade: type 2', 'University', 'Transport: type 3', 'Police',\n",
              "       'Business Entity Type 1', 'Postal', 'Industry: type 4',\n",
              "       'Agriculture', 'Restaurant', 'Culture', 'Hotel',\n",
              "       'Industry: type 7', 'Trade: type 3', 'Industry: type 3', 'Bank',\n",
              "       'Industry: type 9', 'Insurance', 'Trade: type 6',\n",
              "       'Industry: type 2', 'Transport: type 1', 'Industry: type 12',\n",
              "       'Mobile', 'Trade: type 1', 'Industry: type 5', 'Industry: type 10',\n",
              "       'Legal Services', 'Advertising', 'Trade: type 5', 'Cleaning',\n",
              "       'Industry: type 13', 'Trade: type 4', 'Telecom',\n",
              "       'Industry: type 8', 'Realtor', 'Industry: type 6'], dtype=object)"
            ]
          },
          "metadata": {},
          "execution_count": 82
        }
      ]
    },
    {
      "cell_type": "code",
      "source": [
        "plt.pyplot.hist(new_df[\"ORGANIZATION_TYPE\"])"
      ],
      "metadata": {
        "id": "RSp2FUiHrfOv"
      },
      "execution_count": null,
      "outputs": []
    },
    {
      "cell_type": "code",
      "source": [
        "new_df.ORGANIZATION_TYPE.value_counts()"
      ],
      "metadata": {
        "colab": {
          "base_uri": "https://localhost:8080/"
        },
        "id": "KZhoctwIWzKk",
        "outputId": "1ac23666-073d-4359-d0d9-ee3d9d1c0a82"
      },
      "execution_count": null,
      "outputs": [
        {
          "output_type": "execute_result",
          "data": {
            "text/plain": [
              "Business Entity Type 3    67992\n",
              "XNA                       55374\n",
              "Self-employed             38412\n",
              "Other                     16683\n",
              "Medicine                  11193\n",
              "Business Entity Type 2    10553\n",
              "Government                10404\n",
              "School                     8893\n",
              "Trade: type 7              7831\n",
              "Kindergarten               6880\n",
              "Construction               6721\n",
              "Business Entity Type 1     5984\n",
              "Transport: type 4          5398\n",
              "Trade: type 3              3492\n",
              "Industry: type 9           3368\n",
              "Industry: type 3           3278\n",
              "Security                   3247\n",
              "Housing                    2958\n",
              "Industry: type 11          2704\n",
              "Military                   2634\n",
              "Bank                       2507\n",
              "Agriculture                2454\n",
              "Police                     2341\n",
              "Transport: type 2          2204\n",
              "Postal                     2157\n",
              "Security Ministries        1974\n",
              "Trade: type 2              1900\n",
              "Restaurant                 1811\n",
              "Services                   1575\n",
              "University                 1327\n",
              "Industry: type 7           1307\n",
              "Transport: type 3          1187\n",
              "Industry: type 1           1039\n",
              "Hotel                       966\n",
              "Electricity                 950\n",
              "Industry: type 4            877\n",
              "Trade: type 6               631\n",
              "Industry: type 5            599\n",
              "Insurance                   597\n",
              "Telecom                     577\n",
              "Emergency                   560\n",
              "Industry: type 2            458\n",
              "Advertising                 429\n",
              "Realtor                     396\n",
              "Culture                     379\n",
              "Industry: type 12           369\n",
              "Trade: type 1               348\n",
              "Mobile                      317\n",
              "Legal Services              305\n",
              "Cleaning                    260\n",
              "Transport: type 1           201\n",
              "Industry: type 6            112\n",
              "Industry: type 10           109\n",
              "Religion                     85\n",
              "Industry: type 13            67\n",
              "Trade: type 4                64\n",
              "Trade: type 5                49\n",
              "Industry: type 8             24\n",
              "Name: ORGANIZATION_TYPE, dtype: int64"
            ]
          },
          "metadata": {},
          "execution_count": 89
        }
      ]
    },
    {
      "cell_type": "markdown",
      "source": [
        "##for catogorical data"
      ],
      "metadata": {
        "id": "Odf3N3WvX7sS"
      }
    },
    {
      "cell_type": "code",
      "source": [
        "#Checking the data Types\n",
        "new_df.dtypes"
      ],
      "metadata": {
        "colab": {
          "base_uri": "https://localhost:8080/"
        },
        "id": "dqYps-cvaCW5",
        "outputId": "d91544e4-598c-4d2a-b2ec-fca2a2840dff"
      },
      "execution_count": null,
      "outputs": [
        {
          "output_type": "execute_result",
          "data": {
            "text/plain": [
              "Cust_ID                         int64\n",
              "INCOME                        float64\n",
              "Loan_AMT                      float64\n",
              "ANNUITY                        object\n",
              "GOODS_PRICE                    object\n",
              "INCOME_TYPE                    object\n",
              "EDUCATION                      object\n",
              "FAMILY_STATUS                  object\n",
              "curr_HOUSING_TYPE              object\n",
              "age                             int64\n",
              "Work_Exp                        int64\n",
              "REGISTRATION_change           float64\n",
              "DAYS_ID_PUBLISH                 int64\n",
              "MOBIL_given                     int64\n",
              "EMAIL_given                     int64\n",
              "OCCUPATION_TYPE                object\n",
              "Family_MEMBERS_no              object\n",
              "REGION_CLIENT                   int64\n",
              "REGION_CLIENT_CITY              int64\n",
              "Perman_add_NOT_cont_REGION      int64\n",
              "perman_add_NOT_WORK_add         int64\n",
              "ORGANIZATION_TYPE              object\n",
              "EXT_SOURCE_1                   object\n",
              "EXT_SOURCE_2                   object\n",
              "EXT_SOURCE_3                   object\n",
              "APARTMENTS_AVG                 object\n",
              "BASEMENTAREA_AVG               object\n",
              "LAST_PHONE_CHANGE              object\n",
              "dtype: object"
            ]
          },
          "metadata": {},
          "execution_count": 113
        }
      ]
    },
    {
      "cell_type": "code",
      "source": [
        "#taking only continues data into account and making new data frame\n",
        "cat_df=new_df[['Cust_ID','INCOME','Loan_AMT','ANNUITY','GOODS_PRICE']]"
      ],
      "metadata": {
        "id": "ly0rk-C8bD1S"
      },
      "execution_count": null,
      "outputs": []
    },
    {
      "cell_type": "code",
      "source": [
        "cat_df.head()"
      ],
      "metadata": {
        "colab": {
          "base_uri": "https://localhost:8080/",
          "height": 206
        },
        "id": "e6idGUuZddZx",
        "outputId": "cb67662f-b272-43a4-f3b6-e4959d3ca0ac"
      },
      "execution_count": null,
      "outputs": [
        {
          "output_type": "execute_result",
          "data": {
            "text/plain": [
              "   Cust_ID    INCOME   Loan_AMT  ANNUITY GOODS_PRICE\n",
              "0   100002  202500.0   406597.5  24700.5    351000.0\n",
              "1   100003  270000.0  1293502.5  35698.5   1129500.0\n",
              "2   100004   67500.0   135000.0   6750.0    135000.0\n",
              "3   100006  135000.0   312682.5  29686.5    297000.0\n",
              "4   100007  121500.0   513000.0  21865.5    513000.0"
            ],
            "text/html": [
              "\n",
              "  <div id=\"df-5a79826b-8d57-4304-8901-0f19df7d86fe\">\n",
              "    <div class=\"colab-df-container\">\n",
              "      <div>\n",
              "<style scoped>\n",
              "    .dataframe tbody tr th:only-of-type {\n",
              "        vertical-align: middle;\n",
              "    }\n",
              "\n",
              "    .dataframe tbody tr th {\n",
              "        vertical-align: top;\n",
              "    }\n",
              "\n",
              "    .dataframe thead th {\n",
              "        text-align: right;\n",
              "    }\n",
              "</style>\n",
              "<table border=\"1\" class=\"dataframe\">\n",
              "  <thead>\n",
              "    <tr style=\"text-align: right;\">\n",
              "      <th></th>\n",
              "      <th>Cust_ID</th>\n",
              "      <th>INCOME</th>\n",
              "      <th>Loan_AMT</th>\n",
              "      <th>ANNUITY</th>\n",
              "      <th>GOODS_PRICE</th>\n",
              "    </tr>\n",
              "  </thead>\n",
              "  <tbody>\n",
              "    <tr>\n",
              "      <th>0</th>\n",
              "      <td>100002</td>\n",
              "      <td>202500.0</td>\n",
              "      <td>406597.5</td>\n",
              "      <td>24700.5</td>\n",
              "      <td>351000.0</td>\n",
              "    </tr>\n",
              "    <tr>\n",
              "      <th>1</th>\n",
              "      <td>100003</td>\n",
              "      <td>270000.0</td>\n",
              "      <td>1293502.5</td>\n",
              "      <td>35698.5</td>\n",
              "      <td>1129500.0</td>\n",
              "    </tr>\n",
              "    <tr>\n",
              "      <th>2</th>\n",
              "      <td>100004</td>\n",
              "      <td>67500.0</td>\n",
              "      <td>135000.0</td>\n",
              "      <td>6750.0</td>\n",
              "      <td>135000.0</td>\n",
              "    </tr>\n",
              "    <tr>\n",
              "      <th>3</th>\n",
              "      <td>100006</td>\n",
              "      <td>135000.0</td>\n",
              "      <td>312682.5</td>\n",
              "      <td>29686.5</td>\n",
              "      <td>297000.0</td>\n",
              "    </tr>\n",
              "    <tr>\n",
              "      <th>4</th>\n",
              "      <td>100007</td>\n",
              "      <td>121500.0</td>\n",
              "      <td>513000.0</td>\n",
              "      <td>21865.5</td>\n",
              "      <td>513000.0</td>\n",
              "    </tr>\n",
              "  </tbody>\n",
              "</table>\n",
              "</div>\n",
              "      <button class=\"colab-df-convert\" onclick=\"convertToInteractive('df-5a79826b-8d57-4304-8901-0f19df7d86fe')\"\n",
              "              title=\"Convert this dataframe to an interactive table.\"\n",
              "              style=\"display:none;\">\n",
              "        \n",
              "  <svg xmlns=\"http://www.w3.org/2000/svg\" height=\"24px\"viewBox=\"0 0 24 24\"\n",
              "       width=\"24px\">\n",
              "    <path d=\"M0 0h24v24H0V0z\" fill=\"none\"/>\n",
              "    <path d=\"M18.56 5.44l.94 2.06.94-2.06 2.06-.94-2.06-.94-.94-2.06-.94 2.06-2.06.94zm-11 1L8.5 8.5l.94-2.06 2.06-.94-2.06-.94L8.5 2.5l-.94 2.06-2.06.94zm10 10l.94 2.06.94-2.06 2.06-.94-2.06-.94-.94-2.06-.94 2.06-2.06.94z\"/><path d=\"M17.41 7.96l-1.37-1.37c-.4-.4-.92-.59-1.43-.59-.52 0-1.04.2-1.43.59L10.3 9.45l-7.72 7.72c-.78.78-.78 2.05 0 2.83L4 21.41c.39.39.9.59 1.41.59.51 0 1.02-.2 1.41-.59l7.78-7.78 2.81-2.81c.8-.78.8-2.07 0-2.86zM5.41 20L4 18.59l7.72-7.72 1.47 1.35L5.41 20z\"/>\n",
              "  </svg>\n",
              "      </button>\n",
              "      \n",
              "  <style>\n",
              "    .colab-df-container {\n",
              "      display:flex;\n",
              "      flex-wrap:wrap;\n",
              "      gap: 12px;\n",
              "    }\n",
              "\n",
              "    .colab-df-convert {\n",
              "      background-color: #E8F0FE;\n",
              "      border: none;\n",
              "      border-radius: 50%;\n",
              "      cursor: pointer;\n",
              "      display: none;\n",
              "      fill: #1967D2;\n",
              "      height: 32px;\n",
              "      padding: 0 0 0 0;\n",
              "      width: 32px;\n",
              "    }\n",
              "\n",
              "    .colab-df-convert:hover {\n",
              "      background-color: #E2EBFA;\n",
              "      box-shadow: 0px 1px 2px rgba(60, 64, 67, 0.3), 0px 1px 3px 1px rgba(60, 64, 67, 0.15);\n",
              "      fill: #174EA6;\n",
              "    }\n",
              "\n",
              "    [theme=dark] .colab-df-convert {\n",
              "      background-color: #3B4455;\n",
              "      fill: #D2E3FC;\n",
              "    }\n",
              "\n",
              "    [theme=dark] .colab-df-convert:hover {\n",
              "      background-color: #434B5C;\n",
              "      box-shadow: 0px 1px 3px 1px rgba(0, 0, 0, 0.15);\n",
              "      filter: drop-shadow(0px 1px 2px rgba(0, 0, 0, 0.3));\n",
              "      fill: #FFFFFF;\n",
              "    }\n",
              "  </style>\n",
              "\n",
              "      <script>\n",
              "        const buttonEl =\n",
              "          document.querySelector('#df-5a79826b-8d57-4304-8901-0f19df7d86fe button.colab-df-convert');\n",
              "        buttonEl.style.display =\n",
              "          google.colab.kernel.accessAllowed ? 'block' : 'none';\n",
              "\n",
              "        async function convertToInteractive(key) {\n",
              "          const element = document.querySelector('#df-5a79826b-8d57-4304-8901-0f19df7d86fe');\n",
              "          const dataTable =\n",
              "            await google.colab.kernel.invokeFunction('convertToInteractive',\n",
              "                                                     [key], {});\n",
              "          if (!dataTable) return;\n",
              "\n",
              "          const docLinkHtml = 'Like what you see? Visit the ' +\n",
              "            '<a target=\"_blank\" href=https://colab.research.google.com/notebooks/data_table.ipynb>data table notebook</a>'\n",
              "            + ' to learn more about interactive tables.';\n",
              "          element.innerHTML = '';\n",
              "          dataTable['output_type'] = 'display_data';\n",
              "          await google.colab.output.renderOutput(dataTable, element);\n",
              "          const docLink = document.createElement('div');\n",
              "          docLink.innerHTML = docLinkHtml;\n",
              "          element.appendChild(docLink);\n",
              "        }\n",
              "      </script>\n",
              "    </div>\n",
              "  </div>\n",
              "  "
            ]
          },
          "metadata": {},
          "execution_count": 117
        }
      ]
    },
    {
      "cell_type": "code",
      "source": [
        "#Checking Corrilation Between columns of numric continues data\n",
        "cat_df.corr()"
      ],
      "metadata": {
        "colab": {
          "base_uri": "https://localhost:8080/",
          "height": 143
        },
        "id": "0KilYaYZd1rB",
        "outputId": "5443c52b-df8f-4bcc-dc28-a78c2b7adebb"
      },
      "execution_count": null,
      "outputs": [
        {
          "output_type": "execute_result",
          "data": {
            "text/plain": [
              "           Cust_ID   INCOME  Loan_AMT\n",
              "Cust_ID   1.000000 -0.00182 -0.000343\n",
              "INCOME   -0.001820  1.00000  0.156870\n",
              "Loan_AMT -0.000343  0.15687  1.000000"
            ],
            "text/html": [
              "\n",
              "  <div id=\"df-e54a6b69-6554-4fc5-b199-e8f7bcb5d8f7\">\n",
              "    <div class=\"colab-df-container\">\n",
              "      <div>\n",
              "<style scoped>\n",
              "    .dataframe tbody tr th:only-of-type {\n",
              "        vertical-align: middle;\n",
              "    }\n",
              "\n",
              "    .dataframe tbody tr th {\n",
              "        vertical-align: top;\n",
              "    }\n",
              "\n",
              "    .dataframe thead th {\n",
              "        text-align: right;\n",
              "    }\n",
              "</style>\n",
              "<table border=\"1\" class=\"dataframe\">\n",
              "  <thead>\n",
              "    <tr style=\"text-align: right;\">\n",
              "      <th></th>\n",
              "      <th>Cust_ID</th>\n",
              "      <th>INCOME</th>\n",
              "      <th>Loan_AMT</th>\n",
              "    </tr>\n",
              "  </thead>\n",
              "  <tbody>\n",
              "    <tr>\n",
              "      <th>Cust_ID</th>\n",
              "      <td>1.000000</td>\n",
              "      <td>-0.00182</td>\n",
              "      <td>-0.000343</td>\n",
              "    </tr>\n",
              "    <tr>\n",
              "      <th>INCOME</th>\n",
              "      <td>-0.001820</td>\n",
              "      <td>1.00000</td>\n",
              "      <td>0.156870</td>\n",
              "    </tr>\n",
              "    <tr>\n",
              "      <th>Loan_AMT</th>\n",
              "      <td>-0.000343</td>\n",
              "      <td>0.15687</td>\n",
              "      <td>1.000000</td>\n",
              "    </tr>\n",
              "  </tbody>\n",
              "</table>\n",
              "</div>\n",
              "      <button class=\"colab-df-convert\" onclick=\"convertToInteractive('df-e54a6b69-6554-4fc5-b199-e8f7bcb5d8f7')\"\n",
              "              title=\"Convert this dataframe to an interactive table.\"\n",
              "              style=\"display:none;\">\n",
              "        \n",
              "  <svg xmlns=\"http://www.w3.org/2000/svg\" height=\"24px\"viewBox=\"0 0 24 24\"\n",
              "       width=\"24px\">\n",
              "    <path d=\"M0 0h24v24H0V0z\" fill=\"none\"/>\n",
              "    <path d=\"M18.56 5.44l.94 2.06.94-2.06 2.06-.94-2.06-.94-.94-2.06-.94 2.06-2.06.94zm-11 1L8.5 8.5l.94-2.06 2.06-.94-2.06-.94L8.5 2.5l-.94 2.06-2.06.94zm10 10l.94 2.06.94-2.06 2.06-.94-2.06-.94-.94-2.06-.94 2.06-2.06.94z\"/><path d=\"M17.41 7.96l-1.37-1.37c-.4-.4-.92-.59-1.43-.59-.52 0-1.04.2-1.43.59L10.3 9.45l-7.72 7.72c-.78.78-.78 2.05 0 2.83L4 21.41c.39.39.9.59 1.41.59.51 0 1.02-.2 1.41-.59l7.78-7.78 2.81-2.81c.8-.78.8-2.07 0-2.86zM5.41 20L4 18.59l7.72-7.72 1.47 1.35L5.41 20z\"/>\n",
              "  </svg>\n",
              "      </button>\n",
              "      \n",
              "  <style>\n",
              "    .colab-df-container {\n",
              "      display:flex;\n",
              "      flex-wrap:wrap;\n",
              "      gap: 12px;\n",
              "    }\n",
              "\n",
              "    .colab-df-convert {\n",
              "      background-color: #E8F0FE;\n",
              "      border: none;\n",
              "      border-radius: 50%;\n",
              "      cursor: pointer;\n",
              "      display: none;\n",
              "      fill: #1967D2;\n",
              "      height: 32px;\n",
              "      padding: 0 0 0 0;\n",
              "      width: 32px;\n",
              "    }\n",
              "\n",
              "    .colab-df-convert:hover {\n",
              "      background-color: #E2EBFA;\n",
              "      box-shadow: 0px 1px 2px rgba(60, 64, 67, 0.3), 0px 1px 3px 1px rgba(60, 64, 67, 0.15);\n",
              "      fill: #174EA6;\n",
              "    }\n",
              "\n",
              "    [theme=dark] .colab-df-convert {\n",
              "      background-color: #3B4455;\n",
              "      fill: #D2E3FC;\n",
              "    }\n",
              "\n",
              "    [theme=dark] .colab-df-convert:hover {\n",
              "      background-color: #434B5C;\n",
              "      box-shadow: 0px 1px 3px 1px rgba(0, 0, 0, 0.15);\n",
              "      filter: drop-shadow(0px 1px 2px rgba(0, 0, 0, 0.3));\n",
              "      fill: #FFFFFF;\n",
              "    }\n",
              "  </style>\n",
              "\n",
              "      <script>\n",
              "        const buttonEl =\n",
              "          document.querySelector('#df-e54a6b69-6554-4fc5-b199-e8f7bcb5d8f7 button.colab-df-convert');\n",
              "        buttonEl.style.display =\n",
              "          google.colab.kernel.accessAllowed ? 'block' : 'none';\n",
              "\n",
              "        async function convertToInteractive(key) {\n",
              "          const element = document.querySelector('#df-e54a6b69-6554-4fc5-b199-e8f7bcb5d8f7');\n",
              "          const dataTable =\n",
              "            await google.colab.kernel.invokeFunction('convertToInteractive',\n",
              "                                                     [key], {});\n",
              "          if (!dataTable) return;\n",
              "\n",
              "          const docLinkHtml = 'Like what you see? Visit the ' +\n",
              "            '<a target=\"_blank\" href=https://colab.research.google.com/notebooks/data_table.ipynb>data table notebook</a>'\n",
              "            + ' to learn more about interactive tables.';\n",
              "          element.innerHTML = '';\n",
              "          dataTable['output_type'] = 'display_data';\n",
              "          await google.colab.output.renderOutput(dataTable, element);\n",
              "          const docLink = document.createElement('div');\n",
              "          docLink.innerHTML = docLinkHtml;\n",
              "          element.appendChild(docLink);\n",
              "        }\n",
              "      </script>\n",
              "    </div>\n",
              "  </div>\n",
              "  "
            ]
          },
          "metadata": {},
          "execution_count": 118
        }
      ]
    },
    {
      "cell_type": "code",
      "source": [],
      "metadata": {
        "id": "C1G0qy3pfe1i"
      },
      "execution_count": null,
      "outputs": []
    },
    {
      "cell_type": "markdown",
      "source": [
        "##Ploting pairplot  for continues data to check the retaion between columns"
      ],
      "metadata": {
        "id": "4j3Jm11feeva"
      }
    },
    {
      "cell_type": "code",
      "source": [
        "sns.pairplot(data=cat_df)"
      ],
      "metadata": {
        "colab": {
          "base_uri": "https://localhost:8080/",
          "height": 567
        },
        "id": "KbF5_a3aekUK",
        "outputId": "2c3136a2-0924-457e-b64f-8168b043f3e9"
      },
      "execution_count": null,
      "outputs": [
        {
          "output_type": "execute_result",
          "data": {
            "text/plain": [
              "<seaborn.axisgrid.PairGrid at 0x7fd9ac019520>"
            ]
          },
          "metadata": {},
          "execution_count": 119
        },
        {
          "output_type": "display_data",
          "data": {
            "text/plain": [
              "<Figure size 540x540 with 12 Axes>"
            ],
            "image/png": "[encoded data removed]"
          },
          "metadata": {
            "needs_background": "light"
          }
        }
      ]
    },
    {
      "cell_type": "markdown",
      "source": [
        "#Handling Outliers"
      ],
      "metadata": {
        "id": "2E1t5XhmfQIZ"
      }
    },
    {
      "cell_type": "markdown",
      "source": [
        "####INCOME"
      ],
      "metadata": {
        "id": "7j2Rfvh3z8eh"
      }
    },
    {
      "cell_type": "code",
      "source": [
        "#Checking outliers for INCOME\n",
        "cat_df.INCOME.describe()"
      ],
      "metadata": {
        "colab": {
          "base_uri": "https://localhost:8080/"
        },
        "id": "Mfj17ouGfOKf",
        "outputId": "fd4c0876-effd-412c-bdbc-41046554dc2d"
      },
      "execution_count": null,
      "outputs": [
        {
          "output_type": "execute_result",
          "data": {
            "text/plain": [
              "count    3.075110e+05\n",
              "mean     1.687979e+05\n",
              "std      2.371231e+05\n",
              "min      2.565000e+04\n",
              "25%      1.125000e+05\n",
              "50%      1.471500e+05\n",
              "75%      2.025000e+05\n",
              "max      1.170000e+08\n",
              "Name: INCOME, dtype: float64"
            ]
          },
          "metadata": {},
          "execution_count": 121
        }
      ]
    },
    {
      "cell_type": "code",
      "source": [
        "sns.boxplot(cat_df.INCOME)\n",
        "plt.title('Distribution of INCOME')\n",
        "plt.show()"
      ],
      "metadata": {
        "colab": {
          "base_uri": "https://localhost:8080/",
          "height": 351
        },
        "id": "njwQEnlBhGbA",
        "outputId": "a59697dd-da09-4556-bd97-380c9c13f57d"
      },
      "execution_count": null,
      "outputs": [
        {
          "output_type": "stream",
          "name": "stderr",
          "text": [
            "/usr/local/lib/python3.8/dist-packages/seaborn/_decorators.py:36: FutureWarning: Pass the following variable as a keyword arg: x. From version 0.12, the only valid positional argument will be `data`, and passing other arguments without an explicit keyword will result in an error or misinterpretation.\n",
            "  warnings.warn(\n"
          ]
        },
        {
          "output_type": "display_data",
          "data": {
            "text/plain": [
              "<Figure size 432x288 with 1 Axes>"
            ],
            "image/png": "[encoded data removed]"
          },
          "metadata": {
            "needs_background": "light"
          }
        }
      ]
    },
    {
      "cell_type": "markdown",
      "source": [
        "#Loan_AMT"
      ],
      "metadata": {
        "id": "YKfTnkXRhXWx"
      }
    },
    {
      "cell_type": "code",
      "source": [
        "#Checking outliers for Loan Amount\n",
        "cat_df.Loan_AMT.describe()"
      ],
      "metadata": {
        "colab": {
          "base_uri": "https://localhost:8080/"
        },
        "id": "-g57__M2hWuY",
        "outputId": "f770f164-a9c5-42d5-ed14-78c494cb215a"
      },
      "execution_count": null,
      "outputs": [
        {
          "output_type": "execute_result",
          "data": {
            "text/plain": [
              "count    3.075110e+05\n",
              "mean     5.990260e+05\n",
              "std      4.024908e+05\n",
              "min      4.500000e+04\n",
              "25%      2.700000e+05\n",
              "50%      5.135310e+05\n",
              "75%      8.086500e+05\n",
              "max      4.050000e+06\n",
              "Name: Loan_AMT, dtype: float64"
            ]
          },
          "metadata": {},
          "execution_count": 124
        }
      ]
    },
    {
      "cell_type": "code",
      "source": [
        "sns.boxplot(cat_df.Loan_AMT)\n",
        "plt.title('Distribution of INCOME')\n",
        "plt.show()"
      ],
      "metadata": {
        "colab": {
          "base_uri": "https://localhost:8080/",
          "height": 351
        },
        "id": "3qmMmhweiIB5",
        "outputId": "598429bc-b4f9-4017-d199-da1eab31dbbc"
      },
      "execution_count": null,
      "outputs": [
        {
          "output_type": "stream",
          "name": "stderr",
          "text": [
            "/usr/local/lib/python3.8/dist-packages/seaborn/_decorators.py:36: FutureWarning: Pass the following variable as a keyword arg: x. From version 0.12, the only valid positional argument will be `data`, and passing other arguments without an explicit keyword will result in an error or misinterpretation.\n",
            "  warnings.warn(\n"
          ]
        },
        {
          "output_type": "display_data",
          "data": {
            "text/plain": [
              "<Figure size 432x288 with 1 Axes>"
            ],
            "image/png": "[encoded data removed]"
          },
          "metadata": {
            "needs_background": "light"
          }
        }
      ]
    },
    {
      "cell_type": "code",
      "source": [
        "#Filterring data on bases of Laon amount for top 10 loan amounts\n",
        "df_amt=cat_df.nlargest(10,columns='Loan_AMT')\n",
        "df_amt.head()"
      ],
      "metadata": {
        "colab": {
          "base_uri": "https://localhost:8080/",
          "height": 206
        },
        "id": "TbSSKf1untbY",
        "outputId": "04e08fea-334a-4db4-b0a3-f98afbf8f57a"
      },
      "execution_count": null,
      "outputs": [
        {
          "output_type": "execute_result",
          "data": {
            "text/plain": [
              "        Cust_ID    INCOME   Loan_AMT   ANNUITY GOODS_PRICE\n",
              "14852    117337  760846.5  4050000.0  146002.5   4050000.0\n",
              "17948    120926  783000.0  4050000.0  258025.5   4050000.0\n",
              "110459   228135  864900.0  4050000.0  102384.0   4050000.0\n",
              "119681   238782  931365.0  4050000.0  102514.5   4050000.0\n",
              "120757   240007  587250.0  4050000.0  106969.5   4050000.0"
            ],
            "text/html": [
              "\n",
              "  <div id=\"df-539afd7b-1b0e-47b0-b036-6b4f0e955e06\">\n",
              "    <div class=\"colab-df-container\">\n",
              "      <div>\n",
              "<style scoped>\n",
              "    .dataframe tbody tr th:only-of-type {\n",
              "        vertical-align: middle;\n",
              "    }\n",
              "\n",
              "    .dataframe tbody tr th {\n",
              "        vertical-align: top;\n",
              "    }\n",
              "\n",
              "    .dataframe thead th {\n",
              "        text-align: right;\n",
              "    }\n",
              "</style>\n",
              "<table border=\"1\" class=\"dataframe\">\n",
              "  <thead>\n",
              "    <tr style=\"text-align: right;\">\n",
              "      <th></th>\n",
              "      <th>Cust_ID</th>\n",
              "      <th>INCOME</th>\n",
              "      <th>Loan_AMT</th>\n",
              "      <th>ANNUITY</th>\n",
              "      <th>GOODS_PRICE</th>\n",
              "    </tr>\n",
              "  </thead>\n",
              "  <tbody>\n",
              "    <tr>\n",
              "      <th>14852</th>\n",
              "      <td>117337</td>\n",
              "      <td>760846.5</td>\n",
              "      <td>4050000.0</td>\n",
              "      <td>146002.5</td>\n",
              "      <td>4050000.0</td>\n",
              "    </tr>\n",
              "    <tr>\n",
              "      <th>17948</th>\n",
              "      <td>120926</td>\n",
              "      <td>783000.0</td>\n",
              "      <td>4050000.0</td>\n",
              "      <td>258025.5</td>\n",
              "      <td>4050000.0</td>\n",
              "    </tr>\n",
              "    <tr>\n",
              "      <th>110459</th>\n",
              "      <td>228135</td>\n",
              "      <td>864900.0</td>\n",
              "      <td>4050000.0</td>\n",
              "      <td>102384.0</td>\n",
              "      <td>4050000.0</td>\n",
              "    </tr>\n",
              "    <tr>\n",
              "      <th>119681</th>\n",
              "      <td>238782</td>\n",
              "      <td>931365.0</td>\n",
              "      <td>4050000.0</td>\n",
              "      <td>102514.5</td>\n",
              "      <td>4050000.0</td>\n",
              "    </tr>\n",
              "    <tr>\n",
              "      <th>120757</th>\n",
              "      <td>240007</td>\n",
              "      <td>587250.0</td>\n",
              "      <td>4050000.0</td>\n",
              "      <td>106969.5</td>\n",
              "      <td>4050000.0</td>\n",
              "    </tr>\n",
              "  </tbody>\n",
              "</table>\n",
              "</div>\n",
              "      <button class=\"colab-df-convert\" onclick=\"convertToInteractive('df-539afd7b-1b0e-47b0-b036-6b4f0e955e06')\"\n",
              "              title=\"Convert this dataframe to an interactive table.\"\n",
              "              style=\"display:none;\">\n",
              "        \n",
              "  <svg xmlns=\"http://www.w3.org/2000/svg\" height=\"24px\"viewBox=\"0 0 24 24\"\n",
              "       width=\"24px\">\n",
              "    <path d=\"M0 0h24v24H0V0z\" fill=\"none\"/>\n",
              "    <path d=\"M18.56 5.44l.94 2.06.94-2.06 2.06-.94-2.06-.94-.94-2.06-.94 2.06-2.06.94zm-11 1L8.5 8.5l.94-2.06 2.06-.94-2.06-.94L8.5 2.5l-.94 2.06-2.06.94zm10 10l.94 2.06.94-2.06 2.06-.94-2.06-.94-.94-2.06-.94 2.06-2.06.94z\"/><path d=\"M17.41 7.96l-1.37-1.37c-.4-.4-.92-.59-1.43-.59-.52 0-1.04.2-1.43.59L10.3 9.45l-7.72 7.72c-.78.78-.78 2.05 0 2.83L4 21.41c.39.39.9.59 1.41.59.51 0 1.02-.2 1.41-.59l7.78-7.78 2.81-2.81c.8-.78.8-2.07 0-2.86zM5.41 20L4 18.59l7.72-7.72 1.47 1.35L5.41 20z\"/>\n",
              "  </svg>\n",
              "      </button>\n",
              "      \n",
              "  <style>\n",
              "    .colab-df-container {\n",
              "      display:flex;\n",
              "      flex-wrap:wrap;\n",
              "      gap: 12px;\n",
              "    }\n",
              "\n",
              "    .colab-df-convert {\n",
              "      background-color: #E8F0FE;\n",
              "      border: none;\n",
              "      border-radius: 50%;\n",
              "      cursor: pointer;\n",
              "      display: none;\n",
              "      fill: #1967D2;\n",
              "      height: 32px;\n",
              "      padding: 0 0 0 0;\n",
              "      width: 32px;\n",
              "    }\n",
              "\n",
              "    .colab-df-convert:hover {\n",
              "      background-color: #E2EBFA;\n",
              "      box-shadow: 0px 1px 2px rgba(60, 64, 67, 0.3), 0px 1px 3px 1px rgba(60, 64, 67, 0.15);\n",
              "      fill: #174EA6;\n",
              "    }\n",
              "\n",
              "    [theme=dark] .colab-df-convert {\n",
              "      background-color: #3B4455;\n",
              "      fill: #D2E3FC;\n",
              "    }\n",
              "\n",
              "    [theme=dark] .colab-df-convert:hover {\n",
              "      background-color: #434B5C;\n",
              "      box-shadow: 0px 1px 3px 1px rgba(0, 0, 0, 0.15);\n",
              "      filter: drop-shadow(0px 1px 2px rgba(0, 0, 0, 0.3));\n",
              "      fill: #FFFFFF;\n",
              "    }\n",
              "  </style>\n",
              "\n",
              "      <script>\n",
              "        const buttonEl =\n",
              "          document.querySelector('#df-539afd7b-1b0e-47b0-b036-6b4f0e955e06 button.colab-df-convert');\n",
              "        buttonEl.style.display =\n",
              "          google.colab.kernel.accessAllowed ? 'block' : 'none';\n",
              "\n",
              "        async function convertToInteractive(key) {\n",
              "          const element = document.querySelector('#df-539afd7b-1b0e-47b0-b036-6b4f0e955e06');\n",
              "          const dataTable =\n",
              "            await google.colab.kernel.invokeFunction('convertToInteractive',\n",
              "                                                     [key], {});\n",
              "          if (!dataTable) return;\n",
              "\n",
              "          const docLinkHtml = 'Like what you see? Visit the ' +\n",
              "            '<a target=\"_blank\" href=https://colab.research.google.com/notebooks/data_table.ipynb>data table notebook</a>'\n",
              "            + ' to learn more about interactive tables.';\n",
              "          element.innerHTML = '';\n",
              "          dataTable['output_type'] = 'display_data';\n",
              "          await google.colab.output.renderOutput(dataTable, element);\n",
              "          const docLink = document.createElement('div');\n",
              "          docLink.innerHTML = docLinkHtml;\n",
              "          element.appendChild(docLink);\n",
              "        }\n",
              "      </script>\n",
              "    </div>\n",
              "  </div>\n",
              "  "
            ]
          },
          "metadata": {},
          "execution_count": 139
        }
      ]
    },
    {
      "cell_type": "code",
      "source": [
        "#Plotting graph for approved loan amount \n",
        "df_amt.plot.bar()"
      ],
      "metadata": {
        "colab": {
          "base_uri": "https://localhost:8080/",
          "height": 321
        },
        "id": "IdIen7IZnwh5",
        "outputId": "97ed9861-c56e-4ee2-d8df-92e46af787c6"
      },
      "execution_count": null,
      "outputs": [
        {
          "output_type": "execute_result",
          "data": {
            "text/plain": [
              "<matplotlib.axes._subplots.AxesSubplot at 0x7fd9747a82b0>"
            ]
          },
          "metadata": {},
          "execution_count": 143
        },
        {
          "output_type": "display_data",
          "data": {
            "text/plain": [
              "<Figure size 432x288 with 1 Axes>"
            ],
            "image/png": "[encoded data removed]"
          },
          "metadata": {
            "needs_background": "light"
          }
        }
      ]
    },
    {
      "cell_type": "markdown",
      "source": [
        "#ANNUITY"
      ],
      "metadata": {
        "id": "L7HyQUfiidIS"
      }
    },
    {
      "cell_type": "code",
      "source": [
        "#Checking outliers for ANNUITY\n",
        "cat_df.ANNUITY.describe()"
      ],
      "metadata": {
        "colab": {
          "base_uri": "https://localhost:8080/"
        },
        "id": "P2jMzag4ieLD",
        "outputId": "cef923d2-34a6-4192-f543-20add257b095"
      },
      "execution_count": null,
      "outputs": [
        {
          "output_type": "execute_result",
          "data": {
            "text/plain": [
              "count     307511.0\n",
              "unique     13673.0\n",
              "top         9000.0\n",
              "freq        6385.0\n",
              "Name: ANNUITY, dtype: float64"
            ]
          },
          "metadata": {},
          "execution_count": 126
        }
      ]
    },
    {
      "cell_type": "code",
      "source": [
        "cat_df.shape"
      ],
      "metadata": {
        "colab": {
          "base_uri": "https://localhost:8080/"
        },
        "id": "1piUCs3slHIK",
        "outputId": "3ea731f7-7730-44dd-b3f3-fca7d351a2b8"
      },
      "execution_count": null,
      "outputs": [
        {
          "output_type": "execute_result",
          "data": {
            "text/plain": [
              "(307511, 5)"
            ]
          },
          "metadata": {},
          "execution_count": 129
        }
      ]
    },
    {
      "cell_type": "code",
      "source": [
        "print(\"missing values from Annuty : \",cat_df.ANNUITY.isna().sum())"
      ],
      "metadata": {
        "colab": {
          "base_uri": "https://localhost:8080/"
        },
        "id": "rpL6ox6Al6Vp",
        "outputId": "e4b21406-57ba-436a-9f3c-931d5c8599aa"
      },
      "execution_count": null,
      "outputs": [
        {
          "output_type": "stream",
          "name": "stdout",
          "text": [
            "missing values from Annuty :  0\n"
          ]
        }
      ]
    },
    {
      "cell_type": "code",
      "source": [],
      "metadata": {
        "id": "N9fZkqcEmP4Z"
      },
      "execution_count": null,
      "outputs": []
    },
    {
      "cell_type": "markdown",
      "source": [
        "#GOODS_PRICE"
      ],
      "metadata": {
        "id": "udrfEq3emh1I"
      }
    },
    {
      "cell_type": "code",
      "source": [
        "#Checking outliers for GOODS_PRICE\n",
        "cat_df.GOODS_PRICE.describe()"
      ],
      "metadata": {
        "colab": {
          "base_uri": "https://localhost:8080/"
        },
        "id": "_XNTEDrEmP72",
        "outputId": "efebc6c8-ceed-468e-a774-a0470b8c6268"
      },
      "execution_count": null,
      "outputs": [
        {
          "output_type": "execute_result",
          "data": {
            "text/plain": [
              "count     307511.0\n",
              "unique      1003.0\n",
              "top       450000.0\n",
              "freq       26022.0\n",
              "Name: GOODS_PRICE, dtype: float64"
            ]
          },
          "metadata": {},
          "execution_count": 136
        }
      ]
    },
    {
      "cell_type": "code",
      "source": [],
      "metadata": {
        "id": "_pNcyXcrzoYC"
      },
      "execution_count": null,
      "outputs": []
    },
    {
      "cell_type": "markdown",
      "source": [
        "#Find the top 10 correlation for the Client with payment difficulties and all other cases (Target variable).\n"
      ],
      "metadata": {
        "id": "msuiqSmNyOgQ"
      }
    },
    {
      "cell_type": "code",
      "source": [
        "new_df.TARGET.unique()"
      ],
      "metadata": {
        "colab": {
          "base_uri": "https://localhost:8080/"
        },
        "id": "l1m3MgAUyy81",
        "outputId": "ec396fcc-cbcf-495c-d930-38c6bd399b8c"
      },
      "execution_count": null,
      "outputs": [
        {
          "output_type": "execute_result",
          "data": {
            "text/plain": [
              "array([1, 0])"
            ]
          },
          "metadata": {},
          "execution_count": 27
        }
      ]
    },
    {
      "cell_type": "code",
      "source": [
        "r=new_df.TARGET.value_counts()\n",
        "r"
      ],
      "metadata": {
        "colab": {
          "base_uri": "https://localhost:8080/"
        },
        "id": "jHc4OwoQ1_hf",
        "outputId": "3480a640-9aef-4ae2-e348-3e656fd7206f"
      },
      "execution_count": null,
      "outputs": [
        {
          "output_type": "execute_result",
          "data": {
            "text/plain": [
              "0    282686\n",
              "1     24825\n",
              "Name: TARGET, dtype: int64"
            ]
          },
          "metadata": {},
          "execution_count": 31
        }
      ]
    },
    {
      "cell_type": "code",
      "source": [
        "plt.barh(r.index, r)"
      ],
      "metadata": {
        "colab": {
          "base_uri": "https://localhost:8080/",
          "height": 282
        },
        "id": "IVTg8SPv2V4n",
        "outputId": "7928bb1d-012a-4dfd-e9ee-d464c6dd3d31"
      },
      "execution_count": null,
      "outputs": [
        {
          "output_type": "execute_result",
          "data": {
            "text/plain": [
              "<BarContainer object of 2 artists>"
            ]
          },
          "metadata": {},
          "execution_count": 32
        },
        {
          "output_type": "display_data",
          "data": {
            "text/plain": [
              "<Figure size 432x288 with 1 Axes>"
            ],
            "image/png": "[encoded data removed]"
          },
          "metadata": {
            "needs_background": "light"
          }
        }
      ]
    },
    {
      "cell_type": "code",
      "source": [
        "plt.pie(x=r, labels=r.index, autopct='%1.2f%%')\n",
        "plt.legend()\n",
        "plt.show()"
      ],
      "metadata": {
        "colab": {
          "base_uri": "https://localhost:8080/",
          "height": 248
        },
        "id": "7G7Yqdua2crO",
        "outputId": "4c443ebc-bfdd-462b-d37b-7a044e96360d"
      },
      "execution_count": null,
      "outputs": [
        {
          "output_type": "display_data",
          "data": {
            "text/plain": [
              "<Figure size 432x288 with 1 Axes>"
            ],
            "image/png": "[encoded data removed]"
          },
          "metadata": {}
        }
      ]
    },
    {
      "cell_type": "markdown",
      "source": [
        "##Conclustion:: 8.07% of people have payment difficulty"
      ],
      "metadata": {
        "id": "GlwRSCE22kUn"
      }
    },
    {
      "cell_type": "code",
      "source": [
        "cat_df.head()"
      ],
      "metadata": {
        "colab": {
          "base_uri": "https://localhost:8080/",
          "height": 206
        },
        "id": "niy0SbEr39j2",
        "outputId": "e783603e-5467-418d-eb1a-e2a72cd6a256"
      },
      "execution_count": null,
      "outputs": [
        {
          "output_type": "execute_result",
          "data": {
            "text/plain": [
              "   Cust_ID    INCOME   Loan_AMT  ANNUITY  GOODS_PRICE\n",
              "0   100002  202500.0   406597.5  24700.5     351000.0\n",
              "1   100003  270000.0  1293502.5  35698.5    1129500.0\n",
              "2   100004   67500.0   135000.0   6750.0     135000.0\n",
              "3   100006  135000.0   312682.5  29686.5     297000.0\n",
              "4   100007  121500.0   513000.0  21865.5     513000.0"
            ],
            "text/html": [
              "\n",
              "  <div id=\"df-e8580f49-ccb2-49db-bacb-5ade6f325032\">\n",
              "    <div class=\"colab-df-container\">\n",
              "      <div>\n",
              "<style scoped>\n",
              "    .dataframe tbody tr th:only-of-type {\n",
              "        vertical-align: middle;\n",
              "    }\n",
              "\n",
              "    .dataframe tbody tr th {\n",
              "        vertical-align: top;\n",
              "    }\n",
              "\n",
              "    .dataframe thead th {\n",
              "        text-align: right;\n",
              "    }\n",
              "</style>\n",
              "<table border=\"1\" class=\"dataframe\">\n",
              "  <thead>\n",
              "    <tr style=\"text-align: right;\">\n",
              "      <th></th>\n",
              "      <th>Cust_ID</th>\n",
              "      <th>INCOME</th>\n",
              "      <th>Loan_AMT</th>\n",
              "      <th>ANNUITY</th>\n",
              "      <th>GOODS_PRICE</th>\n",
              "    </tr>\n",
              "  </thead>\n",
              "  <tbody>\n",
              "    <tr>\n",
              "      <th>0</th>\n",
              "      <td>100002</td>\n",
              "      <td>202500.0</td>\n",
              "      <td>406597.5</td>\n",
              "      <td>24700.5</td>\n",
              "      <td>351000.0</td>\n",
              "    </tr>\n",
              "    <tr>\n",
              "      <th>1</th>\n",
              "      <td>100003</td>\n",
              "      <td>270000.0</td>\n",
              "      <td>1293502.5</td>\n",
              "      <td>35698.5</td>\n",
              "      <td>1129500.0</td>\n",
              "    </tr>\n",
              "    <tr>\n",
              "      <th>2</th>\n",
              "      <td>100004</td>\n",
              "      <td>67500.0</td>\n",
              "      <td>135000.0</td>\n",
              "      <td>6750.0</td>\n",
              "      <td>135000.0</td>\n",
              "    </tr>\n",
              "    <tr>\n",
              "      <th>3</th>\n",
              "      <td>100006</td>\n",
              "      <td>135000.0</td>\n",
              "      <td>312682.5</td>\n",
              "      <td>29686.5</td>\n",
              "      <td>297000.0</td>\n",
              "    </tr>\n",
              "    <tr>\n",
              "      <th>4</th>\n",
              "      <td>100007</td>\n",
              "      <td>121500.0</td>\n",
              "      <td>513000.0</td>\n",
              "      <td>21865.5</td>\n",
              "      <td>513000.0</td>\n",
              "    </tr>\n",
              "  </tbody>\n",
              "</table>\n",
              "</div>\n",
              "      <button class=\"colab-df-convert\" onclick=\"convertToInteractive('df-e8580f49-ccb2-49db-bacb-5ade6f325032')\"\n",
              "              title=\"Convert this dataframe to an interactive table.\"\n",
              "              style=\"display:none;\">\n",
              "        \n",
              "  <svg xmlns=\"http://www.w3.org/2000/svg\" height=\"24px\"viewBox=\"0 0 24 24\"\n",
              "       width=\"24px\">\n",
              "    <path d=\"M0 0h24v24H0V0z\" fill=\"none\"/>\n",
              "    <path d=\"M18.56 5.44l.94 2.06.94-2.06 2.06-.94-2.06-.94-.94-2.06-.94 2.06-2.06.94zm-11 1L8.5 8.5l.94-2.06 2.06-.94-2.06-.94L8.5 2.5l-.94 2.06-2.06.94zm10 10l.94 2.06.94-2.06 2.06-.94-2.06-.94-.94-2.06-.94 2.06-2.06.94z\"/><path d=\"M17.41 7.96l-1.37-1.37c-.4-.4-.92-.59-1.43-.59-.52 0-1.04.2-1.43.59L10.3 9.45l-7.72 7.72c-.78.78-.78 2.05 0 2.83L4 21.41c.39.39.9.59 1.41.59.51 0 1.02-.2 1.41-.59l7.78-7.78 2.81-2.81c.8-.78.8-2.07 0-2.86zM5.41 20L4 18.59l7.72-7.72 1.47 1.35L5.41 20z\"/>\n",
              "  </svg>\n",
              "      </button>\n",
              "      \n",
              "  <style>\n",
              "    .colab-df-container {\n",
              "      display:flex;\n",
              "      flex-wrap:wrap;\n",
              "      gap: 12px;\n",
              "    }\n",
              "\n",
              "    .colab-df-convert {\n",
              "      background-color: #E8F0FE;\n",
              "      border: none;\n",
              "      border-radius: 50%;\n",
              "      cursor: pointer;\n",
              "      display: none;\n",
              "      fill: #1967D2;\n",
              "      height: 32px;\n",
              "      padding: 0 0 0 0;\n",
              "      width: 32px;\n",
              "    }\n",
              "\n",
              "    .colab-df-convert:hover {\n",
              "      background-color: #E2EBFA;\n",
              "      box-shadow: 0px 1px 2px rgba(60, 64, 67, 0.3), 0px 1px 3px 1px rgba(60, 64, 67, 0.15);\n",
              "      fill: #174EA6;\n",
              "    }\n",
              "\n",
              "    [theme=dark] .colab-df-convert {\n",
              "      background-color: #3B4455;\n",
              "      fill: #D2E3FC;\n",
              "    }\n",
              "\n",
              "    [theme=dark] .colab-df-convert:hover {\n",
              "      background-color: #434B5C;\n",
              "      box-shadow: 0px 1px 3px 1px rgba(0, 0, 0, 0.15);\n",
              "      filter: drop-shadow(0px 1px 2px rgba(0, 0, 0, 0.3));\n",
              "      fill: #FFFFFF;\n",
              "    }\n",
              "  </style>\n",
              "\n",
              "      <script>\n",
              "        const buttonEl =\n",
              "          document.querySelector('#df-e8580f49-ccb2-49db-bacb-5ade6f325032 button.colab-df-convert');\n",
              "        buttonEl.style.display =\n",
              "          google.colab.kernel.accessAllowed ? 'block' : 'none';\n",
              "\n",
              "        async function convertToInteractive(key) {\n",
              "          const element = document.querySelector('#df-e8580f49-ccb2-49db-bacb-5ade6f325032');\n",
              "          const dataTable =\n",
              "            await google.colab.kernel.invokeFunction('convertToInteractive',\n",
              "                                                     [key], {});\n",
              "          if (!dataTable) return;\n",
              "\n",
              "          const docLinkHtml = 'Like what you see? Visit the ' +\n",
              "            '<a target=\"_blank\" href=https://colab.research.google.com/notebooks/data_table.ipynb>data table notebook</a>'\n",
              "            + ' to learn more about interactive tables.';\n",
              "          element.innerHTML = '';\n",
              "          dataTable['output_type'] = 'display_data';\n",
              "          await google.colab.output.renderOutput(dataTable, element);\n",
              "          const docLink = document.createElement('div');\n",
              "          docLink.innerHTML = docLinkHtml;\n",
              "          element.appendChild(docLink);\n",
              "        }\n",
              "      </script>\n",
              "    </div>\n",
              "  </div>\n",
              "  "
            ]
          },
          "metadata": {},
          "execution_count": 37
        }
      ]
    },
    {
      "cell_type": "markdown",
      "source": [
        "# Binary Logistic Regression(taking into account Target as response variable)\n"
      ],
      "metadata": {
        "id": "69vFiusU28KX"
      }
    },
    {
      "cell_type": "code",
      "source": [
        "dff=new_df[['Cust_ID','TARGET','INCOME','Loan_AMT','ANNUITY','GOODS_PRICE']]"
      ],
      "metadata": {
        "id": "vzqUDr-U43jQ"
      },
      "execution_count": null,
      "outputs": []
    },
    {
      "cell_type": "markdown",
      "source": [
        "General Regression::\n",
        "at least 1 catagorical predictor(we create dummy var) and respoce is continues(we have target variable as catogorical data)"
      ],
      "metadata": {
        "id": "Ru9UcJCV5UHj"
      }
    },
    {
      "cell_type": "code",
      "source": [
        "import numpy as np\n",
        "import pandas as pd\n",
        "import statsmodels.api as sm\n",
        "import sklearn\n",
        "from sklearn.model_selection import train_test_split"
      ],
      "metadata": {
        "id": "AdYU8eSR5a7H"
      },
      "execution_count": null,
      "outputs": []
    },
    {
      "cell_type": "code",
      "source": [
        "mydf=dff[['TARGET','INCOME','Loan_AMT','ANNUITY','GOODS_PRICE']]"
      ],
      "metadata": {
        "id": "gNB0tSzO5hCu"
      },
      "execution_count": null,
      "outputs": []
    },
    {
      "cell_type": "code",
      "source": [
        "#x_train, x_test, y_train, y_test = train_test_split(mydf.drop('TARGET', axis=1), mydf.TARGET, test_size=0.2)\n"
      ],
      "metadata": {
        "id": "lxl-QH9I57pO"
      },
      "execution_count": null,
      "outputs": []
    },
    {
      "cell_type": "markdown",
      "source": [
        "#checking for Target var vs Income"
      ],
      "metadata": {
        "id": "EtK9WRb88pKf"
      }
    },
    {
      "cell_type": "code",
      "source": [
        "x = mydf[['INCOME']]\n",
        "y=mydf[['TARGET']]"
      ],
      "metadata": {
        "id": "GMD0zMCe76bP"
      },
      "execution_count": null,
      "outputs": []
    },
    {
      "cell_type": "code",
      "source": [
        "x=sm.add_constant(x)"
      ],
      "metadata": {
        "colab": {
          "base_uri": "https://localhost:8080/"
        },
        "id": "fRj37BVX6rco",
        "outputId": "ab207ad6-13ee-41df-f675-adfaa1bdd2c8"
      },
      "execution_count": null,
      "outputs": [
        {
          "output_type": "stream",
          "name": "stderr",
          "text": [
            "/usr/local/lib/python3.8/dist-packages/statsmodels/tsa/tsatools.py:142: FutureWarning: In a future version of pandas all arguments of concat except for the argument 'objs' will be keyword-only\n",
            "  x = pd.concat(x[::order], 1)\n"
          ]
        }
      ]
    },
    {
      "cell_type": "code",
      "source": [
        "x"
      ],
      "metadata": {
        "colab": {
          "base_uri": "https://localhost:8080/",
          "height": 424
        },
        "id": "KDYcNkbH7KdH",
        "outputId": "0cecc966-e890-420b-9698-7d780662a859"
      },
      "execution_count": null,
      "outputs": [
        {
          "output_type": "execute_result",
          "data": {
            "text/plain": [
              "        const    INCOME\n",
              "0         1.0  202500.0\n",
              "1         1.0  270000.0\n",
              "2         1.0   67500.0\n",
              "3         1.0  135000.0\n",
              "4         1.0  121500.0\n",
              "...       ...       ...\n",
              "307506    1.0  157500.0\n",
              "307507    1.0   72000.0\n",
              "307508    1.0  153000.0\n",
              "307509    1.0  171000.0\n",
              "307510    1.0  157500.0\n",
              "\n",
              "[307511 rows x 2 columns]"
            ],
            "text/html": [
              "\n",
              "  <div id=\"df-d7cb3a3f-3ec5-40d4-9ed6-d8dac74a889d\">\n",
              "    <div class=\"colab-df-container\">\n",
              "      <div>\n",
              "<style scoped>\n",
              "    .dataframe tbody tr th:only-of-type {\n",
              "        vertical-align: middle;\n",
              "    }\n",
              "\n",
              "    .dataframe tbody tr th {\n",
              "        vertical-align: top;\n",
              "    }\n",
              "\n",
              "    .dataframe thead th {\n",
              "        text-align: right;\n",
              "    }\n",
              "</style>\n",
              "<table border=\"1\" class=\"dataframe\">\n",
              "  <thead>\n",
              "    <tr style=\"text-align: right;\">\n",
              "      <th></th>\n",
              "      <th>const</th>\n",
              "      <th>INCOME</th>\n",
              "    </tr>\n",
              "  </thead>\n",
              "  <tbody>\n",
              "    <tr>\n",
              "      <th>0</th>\n",
              "      <td>1.0</td>\n",
              "      <td>202500.0</td>\n",
              "    </tr>\n",
              "    <tr>\n",
              "      <th>1</th>\n",
              "      <td>1.0</td>\n",
              "      <td>270000.0</td>\n",
              "    </tr>\n",
              "    <tr>\n",
              "      <th>2</th>\n",
              "      <td>1.0</td>\n",
              "      <td>67500.0</td>\n",
              "    </tr>\n",
              "    <tr>\n",
              "      <th>3</th>\n",
              "      <td>1.0</td>\n",
              "      <td>135000.0</td>\n",
              "    </tr>\n",
              "    <tr>\n",
              "      <th>4</th>\n",
              "      <td>1.0</td>\n",
              "      <td>121500.0</td>\n",
              "    </tr>\n",
              "    <tr>\n",
              "      <th>...</th>\n",
              "      <td>...</td>\n",
              "      <td>...</td>\n",
              "    </tr>\n",
              "    <tr>\n",
              "      <th>307506</th>\n",
              "      <td>1.0</td>\n",
              "      <td>157500.0</td>\n",
              "    </tr>\n",
              "    <tr>\n",
              "      <th>307507</th>\n",
              "      <td>1.0</td>\n",
              "      <td>72000.0</td>\n",
              "    </tr>\n",
              "    <tr>\n",
              "      <th>307508</th>\n",
              "      <td>1.0</td>\n",
              "      <td>153000.0</td>\n",
              "    </tr>\n",
              "    <tr>\n",
              "      <th>307509</th>\n",
              "      <td>1.0</td>\n",
              "      <td>171000.0</td>\n",
              "    </tr>\n",
              "    <tr>\n",
              "      <th>307510</th>\n",
              "      <td>1.0</td>\n",
              "      <td>157500.0</td>\n",
              "    </tr>\n",
              "  </tbody>\n",
              "</table>\n",
              "<p>307511 rows × 2 columns</p>\n",
              "</div>\n",
              "      <button class=\"colab-df-convert\" onclick=\"convertToInteractive('df-d7cb3a3f-3ec5-40d4-9ed6-d8dac74a889d')\"\n",
              "              title=\"Convert this dataframe to an interactive table.\"\n",
              "              style=\"display:none;\">\n",
              "        \n",
              "  <svg xmlns=\"http://www.w3.org/2000/svg\" height=\"24px\"viewBox=\"0 0 24 24\"\n",
              "       width=\"24px\">\n",
              "    <path d=\"M0 0h24v24H0V0z\" fill=\"none\"/>\n",
              "    <path d=\"M18.56 5.44l.94 2.06.94-2.06 2.06-.94-2.06-.94-.94-2.06-.94 2.06-2.06.94zm-11 1L8.5 8.5l.94-2.06 2.06-.94-2.06-.94L8.5 2.5l-.94 2.06-2.06.94zm10 10l.94 2.06.94-2.06 2.06-.94-2.06-.94-.94-2.06-.94 2.06-2.06.94z\"/><path d=\"M17.41 7.96l-1.37-1.37c-.4-.4-.92-.59-1.43-.59-.52 0-1.04.2-1.43.59L10.3 9.45l-7.72 7.72c-.78.78-.78 2.05 0 2.83L4 21.41c.39.39.9.59 1.41.59.51 0 1.02-.2 1.41-.59l7.78-7.78 2.81-2.81c.8-.78.8-2.07 0-2.86zM5.41 20L4 18.59l7.72-7.72 1.47 1.35L5.41 20z\"/>\n",
              "  </svg>\n",
              "      </button>\n",
              "      \n",
              "  <style>\n",
              "    .colab-df-container {\n",
              "      display:flex;\n",
              "      flex-wrap:wrap;\n",
              "      gap: 12px;\n",
              "    }\n",
              "\n",
              "    .colab-df-convert {\n",
              "      background-color: #E8F0FE;\n",
              "      border: none;\n",
              "      border-radius: 50%;\n",
              "      cursor: pointer;\n",
              "      display: none;\n",
              "      fill: #1967D2;\n",
              "      height: 32px;\n",
              "      padding: 0 0 0 0;\n",
              "      width: 32px;\n",
              "    }\n",
              "\n",
              "    .colab-df-convert:hover {\n",
              "      background-color: #E2EBFA;\n",
              "      box-shadow: 0px 1px 2px rgba(60, 64, 67, 0.3), 0px 1px 3px 1px rgba(60, 64, 67, 0.15);\n",
              "      fill: #174EA6;\n",
              "    }\n",
              "\n",
              "    [theme=dark] .colab-df-convert {\n",
              "      background-color: #3B4455;\n",
              "      fill: #D2E3FC;\n",
              "    }\n",
              "\n",
              "    [theme=dark] .colab-df-convert:hover {\n",
              "      background-color: #434B5C;\n",
              "      box-shadow: 0px 1px 3px 1px rgba(0, 0, 0, 0.15);\n",
              "      filter: drop-shadow(0px 1px 2px rgba(0, 0, 0, 0.3));\n",
              "      fill: #FFFFFF;\n",
              "    }\n",
              "  </style>\n",
              "\n",
              "      <script>\n",
              "        const buttonEl =\n",
              "          document.querySelector('#df-d7cb3a3f-3ec5-40d4-9ed6-d8dac74a889d button.colab-df-convert');\n",
              "        buttonEl.style.display =\n",
              "          google.colab.kernel.accessAllowed ? 'block' : 'none';\n",
              "\n",
              "        async function convertToInteractive(key) {\n",
              "          const element = document.querySelector('#df-d7cb3a3f-3ec5-40d4-9ed6-d8dac74a889d');\n",
              "          const dataTable =\n",
              "            await google.colab.kernel.invokeFunction('convertToInteractive',\n",
              "                                                     [key], {});\n",
              "          if (!dataTable) return;\n",
              "\n",
              "          const docLinkHtml = 'Like what you see? Visit the ' +\n",
              "            '<a target=\"_blank\" href=https://colab.research.google.com/notebooks/data_table.ipynb>data table notebook</a>'\n",
              "            + ' to learn more about interactive tables.';\n",
              "          element.innerHTML = '';\n",
              "          dataTable['output_type'] = 'display_data';\n",
              "          await google.colab.output.renderOutput(dataTable, element);\n",
              "          const docLink = document.createElement('div');\n",
              "          docLink.innerHTML = docLinkHtml;\n",
              "          element.appendChild(docLink);\n",
              "        }\n",
              "      </script>\n",
              "    </div>\n",
              "  </div>\n",
              "  "
            ]
          },
          "metadata": {},
          "execution_count": 57
        }
      ]
    },
    {
      "cell_type": "code",
      "source": [
        "mod = sm.Logit(y,x).fit()"
      ],
      "metadata": {
        "colab": {
          "base_uri": "https://localhost:8080/"
        },
        "id": "ccXS8vXt8LMm",
        "outputId": "8e65f5df-2c9f-4429-d980-e091d747c66a"
      },
      "execution_count": null,
      "outputs": [
        {
          "output_type": "stream",
          "name": "stdout",
          "text": [
            "Optimization terminated successfully.\n",
            "         Current function value: 0.280512\n",
            "         Iterations 7\n"
          ]
        }
      ]
    },
    {
      "cell_type": "code",
      "source": [
        "print(mod.summary())   "
      ],
      "metadata": {
        "colab": {
          "base_uri": "https://localhost:8080/"
        },
        "id": "fJR0M86D7XLm",
        "outputId": "1c9cbaff-1d49-468e-f18c-bc3a3ee48d0c"
      },
      "execution_count": null,
      "outputs": [
        {
          "output_type": "stream",
          "name": "stdout",
          "text": [
            "                           Logit Regression Results                           \n",
            "==============================================================================\n",
            "Dep. Variable:                 TARGET   No. Observations:               307511\n",
            "Model:                          Logit   Df Residuals:                   307509\n",
            "Method:                           MLE   Df Model:                            1\n",
            "Date:                Sat, 31 Dec 2022   Pseudo R-squ.:               0.0001219\n",
            "Time:                        11:29:51   Log-Likelihood:                -86260.\n",
            "converged:                       True   LL-Null:                       -86271.\n",
            "Covariance Type:            nonrobust   LLR p-value:                 4.514e-06\n",
            "==============================================================================\n",
            "                 coef    std err          z      P>|z|      [0.025      0.975]\n",
            "------------------------------------------------------------------------------\n",
            "const         -2.3800      0.013   -176.495      0.000      -2.406      -2.354\n",
            "INCOME     -3.142e-07   7.08e-08     -4.435      0.000   -4.53e-07   -1.75e-07\n",
            "==============================================================================\n"
          ]
        }
      ]
    },
    {
      "cell_type": "markdown",
      "source": [
        "#p=value is <0.05 so Ho is rejected and it means that Income affect the person will default or not on loan repayment"
      ],
      "metadata": {
        "id": "VQf_89MzIts2"
      }
    },
    {
      "cell_type": "markdown",
      "source": [
        "#checking for Target var vs Loan_AMT"
      ],
      "metadata": {
        "id": "VANHQaLI8uou"
      }
    },
    {
      "cell_type": "code",
      "source": [
        "x = mydf[['Loan_AMT']]\n",
        "y=mydf[['TARGET']]\n"
      ],
      "metadata": {
        "id": "a9ENXLyY8vXP"
      },
      "execution_count": null,
      "outputs": []
    },
    {
      "cell_type": "code",
      "source": [
        "x=sm.add_constant(x)"
      ],
      "metadata": {
        "colab": {
          "base_uri": "https://localhost:8080/"
        },
        "id": "OG7-0xXw9G1g",
        "outputId": "693ed6e7-bf61-4ed1-d6c9-2f010cb6327f"
      },
      "execution_count": null,
      "outputs": [
        {
          "output_type": "stream",
          "name": "stderr",
          "text": [
            "/usr/local/lib/python3.8/dist-packages/statsmodels/tsa/tsatools.py:142: FutureWarning: In a future version of pandas all arguments of concat except for the argument 'objs' will be keyword-only\n",
            "  x = pd.concat(x[::order], 1)\n"
          ]
        }
      ]
    },
    {
      "cell_type": "code",
      "source": [
        "x"
      ],
      "metadata": {
        "colab": {
          "base_uri": "https://localhost:8080/",
          "height": 424
        },
        "id": "K_xqZiaJ9I0f",
        "outputId": "7a53c748-c4c0-482e-c57a-7295df33824a"
      },
      "execution_count": null,
      "outputs": [
        {
          "output_type": "execute_result",
          "data": {
            "text/plain": [
              "        const   Loan_AMT\n",
              "0         1.0   406597.5\n",
              "1         1.0  1293502.5\n",
              "2         1.0   135000.0\n",
              "3         1.0   312682.5\n",
              "4         1.0   513000.0\n",
              "...       ...        ...\n",
              "307506    1.0   254700.0\n",
              "307507    1.0   269550.0\n",
              "307508    1.0   677664.0\n",
              "307509    1.0   370107.0\n",
              "307510    1.0   675000.0\n",
              "\n",
              "[307511 rows x 2 columns]"
            ],
            "text/html": [
              "\n",
              "  <div id=\"df-5762dee2-ca50-43c5-9426-73c8835288b5\">\n",
              "    <div class=\"colab-df-container\">\n",
              "      <div>\n",
              "<style scoped>\n",
              "    .dataframe tbody tr th:only-of-type {\n",
              "        vertical-align: middle;\n",
              "    }\n",
              "\n",
              "    .dataframe tbody tr th {\n",
              "        vertical-align: top;\n",
              "    }\n",
              "\n",
              "    .dataframe thead th {\n",
              "        text-align: right;\n",
              "    }\n",
              "</style>\n",
              "<table border=\"1\" class=\"dataframe\">\n",
              "  <thead>\n",
              "    <tr style=\"text-align: right;\">\n",
              "      <th></th>\n",
              "      <th>const</th>\n",
              "      <th>Loan_AMT</th>\n",
              "    </tr>\n",
              "  </thead>\n",
              "  <tbody>\n",
              "    <tr>\n",
              "      <th>0</th>\n",
              "      <td>1.0</td>\n",
              "      <td>406597.5</td>\n",
              "    </tr>\n",
              "    <tr>\n",
              "      <th>1</th>\n",
              "      <td>1.0</td>\n",
              "      <td>1293502.5</td>\n",
              "    </tr>\n",
              "    <tr>\n",
              "      <th>2</th>\n",
              "      <td>1.0</td>\n",
              "      <td>135000.0</td>\n",
              "    </tr>\n",
              "    <tr>\n",
              "      <th>3</th>\n",
              "      <td>1.0</td>\n",
              "      <td>312682.5</td>\n",
              "    </tr>\n",
              "    <tr>\n",
              "      <th>4</th>\n",
              "      <td>1.0</td>\n",
              "      <td>513000.0</td>\n",
              "    </tr>\n",
              "    <tr>\n",
              "      <th>...</th>\n",
              "      <td>...</td>\n",
              "      <td>...</td>\n",
              "    </tr>\n",
              "    <tr>\n",
              "      <th>307506</th>\n",
              "      <td>1.0</td>\n",
              "      <td>254700.0</td>\n",
              "    </tr>\n",
              "    <tr>\n",
              "      <th>307507</th>\n",
              "      <td>1.0</td>\n",
              "      <td>269550.0</td>\n",
              "    </tr>\n",
              "    <tr>\n",
              "      <th>307508</th>\n",
              "      <td>1.0</td>\n",
              "      <td>677664.0</td>\n",
              "    </tr>\n",
              "    <tr>\n",
              "      <th>307509</th>\n",
              "      <td>1.0</td>\n",
              "      <td>370107.0</td>\n",
              "    </tr>\n",
              "    <tr>\n",
              "      <th>307510</th>\n",
              "      <td>1.0</td>\n",
              "      <td>675000.0</td>\n",
              "    </tr>\n",
              "  </tbody>\n",
              "</table>\n",
              "<p>307511 rows × 2 columns</p>\n",
              "</div>\n",
              "      <button class=\"colab-df-convert\" onclick=\"convertToInteractive('df-5762dee2-ca50-43c5-9426-73c8835288b5')\"\n",
              "              title=\"Convert this dataframe to an interactive table.\"\n",
              "              style=\"display:none;\">\n",
              "        \n",
              "  <svg xmlns=\"http://www.w3.org/2000/svg\" height=\"24px\"viewBox=\"0 0 24 24\"\n",
              "       width=\"24px\">\n",
              "    <path d=\"M0 0h24v24H0V0z\" fill=\"none\"/>\n",
              "    <path d=\"M18.56 5.44l.94 2.06.94-2.06 2.06-.94-2.06-.94-.94-2.06-.94 2.06-2.06.94zm-11 1L8.5 8.5l.94-2.06 2.06-.94-2.06-.94L8.5 2.5l-.94 2.06-2.06.94zm10 10l.94 2.06.94-2.06 2.06-.94-2.06-.94-.94-2.06-.94 2.06-2.06.94z\"/><path d=\"M17.41 7.96l-1.37-1.37c-.4-.4-.92-.59-1.43-.59-.52 0-1.04.2-1.43.59L10.3 9.45l-7.72 7.72c-.78.78-.78 2.05 0 2.83L4 21.41c.39.39.9.59 1.41.59.51 0 1.02-.2 1.41-.59l7.78-7.78 2.81-2.81c.8-.78.8-2.07 0-2.86zM5.41 20L4 18.59l7.72-7.72 1.47 1.35L5.41 20z\"/>\n",
              "  </svg>\n",
              "      </button>\n",
              "      \n",
              "  <style>\n",
              "    .colab-df-container {\n",
              "      display:flex;\n",
              "      flex-wrap:wrap;\n",
              "      gap: 12px;\n",
              "    }\n",
              "\n",
              "    .colab-df-convert {\n",
              "      background-color: #E8F0FE;\n",
              "      border: none;\n",
              "      border-radius: 50%;\n",
              "      cursor: pointer;\n",
              "      display: none;\n",
              "      fill: #1967D2;\n",
              "      height: 32px;\n",
              "      padding: 0 0 0 0;\n",
              "      width: 32px;\n",
              "    }\n",
              "\n",
              "    .colab-df-convert:hover {\n",
              "      background-color: #E2EBFA;\n",
              "      box-shadow: 0px 1px 2px rgba(60, 64, 67, 0.3), 0px 1px 3px 1px rgba(60, 64, 67, 0.15);\n",
              "      fill: #174EA6;\n",
              "    }\n",
              "\n",
              "    [theme=dark] .colab-df-convert {\n",
              "      background-color: #3B4455;\n",
              "      fill: #D2E3FC;\n",
              "    }\n",
              "\n",
              "    [theme=dark] .colab-df-convert:hover {\n",
              "      background-color: #434B5C;\n",
              "      box-shadow: 0px 1px 3px 1px rgba(0, 0, 0, 0.15);\n",
              "      filter: drop-shadow(0px 1px 2px rgba(0, 0, 0, 0.3));\n",
              "      fill: #FFFFFF;\n",
              "    }\n",
              "  </style>\n",
              "\n",
              "      <script>\n",
              "        const buttonEl =\n",
              "          document.querySelector('#df-5762dee2-ca50-43c5-9426-73c8835288b5 button.colab-df-convert');\n",
              "        buttonEl.style.display =\n",
              "          google.colab.kernel.accessAllowed ? 'block' : 'none';\n",
              "\n",
              "        async function convertToInteractive(key) {\n",
              "          const element = document.querySelector('#df-5762dee2-ca50-43c5-9426-73c8835288b5');\n",
              "          const dataTable =\n",
              "            await google.colab.kernel.invokeFunction('convertToInteractive',\n",
              "                                                     [key], {});\n",
              "          if (!dataTable) return;\n",
              "\n",
              "          const docLinkHtml = 'Like what you see? Visit the ' +\n",
              "            '<a target=\"_blank\" href=https://colab.research.google.com/notebooks/data_table.ipynb>data table notebook</a>'\n",
              "            + ' to learn more about interactive tables.';\n",
              "          element.innerHTML = '';\n",
              "          dataTable['output_type'] = 'display_data';\n",
              "          await google.colab.output.renderOutput(dataTable, element);\n",
              "          const docLink = document.createElement('div');\n",
              "          docLink.innerHTML = docLinkHtml;\n",
              "          element.appendChild(docLink);\n",
              "        }\n",
              "      </script>\n",
              "    </div>\n",
              "  </div>\n",
              "  "
            ]
          },
          "metadata": {},
          "execution_count": 64
        }
      ]
    },
    {
      "cell_type": "code",
      "source": [
        "mod1 = sm.Logit(y,x).fit()"
      ],
      "metadata": {
        "colab": {
          "base_uri": "https://localhost:8080/"
        },
        "id": "eSuk_e3O9LVv",
        "outputId": "ddf052f6-c88b-4248-eed2-13c2bd2ff5e1"
      },
      "execution_count": null,
      "outputs": [
        {
          "output_type": "stream",
          "name": "stdout",
          "text": [
            "Optimization terminated successfully.\n",
            "         Current function value: 0.280066\n",
            "         Iterations 7\n"
          ]
        }
      ]
    },
    {
      "cell_type": "code",
      "source": [
        "print(mod1.summary()) "
      ],
      "metadata": {
        "colab": {
          "base_uri": "https://localhost:8080/"
        },
        "id": "muLAE0579NL3",
        "outputId": "617bca25-b1a3-4444-fc8f-f36a8c654dd2"
      },
      "execution_count": null,
      "outputs": [
        {
          "output_type": "stream",
          "name": "stdout",
          "text": [
            "                           Logit Regression Results                           \n",
            "==============================================================================\n",
            "Dep. Variable:                 TARGET   No. Observations:               307511\n",
            "Model:                          Logit   Df Residuals:                   307509\n",
            "Method:                           MLE   Df Model:                            1\n",
            "Date:                Sat, 31 Dec 2022   Pseudo R-squ.:                0.001712\n",
            "Time:                        12:23:30   Log-Likelihood:                -86123.\n",
            "converged:                       True   LL-Null:                       -86271.\n",
            "Covariance Type:            nonrobust   LLR p-value:                 3.428e-66\n",
            "==============================================================================\n",
            "                 coef    std err          z      P>|z|      [0.025      0.975]\n",
            "------------------------------------------------------------------------------\n",
            "const         -2.2617      0.012   -190.937      0.000      -2.285      -2.239\n",
            "Loan_AMT   -2.946e-07   1.75e-08    -16.825      0.000   -3.29e-07    -2.6e-07\n",
            "==============================================================================\n"
          ]
        }
      ]
    },
    {
      "cell_type": "markdown",
      "source": [
        "#p=value is <0.05 so Ho is rejected and it means that Loan_AMT  affect the person will default or not on loan repayment"
      ],
      "metadata": {
        "id": "u-h4cw8QIN-2"
      }
    }
  ]
}